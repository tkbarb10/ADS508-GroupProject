{
 "cells": [
  {
   "cell_type": "code",
   "execution_count": 2,
   "id": "30da63a0-99b3-4640-89cd-a92cd497e29b",
   "metadata": {},
   "outputs": [
    {
     "name": "stdout",
     "output_type": "stream",
     "text": [
      "sagemaker.config INFO - Not applying SDK defaults from location: /etc/xdg/sagemaker/config.yaml\n",
      "sagemaker.config INFO - Not applying SDK defaults from location: /home/sagemaker-user/.config/sagemaker/config.yaml\n"
     ]
    }
   ],
   "source": [
    "import boto3\n",
    "import sagemaker\n",
    "import pandas as pd\n",
    "\n",
    "sess = sagemaker.Session()\n",
    "bucket = sess.default_bucket()\n",
    "role = sagemaker.get_execution_role()\n",
    "region = boto3.Session().region_name"
   ]
  },
  {
   "cell_type": "code",
   "execution_count": 11,
   "id": "eaec1779-7772-4ac3-b71f-464e98bc51f1",
   "metadata": {},
   "outputs": [
    {
     "name": "stdout",
     "output_type": "stream",
     "text": [
      "download: s3://sagemaker-us-east-1-266917422334/data/lost_objects.csv to data-folder/lost_objects.csv\n"
     ]
    }
   ],
   "source": [
    "!aws s3 cp 's3://sagemaker-us-east-1-266917422334/data/lost_objects.csv' ./data-folder/"
   ]
  },
  {
   "cell_type": "code",
   "execution_count": 12,
   "id": "08dfd726-ec49-49c9-a748-beefe6a6de98",
   "metadata": {},
   "outputs": [],
   "source": [
    "df = pd.read_csv(\"data-folder/lost_objects.csv\")"
   ]
  },
  {
   "cell_type": "code",
   "execution_count": 13,
   "id": "81bf2cd3-a260-41e8-b408-f249bba2b14d",
   "metadata": {},
   "outputs": [
    {
     "data": {
      "text/plain": [
       "(2582, 8)"
      ]
     },
     "execution_count": 13,
     "metadata": {},
     "output_type": "execute_result"
    }
   ],
   "source": [
    "df.shape"
   ]
  },
  {
   "cell_type": "code",
   "execution_count": 14,
   "id": "554ed194-f791-4b54-ad4c-4d86d0835502",
   "metadata": {},
   "outputs": [
    {
     "data": {
      "text/html": [
       "<div>\n",
       "<style scoped>\n",
       "    .dataframe tbody tr th:only-of-type {\n",
       "        vertical-align: middle;\n",
       "    }\n",
       "\n",
       "    .dataframe tbody tr th {\n",
       "        vertical-align: top;\n",
       "    }\n",
       "\n",
       "    .dataframe thead th {\n",
       "        text-align: right;\n",
       "    }\n",
       "</style>\n",
       "<table border=\"1\" class=\"dataframe\">\n",
       "  <thead>\n",
       "    <tr style=\"text-align: right;\">\n",
       "      <th></th>\n",
       "      <th>International Designator</th>\n",
       "      <th>NORAD Catalog Number</th>\n",
       "      <th>Satellite Name</th>\n",
       "      <th>Source</th>\n",
       "      <th>Launch Date</th>\n",
       "      <th>Launch Site</th>\n",
       "      <th>Object Type</th>\n",
       "      <th>Last Data</th>\n",
       "    </tr>\n",
       "  </thead>\n",
       "  <tbody>\n",
       "    <tr>\n",
       "      <th>0</th>\n",
       "      <td>1960-009D</td>\n",
       "      <td>52.0</td>\n",
       "      <td>ECHO 1 DEB [MYLAR OBJ]</td>\n",
       "      <td>US</td>\n",
       "      <td>1960-08-12</td>\n",
       "      <td>AFETR</td>\n",
       "      <td>DEB</td>\n",
       "      <td>1991-03-25T14:23:57.069312</td>\n",
       "    </tr>\n",
       "    <tr>\n",
       "      <th>1</th>\n",
       "      <td>1963-039C</td>\n",
       "      <td>692.0</td>\n",
       "      <td>VELA 1</td>\n",
       "      <td>US</td>\n",
       "      <td>1963-10-17</td>\n",
       "      <td>AFETR</td>\n",
       "      <td>PAY-</td>\n",
       "      <td>2024-11-06T17:09:09.800928</td>\n",
       "    </tr>\n",
       "    <tr>\n",
       "      <th>2</th>\n",
       "      <td>1964-040A</td>\n",
       "      <td>836.0</td>\n",
       "      <td>OPS 3662 (VELA 3)</td>\n",
       "      <td>US</td>\n",
       "      <td>1964-07-17</td>\n",
       "      <td>AFETR</td>\n",
       "      <td>PAY-</td>\n",
       "      <td>2024-10-18T19:49:13.468512</td>\n",
       "    </tr>\n",
       "    <tr>\n",
       "      <th>3</th>\n",
       "      <td>1965-058A</td>\n",
       "      <td>1458.0</td>\n",
       "      <td>OPS 6577 (VELA 5)</td>\n",
       "      <td>US</td>\n",
       "      <td>1965-07-20</td>\n",
       "      <td>AFETR</td>\n",
       "      <td>PAY-</td>\n",
       "      <td>2025-01-24T09:01:13.708704</td>\n",
       "    </tr>\n",
       "    <tr>\n",
       "      <th>4</th>\n",
       "      <td>1965-058B</td>\n",
       "      <td>1459.0</td>\n",
       "      <td>OPS 6564 (VELA 6)</td>\n",
       "      <td>US</td>\n",
       "      <td>1965-07-20</td>\n",
       "      <td>AFETR</td>\n",
       "      <td>PAY-</td>\n",
       "      <td>2024-12-24T02:18:46.645344</td>\n",
       "    </tr>\n",
       "  </tbody>\n",
       "</table>\n",
       "</div>"
      ],
      "text/plain": [
       "  International Designator  NORAD Catalog Number          Satellite Name  \\\n",
       "0                1960-009D                  52.0  ECHO 1 DEB [MYLAR OBJ]   \n",
       "1                1963-039C                 692.0                  VELA 1   \n",
       "2                1964-040A                 836.0       OPS 3662 (VELA 3)   \n",
       "3                1965-058A                1458.0       OPS 6577 (VELA 5)   \n",
       "4                1965-058B                1459.0       OPS 6564 (VELA 6)   \n",
       "\n",
       "  Source Launch Date Launch Site Object Type                   Last Data  \n",
       "0     US  1960-08-12       AFETR         DEB  1991-03-25T14:23:57.069312  \n",
       "1     US  1963-10-17       AFETR        PAY-  2024-11-06T17:09:09.800928  \n",
       "2     US  1964-07-17       AFETR        PAY-  2024-10-18T19:49:13.468512  \n",
       "3     US  1965-07-20       AFETR        PAY-  2025-01-24T09:01:13.708704  \n",
       "4     US  1965-07-20       AFETR        PAY-  2024-12-24T02:18:46.645344  "
      ]
     },
     "execution_count": 14,
     "metadata": {},
     "output_type": "execute_result"
    }
   ],
   "source": [
    "df.head()"
   ]
  },
  {
   "cell_type": "code",
   "execution_count": 16,
   "id": "c97adc03-4ed7-43c4-8d7a-8bb8dc70cac1",
   "metadata": {},
   "outputs": [
    {
     "data": {
      "text/plain": [
       "Launch Site\n",
       "TYMSC    682\n",
       "TAISC    614\n",
       "PLMSC    469\n",
       "AFETR    325\n",
       "AFWTR    201\n",
       "XICLF    112\n",
       "FRGUI    107\n",
       "WLPIS     26\n",
       "SRILR     25\n",
       "TANSC      4\n",
       "JSC        4\n",
       "SEAL       3\n",
       "KSCUT      2\n",
       "KWAJ       2\n",
       "RLLB       2\n",
       "DLS        1\n",
       "ERAS       1\n",
       "WSC        1\n",
       "Name: count, dtype: int64"
      ]
     },
     "execution_count": 16,
     "metadata": {},
     "output_type": "execute_result"
    }
   ],
   "source": [
    "df['Launch Site'].value_counts()"
   ]
  },
  {
   "cell_type": "code",
   "execution_count": 20,
   "id": "c9d7f188-21af-4b2d-8c87-4f7cac40700b",
   "metadata": {},
   "outputs": [
    {
     "data": {
      "text/plain": [
       "<Axes: xlabel='Source'>"
      ]
     },
     "execution_count": 20,
     "metadata": {},
     "output_type": "execute_result"
    },
    {
     "data": {
      "image/png": "[encoded data removed]",
      "text/plain": [
       "<Figure size 640x480 with 1 Axes>"
      ]
     },
     "metadata": {},
     "output_type": "display_data"
    }
   ],
   "source": [
    "import matplotlib.pyplot as plt\n",
    "%matplotlib inline\n",
    "\n",
    "df[['Launch Site', 'Source']].groupby('Source').count().plot(kind = 'bar')"
   ]
  },
  {
   "cell_type": "code",
   "execution_count": 24,
   "id": "d9cb0634-5521-4a63-a03a-40c58c2fe6c8",
   "metadata": {},
   "outputs": [
    {
     "data": {
      "image/png": "[encoded data removed]",
      "text/plain": [
       "<Figure size 1500x500 with 1 Axes>"
      ]
     },
     "metadata": {},
     "output_type": "display_data"
    }
   ],
   "source": [
    "df['Launch Date'] = pd.to_datetime(df['Launch Date'])\n",
    "launch_counts = df.groupby(df['Launch Date'].dt.to_period(\"Y\"))['International Designator'].count()\n",
    "\n",
    "launch_counts.index = launch_counts.index.astype(str)\n",
    "\n",
    "plt.figure(figsize = (15,5))\n",
    "\n",
    "plt.plot(launch_counts.index, launch_counts.values, marker = 'o', linestyle = '-')\n",
    "\n",
    "plt.xticks(rotation = 45)\n",
    "\n",
    "plt.show()"
   ]
  },
  {
   "cell_type": "code",
   "execution_count": 25,
   "id": "9f9728e3-c4be-440c-86ae-2e177f2540e9",
   "metadata": {},
   "outputs": [
    {
     "data": {
      "text/plain": [
       "Object Type\n",
       "DEB     2492\n",
       "PAY-      37\n",
       "R/B       25\n",
       "PAY+      25\n",
       "UNK        2\n",
       "Name: count, dtype: int64"
      ]
     },
     "execution_count": 25,
     "metadata": {},
     "output_type": "execute_result"
    }
   ],
   "source": [
    "df['Object Type'].value_counts()"
   ]
  },
  {
   "cell_type": "code",
   "execution_count": 27,
   "id": "e263e9c1-a851-423f-a6c9-75675822737e",
   "metadata": {},
   "outputs": [
    {
     "name": "stdout",
     "output_type": "stream",
     "text": [
      "Collecting smclarify\n",
      "  Downloading smclarify-0.5-py3-none-any.whl.metadata (3.3 kB)\n",
      "Requirement already satisfied: boto3 in /opt/conda/lib/python3.11/site-packages (from smclarify) (1.36.3)\n",
      "Requirement already satisfied: pyarrow in /opt/conda/lib/python3.11/site-packages (from smclarify) (17.0.0)\n",
      "Requirement already satisfied: pandas in /opt/conda/lib/python3.11/site-packages (from smclarify) (2.2.3)\n",
      "Requirement already satisfied: s3fs in /opt/conda/lib/python3.11/site-packages (from smclarify) (2024.10.0)\n",
      "Requirement already satisfied: numpy in /opt/conda/lib/python3.11/site-packages (from smclarify) (1.26.4)\n",
      "Requirement already satisfied: scikit-learn in /opt/conda/lib/python3.11/site-packages (from smclarify) (1.5.2)\n",
      "Collecting pyfunctional (from smclarify)\n",
      "  Downloading pyfunctional-1.5.0-py3-none-any.whl.metadata (40 kB)\n",
      "Requirement already satisfied: botocore<1.37.0,>=1.36.3 in /opt/conda/lib/python3.11/site-packages (from boto3->smclarify) (1.36.3)\n",
      "Requirement already satisfied: jmespath<2.0.0,>=0.7.1 in /opt/conda/lib/python3.11/site-packages (from boto3->smclarify) (1.0.1)\n",
      "Requirement already satisfied: s3transfer<0.12.0,>=0.11.0 in /opt/conda/lib/python3.11/site-packages (from boto3->smclarify) (0.11.2)\n",
      "Requirement already satisfied: python-dateutil>=2.8.2 in /opt/conda/lib/python3.11/site-packages (from pandas->smclarify) (2.9.0.post0)\n",
      "Requirement already satisfied: pytz>=2020.1 in /opt/conda/lib/python3.11/site-packages (from pandas->smclarify) (2024.1)\n",
      "Requirement already satisfied: tzdata>=2022.7 in /opt/conda/lib/python3.11/site-packages (from pandas->smclarify) (2025.1)\n",
      "Requirement already satisfied: dill>=0.2.5 in /opt/conda/lib/python3.11/site-packages (from pyfunctional->smclarify) (0.3.9)\n",
      "Requirement already satisfied: tabulate<=1.0.0 in /opt/conda/lib/python3.11/site-packages (from pyfunctional->smclarify) (0.9.0)\n",
      "Requirement already satisfied: aiobotocore<3.0.0,>=2.5.4 in /opt/conda/lib/python3.11/site-packages (from s3fs->smclarify) (2.19.0)\n",
      "Requirement already satisfied: fsspec==2024.10.0.* in /opt/conda/lib/python3.11/site-packages (from s3fs->smclarify) (2024.10.0)\n",
      "Requirement already satisfied: aiohttp!=4.0.0a0,!=4.0.0a1 in /opt/conda/lib/python3.11/site-packages (from s3fs->smclarify) (3.9.5)\n",
      "Requirement already satisfied: scipy>=1.6.0 in /opt/conda/lib/python3.11/site-packages (from scikit-learn->smclarify) (1.15.1)\n",
      "Requirement already satisfied: joblib>=1.2.0 in /opt/conda/lib/python3.11/site-packages (from scikit-learn->smclarify) (1.4.2)\n",
      "Requirement already satisfied: threadpoolctl>=3.1.0 in /opt/conda/lib/python3.11/site-packages (from scikit-learn->smclarify) (3.5.0)\n",
      "Requirement already satisfied: aioitertools<1.0.0,>=0.5.1 in /opt/conda/lib/python3.11/site-packages (from aiobotocore<3.0.0,>=2.5.4->s3fs->smclarify) (0.12.0)\n",
      "Requirement already satisfied: multidict<7.0.0,>=6.0.0 in /opt/conda/lib/python3.11/site-packages (from aiobotocore<3.0.0,>=2.5.4->s3fs->smclarify) (6.1.0)\n",
      "Requirement already satisfied: urllib3!=2.2.0,<3,>=1.25.4 in /opt/conda/lib/python3.11/site-packages (from aiobotocore<3.0.0,>=2.5.4->s3fs->smclarify) (1.26.19)\n",
      "Requirement already satisfied: wrapt<2.0.0,>=1.10.10 in /opt/conda/lib/python3.11/site-packages (from aiobotocore<3.0.0,>=2.5.4->s3fs->smclarify) (1.17.2)\n",
      "Requirement already satisfied: aiosignal>=1.1.2 in /opt/conda/lib/python3.11/site-packages (from aiohttp!=4.0.0a0,!=4.0.0a1->s3fs->smclarify) (1.3.2)\n",
      "Requirement already satisfied: attrs>=17.3.0 in /opt/conda/lib/python3.11/site-packages (from aiohttp!=4.0.0a0,!=4.0.0a1->s3fs->smclarify) (23.2.0)\n",
      "Requirement already satisfied: frozenlist>=1.1.1 in /opt/conda/lib/python3.11/site-packages (from aiohttp!=4.0.0a0,!=4.0.0a1->s3fs->smclarify) (1.5.0)\n",
      "Requirement already satisfied: yarl<2.0,>=1.0 in /opt/conda/lib/python3.11/site-packages (from aiohttp!=4.0.0a0,!=4.0.0a1->s3fs->smclarify) (1.18.3)\n",
      "Requirement already satisfied: six>=1.5 in /opt/conda/lib/python3.11/site-packages (from python-dateutil>=2.8.2->pandas->smclarify) (1.17.0)\n",
      "Requirement already satisfied: idna>=2.0 in /opt/conda/lib/python3.11/site-packages (from yarl<2.0,>=1.0->aiohttp!=4.0.0a0,!=4.0.0a1->s3fs->smclarify) (3.10)\n",
      "Requirement already satisfied: propcache>=0.2.0 in /opt/conda/lib/python3.11/site-packages (from yarl<2.0,>=1.0->aiohttp!=4.0.0a0,!=4.0.0a1->s3fs->smclarify) (0.2.1)\n",
      "Downloading smclarify-0.5-py3-none-any.whl (30 kB)\n",
      "Downloading pyfunctional-1.5.0-py3-none-any.whl (53 kB)\n",
      "Installing collected packages: pyfunctional, smclarify\n",
      "Successfully installed pyfunctional-1.5.0 smclarify-0.5\n"
     ]
    }
   ],
   "source": [
    "!pip install smclarify"
   ]
  },
  {
   "cell_type": "code",
   "execution_count": 28,
   "id": "1dc7fc89-ff11-4a1a-8d8c-9a1c316f842f",
   "metadata": {},
   "outputs": [],
   "source": [
    "from smclarify.bias import report\n",
    "from typing import Dict\n",
    "from collections import defaultdict"
   ]
  },
  {
   "cell_type": "markdown",
   "id": "b9ea0ad6-ac67-4bd4-a08b-4963a766417a",
   "metadata": {},
   "source": [
    "# Bias report for Deb object between countries"
   ]
  },
  {
   "cell_type": "code",
   "execution_count": 34,
   "id": "f6ccd61d-e6f5-4ee1-9039-5584ebfab2ba",
   "metadata": {},
   "outputs": [],
   "source": [
    "facet_columns = report.FacetColumn(name = 'Source')\n",
    "\n",
    "label_column = report.LabelColumn(\n",
    "    name = 'Object Type',\n",
    "    series = df['Object Type'],\n",
    "    positive_label_values=['DEB']\n",
    ")"
   ]
  },
  {
   "cell_type": "code",
   "execution_count": 35,
   "id": "203ff9f2-8823-48ad-a474-54fcd25f8e9e",
   "metadata": {},
   "outputs": [
    {
     "name": "stderr",
     "output_type": "stream",
     "text": [
      "Data type of the elements in `positive_label_values` and in `label` must match. Converted positive_label_values from [nan] to ['nan']\n",
      "CI metrics failed\n",
      "Traceback (most recent call last):\n",
      "  File \"/opt/conda/lib/python3.11/site-packages/smclarify/bias/report.py\", line 323, in _categorical_metric_call_wrapper\n",
      "    metric_value = smclarify.bias.metrics.call_metric(\n",
      "                   ^^^^^^^^^^^^^^^^^^^^^^^^^^^^^^^^^^^\n",
      "  File \"/opt/conda/lib/python3.11/site-packages/smclarify/bias/metrics/__init__.py\", line 27, in call_metric\n",
      "    return metric(**{key: kwargs[key] for key in inspect.signature(metric).parameters.keys()})\n",
      "           ^^^^^^^^^^^^^^^^^^^^^^^^^^^^^^^^^^^^^^^^^^^^^^^^^^^^^^^^^^^^^^^^^^^^^^^^^^^^^^^^^^^\n",
      "  File \"/opt/conda/lib/python3.11/site-packages/smclarify/bias/metrics/pretraining.py\", line 53, in CI\n",
      "    raise ValueError(\"CI: facet set is empty. Check that x[facet] has non-zero length.\")\n",
      "ValueError: CI: facet set is empty. Check that x[facet] has non-zero length.\n",
      "Data type of the elements in `positive_label_values` and in `label` must match. Converted positive_label_values from [nan] to ['nan']\n",
      "DPL metrics failed\n",
      "Traceback (most recent call last):\n",
      "  File \"/opt/conda/lib/python3.11/site-packages/smclarify/bias/report.py\", line 323, in _categorical_metric_call_wrapper\n",
      "    metric_value = smclarify.bias.metrics.call_metric(\n",
      "                   ^^^^^^^^^^^^^^^^^^^^^^^^^^^^^^^^^^^\n",
      "  File \"/opt/conda/lib/python3.11/site-packages/smclarify/bias/metrics/__init__.py\", line 27, in call_metric\n",
      "    return metric(**{key: kwargs[key] for key in inspect.signature(metric).parameters.keys()})\n",
      "           ^^^^^^^^^^^^^^^^^^^^^^^^^^^^^^^^^^^^^^^^^^^^^^^^^^^^^^^^^^^^^^^^^^^^^^^^^^^^^^^^^^^\n",
      "  File \"/opt/conda/lib/python3.11/site-packages/smclarify/bias/metrics/pretraining.py\", line 71, in DPL\n",
      "    return common.DPL(feature, sensitive_facet_index, positive_label_index)\n",
      "           ^^^^^^^^^^^^^^^^^^^^^^^^^^^^^^^^^^^^^^^^^^^^^^^^^^^^^^^^^^^^^^^^\n",
      "  File \"/opt/conda/lib/python3.11/site-packages/smclarify/bias/metrics/common.py\", line 82, in DPL\n",
      "    raise ValueError(\"Facet set is empty.\")\n",
      "ValueError: Facet set is empty.\n",
      "Data type of the elements in `positive_label_values` and in `label` must match. Converted positive_label_values from [nan] to ['nan']\n",
      "JS metrics failed\n",
      "Traceback (most recent call last):\n",
      "  File \"/opt/conda/lib/python3.11/site-packages/smclarify/bias/report.py\", line 323, in _categorical_metric_call_wrapper\n",
      "    metric_value = smclarify.bias.metrics.call_metric(\n",
      "                   ^^^^^^^^^^^^^^^^^^^^^^^^^^^^^^^^^^^\n",
      "  File \"/opt/conda/lib/python3.11/site-packages/smclarify/bias/metrics/__init__.py\", line 27, in call_metric\n",
      "    return metric(**{key: kwargs[key] for key in inspect.signature(metric).parameters.keys()})\n",
      "           ^^^^^^^^^^^^^^^^^^^^^^^^^^^^^^^^^^^^^^^^^^^^^^^^^^^^^^^^^^^^^^^^^^^^^^^^^^^^^^^^^^^\n",
      "  File \"/opt/conda/lib/python3.11/site-packages/smclarify/bias/metrics/pretraining.py\", line 114, in JS\n",
      "    raise ValueError(\"No instance of common facet found, dataset may be too small\")\n",
      "ValueError: No instance of common facet found, dataset may be too small\n",
      "Data type of the elements in `positive_label_values` and in `label` must match. Converted positive_label_values from [nan] to ['nan']\n",
      "KL metrics failed\n",
      "Traceback (most recent call last):\n",
      "  File \"/opt/conda/lib/python3.11/site-packages/smclarify/bias/report.py\", line 323, in _categorical_metric_call_wrapper\n",
      "    metric_value = smclarify.bias.metrics.call_metric(\n",
      "                   ^^^^^^^^^^^^^^^^^^^^^^^^^^^^^^^^^^^\n",
      "  File \"/opt/conda/lib/python3.11/site-packages/smclarify/bias/metrics/__init__.py\", line 27, in call_metric\n",
      "    return metric(**{key: kwargs[key] for key in inspect.signature(metric).parameters.keys()})\n",
      "           ^^^^^^^^^^^^^^^^^^^^^^^^^^^^^^^^^^^^^^^^^^^^^^^^^^^^^^^^^^^^^^^^^^^^^^^^^^^^^^^^^^^\n",
      "  File \"/opt/conda/lib/python3.11/site-packages/smclarify/bias/metrics/pretraining.py\", line 91, in KL\n",
      "    raise ValueError(\"No instance of common facet found, dataset may be too small\")\n",
      "ValueError: No instance of common facet found, dataset may be too small\n",
      "Data type of the elements in `positive_label_values` and in `label` must match. Converted positive_label_values from [nan] to ['nan']\n",
      "KS metrics failed\n",
      "Traceback (most recent call last):\n",
      "  File \"/opt/conda/lib/python3.11/site-packages/smclarify/bias/report.py\", line 323, in _categorical_metric_call_wrapper\n",
      "    metric_value = smclarify.bias.metrics.call_metric(\n",
      "                   ^^^^^^^^^^^^^^^^^^^^^^^^^^^^^^^^^^^\n",
      "  File \"/opt/conda/lib/python3.11/site-packages/smclarify/bias/metrics/__init__.py\", line 27, in call_metric\n",
      "    return metric(**{key: kwargs[key] for key in inspect.signature(metric).parameters.keys()})\n",
      "           ^^^^^^^^^^^^^^^^^^^^^^^^^^^^^^^^^^^^^^^^^^^^^^^^^^^^^^^^^^^^^^^^^^^^^^^^^^^^^^^^^^^\n",
      "  File \"/opt/conda/lib/python3.11/site-packages/smclarify/bias/metrics/pretraining.py\", line 175, in KS\n",
      "    return LP_norm(label, sensitive_facet_index, np.inf)\n",
      "           ^^^^^^^^^^^^^^^^^^^^^^^^^^^^^^^^^^^^^^^^^^^^^\n",
      "  File \"/opt/conda/lib/python3.11/site-packages/smclarify/bias/metrics/pretraining.py\", line 141, in LP_norm\n",
      "    raise ValueError(\"No instance of common facet found, dataset may be too small\")\n",
      "ValueError: No instance of common facet found, dataset may be too small\n",
      "Data type of the elements in `positive_label_values` and in `label` must match. Converted positive_label_values from [nan] to ['nan']\n",
      "LP metrics failed\n",
      "Traceback (most recent call last):\n",
      "  File \"/opt/conda/lib/python3.11/site-packages/smclarify/bias/report.py\", line 323, in _categorical_metric_call_wrapper\n",
      "    metric_value = smclarify.bias.metrics.call_metric(\n",
      "                   ^^^^^^^^^^^^^^^^^^^^^^^^^^^^^^^^^^^\n",
      "  File \"/opt/conda/lib/python3.11/site-packages/smclarify/bias/metrics/__init__.py\", line 27, in call_metric\n",
      "    return metric(**{key: kwargs[key] for key in inspect.signature(metric).parameters.keys()})\n",
      "           ^^^^^^^^^^^^^^^^^^^^^^^^^^^^^^^^^^^^^^^^^^^^^^^^^^^^^^^^^^^^^^^^^^^^^^^^^^^^^^^^^^^\n",
      "  File \"/opt/conda/lib/python3.11/site-packages/smclarify/bias/metrics/pretraining.py\", line 132, in LP\n",
      "    return LP_norm(label, sensitive_facet_index, 2)\n",
      "           ^^^^^^^^^^^^^^^^^^^^^^^^^^^^^^^^^^^^^^^^\n",
      "  File \"/opt/conda/lib/python3.11/site-packages/smclarify/bias/metrics/pretraining.py\", line 141, in LP_norm\n",
      "    raise ValueError(\"No instance of common facet found, dataset may be too small\")\n",
      "ValueError: No instance of common facet found, dataset may be too small\n",
      "Data type of the elements in `positive_label_values` and in `label` must match. Converted positive_label_values from [nan] to ['nan']\n",
      "TVD metrics failed\n",
      "Traceback (most recent call last):\n",
      "  File \"/opt/conda/lib/python3.11/site-packages/smclarify/bias/report.py\", line 323, in _categorical_metric_call_wrapper\n",
      "    metric_value = smclarify.bias.metrics.call_metric(\n",
      "                   ^^^^^^^^^^^^^^^^^^^^^^^^^^^^^^^^^^^\n",
      "  File \"/opt/conda/lib/python3.11/site-packages/smclarify/bias/metrics/__init__.py\", line 27, in call_metric\n",
      "    return metric(**{key: kwargs[key] for key in inspect.signature(metric).parameters.keys()})\n",
      "           ^^^^^^^^^^^^^^^^^^^^^^^^^^^^^^^^^^^^^^^^^^^^^^^^^^^^^^^^^^^^^^^^^^^^^^^^^^^^^^^^^^^\n",
      "  File \"/opt/conda/lib/python3.11/site-packages/smclarify/bias/metrics/pretraining.py\", line 158, in TVD\n",
      "    Lp_res = LP_norm(label, sensitive_facet_index, 1)\n",
      "             ^^^^^^^^^^^^^^^^^^^^^^^^^^^^^^^^^^^^^^^^\n",
      "  File \"/opt/conda/lib/python3.11/site-packages/smclarify/bias/metrics/pretraining.py\", line 141, in LP_norm\n",
      "    raise ValueError(\"No instance of common facet found, dataset may be too small\")\n",
      "ValueError: No instance of common facet found, dataset may be too small\n"
     ]
    },
    {
     "data": {
      "text/plain": [
       "[{'value_or_threshold': 'US',\n",
       "  'metrics': [{'name': 'CI',\n",
       "    'description': 'Class Imbalance (CI)',\n",
       "    'value': 0.5453137103020914},\n",
       "   {'name': 'DPL',\n",
       "    'description': 'Difference in Positive Proportions in Labels (DPL)',\n",
       "    'value': 0.04749010516068697},\n",
       "   {'name': 'JS',\n",
       "    'description': 'Jensen-Shannon Divergence (JS)',\n",
       "    'value': 0.006463397007098092},\n",
       "   {'name': 'KL',\n",
       "    'description': 'Kullback-Liebler Divergence (KL)',\n",
       "    'value': 0.022462678522334804},\n",
       "   {'name': 'KS',\n",
       "    'description': 'Kolmogorov-Smirnov Distance (KS)',\n",
       "    'value': 0.047490105160687066},\n",
       "   {'name': 'LP',\n",
       "    'description': 'L-p Norm (LP)',\n",
       "    'value': 0.06716115079676808},\n",
       "   {'name': 'TVD',\n",
       "    'description': 'Total Variation Distance (TVD)',\n",
       "    'value': 0.04749010516068702}]},\n",
       " {'value_or_threshold': 'CIS',\n",
       "  'metrics': [{'name': 'CI',\n",
       "    'description': 'Class Imbalance (CI)',\n",
       "    'value': 0.13477924089852827},\n",
       "   {'name': 'DPL',\n",
       "    'description': 'Difference in Positive Proportions in Labels (DPL)',\n",
       "    'value': -0.04565495705525224},\n",
       "   {'name': 'JS',\n",
       "    'description': 'Jensen-Shannon Divergence (JS)',\n",
       "    'value': 0.009378563196950209},\n",
       "   {'name': 'KL',\n",
       "    'description': 'Kullback-Liebler Divergence (KL)',\n",
       "    'value': 0.05415626486964917},\n",
       "   {'name': 'KS',\n",
       "    'description': 'Kolmogorov-Smirnov Distance (KS)',\n",
       "    'value': 0.04565495705525224},\n",
       "   {'name': 'LP',\n",
       "    'description': 'L-p Norm (LP)',\n",
       "    'value': 0.06456585945709893},\n",
       "   {'name': 'TVD',\n",
       "    'description': 'Total Variation Distance (TVD)',\n",
       "    'value': 0.04565495705525223}]},\n",
       " {'value_or_threshold': 'JPN',\n",
       "  'metrics': [{'name': 'CI',\n",
       "    'description': 'Class Imbalance (CI)',\n",
       "    'value': 0.9938032532920217},\n",
       "   {'name': 'DPL',\n",
       "    'description': 'Difference in Positive Proportions in Labels (DPL)',\n",
       "    'value': 0.21581196581196582},\n",
       "   {'name': 'JS',\n",
       "    'description': 'Jensen-Shannon Divergence (JS)',\n",
       "    'value': 0.05307325993507181},\n",
       "   {'name': 'KL',\n",
       "    'description': 'Kullback-Liebler Divergence (KL)',\n",
       "    'value': 0.17622993349715715},\n",
       "   {'name': 'KS',\n",
       "    'description': 'Kolmogorov-Smirnov Distance (KS)',\n",
       "    'value': 0.21581196581196582},\n",
       "   {'name': 'LP', 'description': 'L-p Norm (LP)', 'value': 0.3052042089736808},\n",
       "   {'name': 'TVD',\n",
       "    'description': 'Total Variation Distance (TVD)',\n",
       "    'value': 0.21581196581196582}]},\n",
       " {'value_or_threshold': 'FR',\n",
       "  'metrics': [{'name': 'CI',\n",
       "    'description': 'Class Imbalance (CI)',\n",
       "    'value': 0.924864446165763},\n",
       "   {'name': 'DPL',\n",
       "    'description': 'Difference in Positive Proportions in Labels (DPL)',\n",
       "    'value': 0.006629467526810262},\n",
       "   {'name': 'JS',\n",
       "    'description': 'Jensen-Shannon Divergence (JS)',\n",
       "    'value': 0.00015076307891558386},\n",
       "   {'name': 'KL',\n",
       "    'description': 'Kullback-Liebler Divergence (KL)',\n",
       "    'value': 0.0005868596504232434},\n",
       "   {'name': 'KS',\n",
       "    'description': 'Kolmogorov-Smirnov Distance (KS)',\n",
       "    'value': 0.006629467526810345},\n",
       "   {'name': 'LP',\n",
       "    'description': 'L-p Norm (LP)',\n",
       "    'value': 0.009375482887727151},\n",
       "   {'name': 'TVD',\n",
       "    'description': 'Total Variation Distance (TVD)',\n",
       "    'value': 0.006629467526810304}]},\n",
       " {'value_or_threshold': 'UK',\n",
       "  'metrics': [{'name': 'CI',\n",
       "    'description': 'Class Imbalance (CI)',\n",
       "    'value': 0.9984508133230054},\n",
       "   {'name': 'DPL',\n",
       "    'description': 'Difference in Positive Proportions in Labels (DPL)',\n",
       "    'value': 0.9658914728682171},\n",
       "   {'name': 'JS',\n",
       "    'description': 'Jensen-Shannon Divergence (JS)',\n",
       "    'value': 0.28343999776350287},\n",
       "   {'name': 'KL',\n",
       "    'description': 'Kullback-Liebler Divergence (KL)',\n",
       "    'value': -0.11522569456685898},\n",
       "   {'name': 'KS',\n",
       "    'description': 'Kolmogorov-Smirnov Distance (KS)',\n",
       "    'value': 0.9658914728682171},\n",
       "   {'name': 'LP', 'description': 'L-p Norm (LP)', 'value': 0.9658914728682171},\n",
       "   {'name': 'TVD',\n",
       "    'description': 'Total Variation Distance (TVD)',\n",
       "    'value': 0.48294573643410854}]},\n",
       " {'value_or_threshold': 'CZCH',\n",
       "  'metrics': [{'name': 'CI',\n",
       "    'description': 'Class Imbalance (CI)',\n",
       "    'value': 0.9992254066615027},\n",
       "   {'name': 'DPL',\n",
       "    'description': 'Difference in Positive Proportions in Labels (DPL)',\n",
       "    'value': 0.9655172413793104},\n",
       "   {'name': 'JS',\n",
       "    'description': 'Jensen-Shannon Divergence (JS)',\n",
       "    'value': 0.2829322937334731},\n",
       "   {'name': 'KL',\n",
       "    'description': 'Kullback-Liebler Divergence (KL)',\n",
       "    'value': -0.1161136493098784},\n",
       "   {'name': 'KS',\n",
       "    'description': 'Kolmogorov-Smirnov Distance (KS)',\n",
       "    'value': 0.9655172413793104},\n",
       "   {'name': 'LP', 'description': 'L-p Norm (LP)', 'value': 0.9655172413793104},\n",
       "   {'name': 'TVD',\n",
       "    'description': 'Total Variation Distance (TVD)',\n",
       "    'value': 0.4827586206896552}]},\n",
       " {'value_or_threshold': 'PRC',\n",
       "  'metrics': [{'name': 'CI',\n",
       "    'description': 'Class Imbalance (CI)',\n",
       "    'value': 0.4384198295894655},\n",
       "   {'name': 'DPL',\n",
       "    'description': 'Difference in Positive Proportions in Labels (DPL)',\n",
       "    'value': -0.040794013332590584},\n",
       "   {'name': 'JS',\n",
       "    'description': 'Jensen-Shannon Divergence (JS)',\n",
       "    'value': 0.009390190852767981},\n",
       "   {'name': 'KL',\n",
       "    'description': 'Kullback-Liebler Divergence (KL)',\n",
       "    'value': 0.05858187961033968},\n",
       "   {'name': 'KS',\n",
       "    'description': 'Kolmogorov-Smirnov Distance (KS)',\n",
       "    'value': 0.040794013332590584},\n",
       "   {'name': 'LP',\n",
       "    'description': 'L-p Norm (LP)',\n",
       "    'value': 0.05769144691857846},\n",
       "   {'name': 'TVD',\n",
       "    'description': 'Total Variation Distance (TVD)',\n",
       "    'value': 0.04079401333259058}]},\n",
       " {'value_or_threshold': 'ESA',\n",
       "  'metrics': [{'name': 'CI',\n",
       "    'description': 'Class Imbalance (CI)',\n",
       "    'value': 0.9984508133230054},\n",
       "   {'name': 'DPL',\n",
       "    'description': 'Difference in Positive Proportions in Labels (DPL)',\n",
       "    'value': 0.9658914728682171},\n",
       "   {'name': 'JS',\n",
       "    'description': 'Jensen-Shannon Divergence (JS)',\n",
       "    'value': 0.28343999776350287},\n",
       "   {'name': 'KL',\n",
       "    'description': 'Kullback-Liebler Divergence (KL)',\n",
       "    'value': -0.11522569456685898},\n",
       "   {'name': 'KS',\n",
       "    'description': 'Kolmogorov-Smirnov Distance (KS)',\n",
       "    'value': 0.9658914728682171},\n",
       "   {'name': 'LP', 'description': 'L-p Norm (LP)', 'value': 0.9658914728682171},\n",
       "   {'name': 'TVD',\n",
       "    'description': 'Total Variation Distance (TVD)',\n",
       "    'value': 0.48294573643410854}]},\n",
       " {'value_or_threshold': 'IND',\n",
       "  'metrics': [{'name': 'CI',\n",
       "    'description': 'Class Imbalance (CI)',\n",
       "    'value': 0.9914794732765299},\n",
       "   {'name': 'DPL',\n",
       "    'description': 'Difference in Positive Proportions in Labels (DPL)',\n",
       "    'value': 0.33018634418867787},\n",
       "   {'name': 'JS',\n",
       "    'description': 'Jensen-Shannon Divergence (JS)',\n",
       "    'value': 0.0973666011353018},\n",
       "   {'name': 'KL',\n",
       "    'description': 'Kullback-Liebler Divergence (KL)',\n",
       "    'value': 0.3241668310975916},\n",
       "   {'name': 'KS',\n",
       "    'description': 'Kolmogorov-Smirnov Distance (KS)',\n",
       "    'value': 0.3301863441886779},\n",
       "   {'name': 'LP', 'description': 'L-p Norm (LP)', 'value': 0.4669540060620191},\n",
       "   {'name': 'TVD',\n",
       "    'description': 'Total Variation Distance (TVD)',\n",
       "    'value': 0.33018634418867787}]},\n",
       " {'value_or_threshold': 'CHBZ',\n",
       "  'metrics': [{'name': 'CI',\n",
       "    'description': 'Class Imbalance (CI)',\n",
       "    'value': 0.9953524399690162},\n",
       "   {'name': 'DPL',\n",
       "    'description': 'Difference in Positive Proportions in Labels (DPL)',\n",
       "    'value': -0.03493788819875776},\n",
       "   {'name': 'JS',\n",
       "    'description': 'Jensen-Shannon Divergence (JS)',\n",
       "    'value': 0.00015530302365825317},\n",
       "   {'name': 'KL',\n",
       "    'description': 'Kullback-Liebler Divergence (KL)',\n",
       "    'value': -0.03432032549371867},\n",
       "   {'name': 'KS',\n",
       "    'description': 'Kolmogorov-Smirnov Distance (KS)',\n",
       "    'value': 0.03493788819875776},\n",
       "   {'name': 'LP',\n",
       "    'description': 'L-p Norm (LP)',\n",
       "    'value': 0.03493788819875776},\n",
       "   {'name': 'TVD',\n",
       "    'description': 'Total Variation Distance (TVD)',\n",
       "    'value': 0.01746894409937888}]},\n",
       " {'value_or_threshold': 'SEAL',\n",
       "  'metrics': [{'name': 'CI',\n",
       "    'description': 'Class Imbalance (CI)',\n",
       "    'value': 0.9976762199845082},\n",
       "   {'name': 'DPL',\n",
       "    'description': 'Difference in Positive Proportions in Labels (DPL)',\n",
       "    'value': -0.03489724699495933},\n",
       "   {'name': 'JS',\n",
       "    'description': 'Jensen-Shannon Divergence (JS)',\n",
       "    'value': 0.0001549387001917122},\n",
       "   {'name': 'KL',\n",
       "    'description': 'Kullback-Liebler Divergence (KL)',\n",
       "    'value': -0.03428112874979867},\n",
       "   {'name': 'KS',\n",
       "    'description': 'Kolmogorov-Smirnov Distance (KS)',\n",
       "    'value': 0.03489724699495933},\n",
       "   {'name': 'LP',\n",
       "    'description': 'L-p Norm (LP)',\n",
       "    'value': 0.03489724699495933},\n",
       "   {'name': 'TVD',\n",
       "    'description': 'Total Variation Distance (TVD)',\n",
       "    'value': 0.017448623497479665}]},\n",
       " {'value_or_threshold': 'O3B',\n",
       "  'metrics': [{'name': 'CI',\n",
       "    'description': 'Class Imbalance (CI)',\n",
       "    'value': 0.9976762199845082},\n",
       "   {'name': 'DPL',\n",
       "    'description': 'Difference in Positive Proportions in Labels (DPL)',\n",
       "    'value': 0.9662659945715394},\n",
       "   {'name': 'JS',\n",
       "    'description': 'Jensen-Shannon Divergence (JS)',\n",
       "    'value': 0.28395008315131826},\n",
       "   {'name': 'KL',\n",
       "    'description': 'Kullback-Liebler Divergence (KL)',\n",
       "    'value': -0.11433294036011175},\n",
       "   {'name': 'KS',\n",
       "    'description': 'Kolmogorov-Smirnov Distance (KS)',\n",
       "    'value': 0.9662659945715394},\n",
       "   {'name': 'LP', 'description': 'L-p Norm (LP)', 'value': 0.9662659945715394},\n",
       "   {'name': 'TVD',\n",
       "    'description': 'Total Variation Distance (TVD)',\n",
       "    'value': 0.4831329972857697}]},\n",
       " {'value_or_threshold': 'GER',\n",
       "  'metrics': [{'name': 'CI',\n",
       "    'description': 'Class Imbalance (CI)',\n",
       "    'value': 0.9992254066615027},\n",
       "   {'name': 'DPL',\n",
       "    'description': 'Difference in Positive Proportions in Labels (DPL)',\n",
       "    'value': 0.9655172413793104},\n",
       "   {'name': 'JS',\n",
       "    'description': 'Jensen-Shannon Divergence (JS)',\n",
       "    'value': 0.2829322937334731},\n",
       "   {'name': 'KL',\n",
       "    'description': 'Kullback-Liebler Divergence (KL)',\n",
       "    'value': -0.1161136493098784},\n",
       "   {'name': 'KS',\n",
       "    'description': 'Kolmogorov-Smirnov Distance (KS)',\n",
       "    'value': 0.9655172413793104},\n",
       "   {'name': 'LP', 'description': 'L-p Norm (LP)', 'value': 0.9655172413793104},\n",
       "   {'name': 'TVD',\n",
       "    'description': 'Total Variation Distance (TVD)',\n",
       "    'value': 0.4827586206896552}]},\n",
       " {'value_or_threshold': 'EUME',\n",
       "  'metrics': [{'name': 'CI',\n",
       "    'description': 'Class Imbalance (CI)',\n",
       "    'value': 0.9992254066615027},\n",
       "   {'name': 'DPL',\n",
       "    'description': 'Difference in Positive Proportions in Labels (DPL)',\n",
       "    'value': -0.03487020534676477},\n",
       "   {'name': 'JS',\n",
       "    'description': 'Jensen-Shannon Divergence (JS)',\n",
       "    'value': 0.0001546965296665443},\n",
       "   {'name': 'KL',\n",
       "    'description': 'Kullback-Liebler Divergence (KL)',\n",
       "    'value': -0.03425504726112963},\n",
       "   {'name': 'KS',\n",
       "    'description': 'Kolmogorov-Smirnov Distance (KS)',\n",
       "    'value': 0.03487020534676477},\n",
       "   {'name': 'LP',\n",
       "    'description': 'L-p Norm (LP)',\n",
       "    'value': 0.03487020534676477},\n",
       "   {'name': 'TVD',\n",
       "    'description': 'Total Variation Distance (TVD)',\n",
       "    'value': 0.017435102673382386}]},\n",
       " {'value_or_threshold': 'INDO',\n",
       "  'metrics': [{'name': 'CI',\n",
       "    'description': 'Class Imbalance (CI)',\n",
       "    'value': 0.9992254066615027},\n",
       "   {'name': 'DPL',\n",
       "    'description': 'Difference in Positive Proportions in Labels (DPL)',\n",
       "    'value': 0.9655172413793104},\n",
       "   {'name': 'JS',\n",
       "    'description': 'Jensen-Shannon Divergence (JS)',\n",
       "    'value': 0.2829322937334731},\n",
       "   {'name': 'KL',\n",
       "    'description': 'Kullback-Liebler Divergence (KL)',\n",
       "    'value': -0.1161136493098784},\n",
       "   {'name': 'KS',\n",
       "    'description': 'Kolmogorov-Smirnov Distance (KS)',\n",
       "    'value': 0.9655172413793104},\n",
       "   {'name': 'LP', 'description': 'L-p Norm (LP)', 'value': 0.9655172413793104},\n",
       "   {'name': 'TVD',\n",
       "    'description': 'Total Variation Distance (TVD)',\n",
       "    'value': 0.4827586206896552}]},\n",
       " {'value_or_threshold': 'CA',\n",
       "  'metrics': [{'name': 'CI',\n",
       "    'description': 'Class Imbalance (CI)',\n",
       "    'value': 0.9992254066615027},\n",
       "   {'name': 'DPL',\n",
       "    'description': 'Difference in Positive Proportions in Labels (DPL)',\n",
       "    'value': 0.9655172413793104},\n",
       "   {'name': 'JS',\n",
       "    'description': 'Jensen-Shannon Divergence (JS)',\n",
       "    'value': 0.2829322937334731},\n",
       "   {'name': 'KL',\n",
       "    'description': 'Kullback-Liebler Divergence (KL)',\n",
       "    'value': -0.1161136493098784},\n",
       "   {'name': 'KS',\n",
       "    'description': 'Kolmogorov-Smirnov Distance (KS)',\n",
       "    'value': 0.9655172413793104},\n",
       "   {'name': 'LP', 'description': 'L-p Norm (LP)', 'value': 0.9655172413793104},\n",
       "   {'name': 'TVD',\n",
       "    'description': 'Total Variation Distance (TVD)',\n",
       "    'value': 0.4827586206896552}]},\n",
       " {'value_or_threshold': 'ITSO',\n",
       "  'metrics': [{'name': 'CI',\n",
       "    'description': 'Class Imbalance (CI)',\n",
       "    'value': 0.9984508133230054},\n",
       "   {'name': 'DPL',\n",
       "    'description': 'Difference in Positive Proportions in Labels (DPL)',\n",
       "    'value': -0.03488372093023251},\n",
       "   {'name': 'JS',\n",
       "    'description': 'Jensen-Shannon Divergence (JS)',\n",
       "    'value': 0.00015481754389913734},\n",
       "   {'name': 'KL',\n",
       "    'description': 'Kullback-Liebler Divergence (KL)',\n",
       "    'value': -0.034268083045622205},\n",
       "   {'name': 'KS',\n",
       "    'description': 'Kolmogorov-Smirnov Distance (KS)',\n",
       "    'value': 0.03488372093023251},\n",
       "   {'name': 'LP',\n",
       "    'description': 'L-p Norm (LP)',\n",
       "    'value': 0.03488372093023251},\n",
       "   {'name': 'TVD',\n",
       "    'description': 'Total Variation Distance (TVD)',\n",
       "    'value': 0.017441860465116255}]},\n",
       " {'value_or_threshold': 'ORB',\n",
       "  'metrics': [{'name': 'CI',\n",
       "    'description': 'Class Imbalance (CI)',\n",
       "    'value': 0.9992254066615027},\n",
       "   {'name': 'DPL',\n",
       "    'description': 'Difference in Positive Proportions in Labels (DPL)',\n",
       "    'value': -0.03487020534676477},\n",
       "   {'name': 'JS',\n",
       "    'description': 'Jensen-Shannon Divergence (JS)',\n",
       "    'value': 0.0001546965296665443},\n",
       "   {'name': 'KL',\n",
       "    'description': 'Kullback-Liebler Divergence (KL)',\n",
       "    'value': -0.03425504726112963},\n",
       "   {'name': 'KS',\n",
       "    'description': 'Kolmogorov-Smirnov Distance (KS)',\n",
       "    'value': 0.03487020534676477},\n",
       "   {'name': 'LP',\n",
       "    'description': 'L-p Norm (LP)',\n",
       "    'value': 0.03487020534676477},\n",
       "   {'name': 'TVD',\n",
       "    'description': 'Total Variation Distance (TVD)',\n",
       "    'value': 0.017435102673382386}]},\n",
       " {'value_or_threshold': 'SING',\n",
       "  'metrics': [{'name': 'CI',\n",
       "    'description': 'Class Imbalance (CI)',\n",
       "    'value': 0.9953524399690162},\n",
       "   {'name': 'DPL',\n",
       "    'description': 'Difference in Positive Proportions in Labels (DPL)',\n",
       "    'value': 0.967391304347826},\n",
       "   {'name': 'JS',\n",
       "    'description': 'Jensen-Shannon Divergence (JS)',\n",
       "    'value': 0.28549490981336667},\n",
       "   {'name': 'KL',\n",
       "    'description': 'Kullback-Liebler Divergence (KL)',\n",
       "    'value': -0.11162531375155207},\n",
       "   {'name': 'KS',\n",
       "    'description': 'Kolmogorov-Smirnov Distance (KS)',\n",
       "    'value': 0.967391304347826},\n",
       "   {'name': 'LP', 'description': 'L-p Norm (LP)', 'value': 0.967391304347826},\n",
       "   {'name': 'TVD',\n",
       "    'description': 'Total Variation Distance (TVD)',\n",
       "    'value': 0.483695652173913}]},\n",
       " {'value_or_threshold': 'IT',\n",
       "  'metrics': [{'name': 'CI',\n",
       "    'description': 'Class Imbalance (CI)',\n",
       "    'value': 0.9984508133230054},\n",
       "   {'name': 'DPL',\n",
       "    'description': 'Difference in Positive Proportions in Labels (DPL)',\n",
       "    'value': 0.9658914728682171},\n",
       "   {'name': 'JS',\n",
       "    'description': 'Jensen-Shannon Divergence (JS)',\n",
       "    'value': 0.28343999776350287},\n",
       "   {'name': 'KL',\n",
       "    'description': 'Kullback-Liebler Divergence (KL)',\n",
       "    'value': -0.11522569456685898},\n",
       "   {'name': 'KS',\n",
       "    'description': 'Kolmogorov-Smirnov Distance (KS)',\n",
       "    'value': 0.9658914728682171},\n",
       "   {'name': 'LP', 'description': 'L-p Norm (LP)', 'value': 0.9658914728682171},\n",
       "   {'name': 'TVD',\n",
       "    'description': 'Total Variation Distance (TVD)',\n",
       "    'value': 0.48294573643410854}]},\n",
       " {'value_or_threshold': 'SVN',\n",
       "  'metrics': [{'name': 'CI',\n",
       "    'description': 'Class Imbalance (CI)',\n",
       "    'value': 0.9992254066615027},\n",
       "   {'name': 'DPL',\n",
       "    'description': 'Difference in Positive Proportions in Labels (DPL)',\n",
       "    'value': 0.9655172413793104},\n",
       "   {'name': 'JS',\n",
       "    'description': 'Jensen-Shannon Divergence (JS)',\n",
       "    'value': 0.2829322937334731},\n",
       "   {'name': 'KL',\n",
       "    'description': 'Kullback-Liebler Divergence (KL)',\n",
       "    'value': -0.1161136493098784},\n",
       "   {'name': 'KS',\n",
       "    'description': 'Kolmogorov-Smirnov Distance (KS)',\n",
       "    'value': 0.9655172413793104},\n",
       "   {'name': 'LP', 'description': 'L-p Norm (LP)', 'value': 0.9655172413793104},\n",
       "   {'name': 'TVD',\n",
       "    'description': 'Total Variation Distance (TVD)',\n",
       "    'value': 0.4827586206896552}]},\n",
       " {'value_or_threshold': 'TBD',\n",
       "  'metrics': [{'name': 'CI',\n",
       "    'description': 'Class Imbalance (CI)',\n",
       "    'value': 0.9984508133230054},\n",
       "   {'name': 'DPL',\n",
       "    'description': 'Difference in Positive Proportions in Labels (DPL)',\n",
       "    'value': 0.9658914728682171},\n",
       "   {'name': 'JS',\n",
       "    'description': 'Jensen-Shannon Divergence (JS)',\n",
       "    'value': 0.28343999776350287},\n",
       "   {'name': 'KL',\n",
       "    'description': 'Kullback-Liebler Divergence (KL)',\n",
       "    'value': -0.11522569456685898},\n",
       "   {'name': 'KS',\n",
       "    'description': 'Kolmogorov-Smirnov Distance (KS)',\n",
       "    'value': 0.9658914728682171},\n",
       "   {'name': 'LP', 'description': 'L-p Norm (LP)', 'value': 0.9658914728682171},\n",
       "   {'name': 'TVD',\n",
       "    'description': 'Total Variation Distance (TVD)',\n",
       "    'value': 0.48294573643410854}]},\n",
       " {'value_or_threshold': 'NOR',\n",
       "  'metrics': [{'name': 'CI',\n",
       "    'description': 'Class Imbalance (CI)',\n",
       "    'value': 0.9992254066615027},\n",
       "   {'name': 'DPL',\n",
       "    'description': 'Difference in Positive Proportions in Labels (DPL)',\n",
       "    'value': 0.9655172413793104},\n",
       "   {'name': 'JS',\n",
       "    'description': 'Jensen-Shannon Divergence (JS)',\n",
       "    'value': 0.2829322937334731},\n",
       "   {'name': 'KL',\n",
       "    'description': 'Kullback-Liebler Divergence (KL)',\n",
       "    'value': -0.1161136493098784},\n",
       "   {'name': 'KS',\n",
       "    'description': 'Kolmogorov-Smirnov Distance (KS)',\n",
       "    'value': 0.9655172413793104},\n",
       "   {'name': 'LP', 'description': 'L-p Norm (LP)', 'value': 0.9655172413793104},\n",
       "   {'name': 'TVD',\n",
       "    'description': 'Total Variation Distance (TVD)',\n",
       "    'value': 0.4827586206896552}]},\n",
       " {'value_or_threshold': 'nan',\n",
       "  'metrics': [{'name': 'CI',\n",
       "    'description': 'Class Imbalance (CI)',\n",
       "    'value': None,\n",
       "    'error': 'CI: facet set is empty. Check that x[facet] has non-zero length.'},\n",
       "   {'name': 'DPL',\n",
       "    'description': 'Difference in Positive Proportions in Labels (DPL)',\n",
       "    'value': None,\n",
       "    'error': 'Facet set is empty.'},\n",
       "   {'name': 'JS',\n",
       "    'description': 'Jensen-Shannon Divergence (JS)',\n",
       "    'value': None,\n",
       "    'error': 'No instance of common facet found, dataset may be too small'},\n",
       "   {'name': 'KL',\n",
       "    'description': 'Kullback-Liebler Divergence (KL)',\n",
       "    'value': None,\n",
       "    'error': 'No instance of common facet found, dataset may be too small'},\n",
       "   {'name': 'KS',\n",
       "    'description': 'Kolmogorov-Smirnov Distance (KS)',\n",
       "    'value': None,\n",
       "    'error': 'No instance of common facet found, dataset may be too small'},\n",
       "   {'name': 'LP',\n",
       "    'description': 'L-p Norm (LP)',\n",
       "    'value': None,\n",
       "    'error': 'No instance of common facet found, dataset may be too small'},\n",
       "   {'name': 'TVD',\n",
       "    'description': 'Total Variation Distance (TVD)',\n",
       "    'value': None,\n",
       "    'error': 'No instance of common facet found, dataset may be too small'}]}]"
      ]
     },
     "execution_count": 35,
     "metadata": {},
     "output_type": "execute_result"
    }
   ],
   "source": [
    "report.bias_report(\n",
    "    df = df,\n",
    "    facet_column=facet_columns,\n",
    "    label_column=label_column,\n",
    "    stage_type=report.StageType.PRE_TRAINING,\n",
    "    metrics=[\"CI\", \"DPL\", \"KL\", \"JS\", \"LP\", \"TVD\", \"KS\"]\n",
    ")"
   ]
  },
  {
   "cell_type": "code",
   "execution_count": 36,
   "id": "c069984d-bfb0-407c-a063-873104ddd71b",
   "metadata": {},
   "outputs": [],
   "source": [
    "sm = boto3.Session().client(service_name=\"sagemaker\", region_name=region)"
   ]
  },
  {
   "cell_type": "code",
   "execution_count": 37,
   "id": "9e53f17c-dc9e-411b-a533-3916ace63fd5",
   "metadata": {},
   "outputs": [],
   "source": [
    "from sagemaker import clarify"
   ]
  },
  {
   "cell_type": "code",
   "execution_count": 45,
   "id": "12062662-51da-4c2a-b4aa-0ae80387928d",
   "metadata": {},
   "outputs": [
    {
     "name": "stderr",
     "output_type": "stream",
     "text": [
      "INFO:sagemaker.image_uris:Defaulting to the only supported framework/algorithm version: 1.0.\n",
      "INFO:sagemaker.image_uris:Ignoring unnecessary instance type: None.\n"
     ]
    }
   ],
   "source": [
    "clarify_processor = clarify.SageMakerClarifyProcessor(\n",
    "    role=role, \n",
    "    instance_count=1, \n",
    "    instance_type=\"ml.c5.xlarge\", \n",
    "    sagemaker_session=sess\n",
    ")"
   ]
  },
  {
   "cell_type": "code",
   "execution_count": 46,
   "id": "0f8acf93-a0bd-4c9e-93af-359b39d731c8",
   "metadata": {},
   "outputs": [],
   "source": [
    "bias_report_output = \"s3://{}/clarify-space\".format(bucket)\n",
    "\n",
    "bias_data_config = clarify.DataConfig(\n",
    "    s3_data_input_path=\"data-folder/lost_objects.csv\",\n",
    "    s3_output_path=bias_report_output,\n",
    "    label=\"Object Type\",\n",
    "    headers=df.columns.to_list(),\n",
    "    dataset_type=\"text/csv\",\n",
    ")"
   ]
  },
  {
   "cell_type": "code",
   "execution_count": 47,
   "id": "e0a2d876-9b0b-4612-9d89-2c92230c85d0",
   "metadata": {},
   "outputs": [],
   "source": [
    "bias_config = clarify.BiasConfig(\n",
    "    label_values_or_threshold=['DEB'],\n",
    "    facet_name=\"Source\",\n",
    "    facet_values_or_threshold=[\"US\"],\n",
    ")"
   ]
  },
  {
   "cell_type": "code",
   "execution_count": 48,
   "id": "f78ed94f-c345-45eb-8fab-f002cf01b210",
   "metadata": {},
   "outputs": [
    {
     "name": "stderr",
     "output_type": "stream",
     "text": [
      "INFO:sagemaker.clarify:Analysis Config: {'dataset_type': 'text/csv', 'headers': ['International Designator', 'NORAD Catalog Number', 'Satellite Name', 'Source', 'Launch Date', 'Launch Site', 'Object Type', 'Last Data'], 'label': 'Object Type', 'label_values_or_threshold': ['DEB'], 'facet': [{'name_or_index': 'Source', 'value_or_threshold': ['US']}], 'methods': {'report': {'name': 'report', 'title': 'Analysis Report'}, 'pre_training_bias': {'methods': ['CI', 'DPL', 'KL', 'JS', 'LP', 'TVD', 'KS']}}}\n",
      "INFO:sagemaker:Creating processing-job with name Clarify-Pretraining-Bias-2025-03-14-20-05-48-955\n"
     ]
    },
    {
     "data": {
      "text/plain": [
       "'Clarify-Pretraining-Bias-2025-03-14-20-05-48-955'"
      ]
     },
     "execution_count": 48,
     "metadata": {},
     "output_type": "execute_result"
    }
   ],
   "source": [
    "clarify_processor.run_pre_training_bias(\n",
    "    data_config=bias_data_config, \n",
    "    data_bias_config=bias_config, \n",
    "    methods=[\"CI\", \"DPL\", \"KL\", \"JS\", \"LP\", \"TVD\", \"KS\"],\n",
    "    wait=False, \n",
    "    logs=False\n",
    ")\n",
    "\n",
    "run_pre_training_bias_processing_job_name = clarify_processor.latest_job.job_name\n",
    "run_pre_training_bias_processing_job_name"
   ]
  },
  {
   "cell_type": "code",
   "execution_count": 49,
   "id": "00d7593e-9a36-44d7-bf89-d7076c60d3dc",
   "metadata": {},
   "outputs": [
    {
     "name": "stderr",
     "output_type": "stream",
     "text": [
      "/tmp/ipykernel_205/604350854.py:1: DeprecationWarning: Importing display from IPython.core.display is deprecated since IPython 7.14, please import from IPython.display\n",
      "  from IPython.core.display import display, HTML\n"
     ]
    },
    {
     "data": {
      "text/html": [
       "<b>Review <a target=\"blank\" href=\"https://console.aws.amazon.com/sagemaker/home?region=us-east-1#/processing-jobs/Clarify-Pretraining-Bias-2025-03-14-20-05-48-955\">Processing Job</a></b>"
      ],
      "text/plain": [
       "<IPython.core.display.HTML object>"
      ]
     },
     "metadata": {},
     "output_type": "display_data"
    }
   ],
   "source": [
    "from IPython.display import display, HTML\n",
    "\n",
    "display(\n",
    "    HTML(\n",
    "        '<b>Review <a target=\"blank\" href=\"https://console.aws.amazon.com/sagemaker/home?region={}#/processing-jobs/{}\">Processing Job</a></b>'.format(\n",
    "            region, run_pre_training_bias_processing_job_name\n",
    "        )\n",
    "    )\n",
    ")"
   ]
  },
  {
   "cell_type": "code",
   "execution_count": 54,
   "id": "22667400-0584-4b8e-8029-12c5566d0b4f",
   "metadata": {},
   "outputs": [
    {
     "data": {
      "text/html": [
       "<b>Review <a target=\"blank\" href=\"https://console.aws.amazon.com/cloudwatch/home?region=us-east-1#logStream:group=/aws/sagemaker/ProcessingJobs;prefix=Clarify-Pretraining-Bias-2025-03-14-20-05-48-955;streamFilter=typeLogStreamPrefix\">CloudWatch Logs</a> After About 5 Minutes</b>"
      ],
      "text/plain": [
       "<IPython.core.display.HTML object>"
      ]
     },
     "metadata": {},
     "output_type": "display_data"
    }
   ],
   "source": [
    "from IPython.display import display, HTML\n",
    "\n",
    "display(\n",
    "    HTML(\n",
    "        '<b>Review <a target=\"blank\" href=\"https://console.aws.amazon.com/cloudwatch/home?region={}#logStream:group=/aws/sagemaker/ProcessingJobs;prefix={};streamFilter=typeLogStreamPrefix\">CloudWatch Logs</a> After About 5 Minutes</b>'.format(\n",
    "            region, run_pre_training_bias_processing_job_name\n",
    "        )\n",
    "    )\n",
    ")"
   ]
  },
  {
   "cell_type": "code",
   "execution_count": 51,
   "id": "17c0dfad-30cb-4a78-ab9a-26baa89e8979",
   "metadata": {},
   "outputs": [
    {
     "data": {
      "text/html": [
       "<b>Review <a target=\"blank\" href=\"https://s3.console.aws.amazon.com/s3/buckets/sagemaker-us-east-1-266917422334/Clarify-Pretraining-Bias-2025-03-14-20-05-48-955/?region=us-east-1&tab=overview\">S3 Output Data</a> After The Processing Job Has Completed</b>"
      ],
      "text/plain": [
       "<IPython.core.display.HTML object>"
      ]
     },
     "metadata": {},
     "output_type": "display_data"
    }
   ],
   "source": [
    "from IPython.display import display, HTML\n",
    "\n",
    "display(\n",
    "    HTML(\n",
    "        '<b>Review <a target=\"blank\" href=\"https://s3.console.aws.amazon.com/s3/buckets/{}/{}/?region={}&tab=overview\">S3 Output Data</a> After The Processing Job Has Completed</b>'.format(\n",
    "            bucket, run_pre_training_bias_processing_job_name, region\n",
    "        )\n",
    "    )\n",
    ")"
   ]
  },
  {
   "cell_type": "code",
   "execution_count": 52,
   "id": "4515f6b2-c5fe-4fbf-a6a2-4e54016093a9",
   "metadata": {},
   "outputs": [
    {
     "name": "stdout",
     "output_type": "stream",
     "text": [
      "{'ProcessingInputs': [{'InputName': 'dataset', 'AppManaged': False, 'S3Input': {'S3Uri': 's3://sagemaker-us-east-1-266917422334/Clarify-Pretraining-Bias-2025-03-14-20-05-48-955/input/dataset/lost_objects.csv', 'LocalPath': '/opt/ml/processing/input/data', 'S3DataType': 'S3Prefix', 'S3InputMode': 'File', 'S3DataDistributionType': 'FullyReplicated', 'S3CompressionType': 'None'}}, {'InputName': 'analysis_config', 'AppManaged': False, 'S3Input': {'S3Uri': 's3://sagemaker-us-east-1-266917422334/clarify-space/analysis_config.json', 'LocalPath': '/opt/ml/processing/input/config', 'S3DataType': 'S3Prefix', 'S3InputMode': 'File', 'S3DataDistributionType': 'FullyReplicated', 'S3CompressionType': 'None'}}], 'ProcessingOutputConfig': {'Outputs': [{'OutputName': 'analysis_result', 'S3Output': {'S3Uri': 's3://sagemaker-us-east-1-266917422334/clarify-space', 'LocalPath': '/opt/ml/processing/output', 'S3UploadMode': 'EndOfJob'}, 'AppManaged': False}]}, 'ProcessingJobName': 'Clarify-Pretraining-Bias-2025-03-14-20-05-48-955', 'ProcessingResources': {'ClusterConfig': {'InstanceCount': 1, 'InstanceType': 'ml.c5.xlarge', 'VolumeSizeInGB': 30}}, 'StoppingCondition': {'MaxRuntimeInSeconds': 86400}, 'AppSpecification': {'ImageUri': '205585389593.dkr.ecr.us-east-1.amazonaws.com/sagemaker-clarify-processing:1.0'}, 'RoleArn': 'arn:aws:iam::266917422334:role/LabRole', 'ProcessingJobArn': 'arn:aws:sagemaker:us-east-1:266917422334:processing-job/Clarify-Pretraining-Bias-2025-03-14-20-05-48-955', 'ProcessingJobStatus': 'InProgress', 'ProcessingStartTime': datetime.datetime(2025, 3, 14, 20, 6, 23, tzinfo=tzlocal()), 'LastModifiedTime': datetime.datetime(2025, 3, 14, 20, 8, 20, 398000, tzinfo=tzlocal()), 'CreationTime': datetime.datetime(2025, 3, 14, 20, 5, 49, 238000, tzinfo=tzlocal()), 'ResponseMetadata': {'RequestId': '74e693df-bf99-443d-bcd9-1c4f6f18c2a9', 'HTTPStatusCode': 200, 'HTTPHeaders': {'x-amzn-requestid': '74e693df-bf99-443d-bcd9-1c4f6f18c2a9', 'content-type': 'application/x-amz-json-1.1', 'content-length': '1756', 'date': 'Fri, 14 Mar 2025 20:08:40 GMT'}, 'RetryAttempts': 0}}\n"
     ]
    }
   ],
   "source": [
    "running_processor = sagemaker.processing.ProcessingJob.from_processing_name(\n",
    "    processing_job_name=run_pre_training_bias_processing_job_name, sagemaker_session=sess\n",
    ")\n",
    "\n",
    "processing_job_description = running_processor.describe()\n",
    "\n",
    "print(processing_job_description)"
   ]
  },
  {
   "cell_type": "code",
   "execution_count": 53,
   "id": "0537e662-d205-4e14-a055-ca24879ed9ce",
   "metadata": {},
   "outputs": [
    {
     "name": "stdout",
     "output_type": "stream",
     "text": [
      ".........................!"
     ]
    }
   ],
   "source": [
    "running_processor.wait(logs=False)"
   ]
  },
  {
   "cell_type": "code",
   "execution_count": 57,
   "id": "5a78cc99-76ef-4143-8a30-ec56d1bbd781",
   "metadata": {},
   "outputs": [
    {
     "name": "stdout",
     "output_type": "stream",
     "text": [
      "2025-03-14 20:09:54       1951 analysis.json\n",
      "2025-03-14 20:05:49        462 analysis_config.json\n",
      "2025-03-14 20:09:54     527095 report.html\n",
      "2025-03-14 20:09:54     254660 report.ipynb\n",
      "2025-03-14 20:09:54     254244 report.pdf\n"
     ]
    }
   ],
   "source": [
    "!aws s3 ls $bias_report_output/"
   ]
  },
  {
   "cell_type": "code",
   "execution_count": 58,
   "id": "f1ddf34a-9904-497b-acc7-112a0ce31f93",
   "metadata": {},
   "outputs": [
    {
     "name": "stdout",
     "output_type": "stream",
     "text": [
      "download: s3://sagemaker-us-east-1-266917422334/clarify-space/analysis_config.json to generated_bias_report/analysis_config.json\n",
      "download: s3://sagemaker-us-east-1-266917422334/clarify-space/analysis.json to generated_bias_report/analysis.json\n",
      "download: s3://sagemaker-us-east-1-266917422334/clarify-space/report.ipynb to generated_bias_report/report.ipynb\n",
      "download: s3://sagemaker-us-east-1-266917422334/clarify-space/report.pdf to generated_bias_report/report.pdf\n",
      "download: s3://sagemaker-us-east-1-266917422334/clarify-space/report.html to generated_bias_report/report.html\n"
     ]
    }
   ],
   "source": [
    "!aws s3 cp --recursive $bias_report_output ./generated_bias_report/"
   ]
  },
  {
   "cell_type": "code",
   "execution_count": null,
   "id": "334e3879-502f-4215-bb8c-acc90e53c9c4",
   "metadata": {},
   "outputs": [],
   "source": []
  }
 ],
 "metadata": {
  "kernelspec": {
   "display_name": "Python 3 (ipykernel)",
   "language": "python",
   "name": "python3"
  },
  "language_info": {
   "codemirror_mode": {
    "name": "ipython",
    "version": 3
   },
   "file_extension": ".py",
   "mimetype": "text/x-python",
   "name": "python",
   "nbconvert_exporter": "python",
   "pygments_lexer": "ipython3",
   "version": "3.11.11"
  }
 },
 "nbformat": 4,
 "nbformat_minor": 5
}
