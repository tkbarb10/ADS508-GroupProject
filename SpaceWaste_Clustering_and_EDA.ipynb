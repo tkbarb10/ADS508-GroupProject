{
 "cells": [
  {
   "cell_type": "code",
   "execution_count": 5,
   "metadata": {},
   "outputs": [
    {
     "name": "stdout",
     "output_type": "stream",
     "text": [
      "ESA: (68124, 7)\n",
      "SATCAT: (58503, 17)\n",
      "LOST: (2539, 8)\n",
      "LEO: (22956, 22)\n",
      "COLLISION: (80377, 14)\n"
     ]
    }
   ],
   "source": [
    "# Loading the cleaned datasets\n",
    "import pandas as pd\n",
    "\n",
    "collision_df = pd.read_csv(\"clean_collision_data.csv\")\n",
    "esa_df = pd.read_csv(\"clean_esa_data.csv\")\n",
    "full_satcat_df = pd.read_csv(\"clean_full_satcat_data.csv\")\n",
    "lost_objects_df = pd.read_csv(\"clean_lost_objects_data.csv\")\n",
    "loe_objects_df = pd.read_csv(\"clean_leo_objects_data.csv\")\n",
    "\n",
    "# Printing for preview\n",
    "print(\"ESA:\", esa_df.shape)\n",
    "print(\"SATCAT:\", full_satcat_df.shape)\n",
    "print(\"LOST:\", lost_objects_df.shape)\n",
    "print(\"LEO:\", loe_objects_df.shape)\n",
    "print(\"COLLISION:\", collision_df.shape)"
   ]
  },
  {
   "cell_type": "markdown",
   "metadata": {},
   "source": [
    "# **Step 1: Combining Key Features Across Datasets**\n",
    "\n",
    "Standardizing the column names\n",
    "\n",
    "Adding a source column to keep track of each dataset and combining them using pd.concat() on selected columns like object name, type/class, and maybe epoch or launch date."
   ]
  },
  {
   "cell_type": "code",
   "execution_count": 6,
   "metadata": {},
   "outputs": [],
   "source": [
    "# Adding a source column to each\n",
    "esa_df['source'] = 'ESA'\n",
    "full_satcat_df['source'] = 'SATCAT'\n",
    "lost_objects_df['source'] = 'LOST'\n",
    "loe_objects_df['source'] = 'LEO'"
   ]
  },
  {
   "cell_type": "code",
   "execution_count": 8,
   "metadata": {},
   "outputs": [],
   "source": [
    "# Adding base class mapping to align object types\n",
    "base_class_mapping = {\n",
    "    'PAYLOAD': 'PAYLOAD',\n",
    "    'DEBRIS': 'DEBRIS',\n",
    "    'ROCKET BODY': 'ROCKET BODY',\n",
    "    'ROCKETBODY': 'ROCKET BODY',\n",
    "    'UNKNOWN': 'UNKNOWN',\n",
    "    'OTHER': 'UNKNOWN',\n",
    "    'TBA': 'UNKNOWN',\n",
    "    'CROSSOVER': 'UNKNOWN'\n",
    "}\n",
    "\n",
    "# Applying mapping to full_satcat_df and lost_objects_df\n",
    "full_satcat_df['object_type_base'] = full_satcat_df['object_type'].str.upper().map(base_class_mapping).fillna('UNKNOWN')\n",
    "lost_objects_df['object_type_base'] = lost_objects_df['object_type'].str.upper().map(base_class_mapping).fillna('UNKNOWN')"
   ]
  },
  {
   "cell_type": "code",
   "execution_count": 10,
   "metadata": {},
   "outputs": [],
   "source": [
    "# Standardizing and selecting the relevant columns\n",
    "esa_df_small = esa_df[['name', 'objectClass_base', 'firstEpoch', 'source']].rename(columns={\n",
    "    'name': 'object_name',\n",
    "    'objectClass_base': 'object_type',\n",
    "    'firstEpoch': 'timestamp'\n",
    "})\n",
    "\n",
    "full_satcat_df_small = full_satcat_df[['object_name', 'object_type_base', 'source']].rename(columns={\n",
    "    'object_type_base': 'object_type'\n",
    "})\n",
    "\n",
    "lost_objects_df_small = lost_objects_df[['satellite_name', 'object_type_base', 'launch_date', 'source']].rename(columns={\n",
    "    'satellite_name': 'object_name',\n",
    "    'object_type_base': 'object_type',\n",
    "    'launch_date': 'timestamp'\n",
    "})\n",
    "\n",
    "loe_objects_df_small = loe_objects_df[['launch', 'site', 'source']].rename(columns={\n",
    "    'launch': 'timestamp',\n",
    "    'site': 'object_name'\n",
    "})\n",
    "loe_objects_df_small['object_type'] = 'UNKNOWN'  # placeholder"
   ]
  },
  {
   "cell_type": "code",
   "execution_count": 12,
   "metadata": {},
   "outputs": [
    {
     "name": "stdout",
     "output_type": "stream",
     "text": [
      "Combined dataset shape: (152122, 4)\n"
     ]
    },
    {
     "data": {
      "application/vnd.microsoft.datawrangler.viewer.v0+json": {
       "columns": [
        {
         "name": "index",
         "rawType": "int64",
         "type": "integer"
        },
        {
         "name": "object_name",
         "rawType": "object",
         "type": "string"
        },
        {
         "name": "object_type",
         "rawType": "object",
         "type": "string"
        },
        {
         "name": "timestamp",
         "rawType": "object",
         "type": "string"
        },
        {
         "name": "source",
         "rawType": "object",
         "type": "string"
        }
       ],
       "conversionMethod": "pd.DataFrame",
       "ref": "f673c15b-0728-448d-bddf-4a493b4cb744",
       "rows": [
        [
         "0",
         "Calsphere 1",
         "PAYLOAD",
         "1964-10-06",
         "ESA"
        ],
        [
         "1",
         "Calsphere 2",
         "PAYLOAD",
         "1964-10-06",
         "ESA"
        ],
        [
         "2",
         "LCS 1",
         "PAYLOAD",
         "1965-05-06",
         "ESA"
        ],
        [
         "3",
         "Tempsat 1",
         "PAYLOAD",
         "1965-08-13",
         "ESA"
        ],
        [
         "4",
         "Calsphere 4",
         "PAYLOAD",
         "1965-08-13",
         "ESA"
        ]
       ],
       "shape": {
        "columns": 4,
        "rows": 5
       }
      },
      "text/html": [
       "<div>\n",
       "<style scoped>\n",
       "    .dataframe tbody tr th:only-of-type {\n",
       "        vertical-align: middle;\n",
       "    }\n",
       "\n",
       "    .dataframe tbody tr th {\n",
       "        vertical-align: top;\n",
       "    }\n",
       "\n",
       "    .dataframe thead th {\n",
       "        text-align: right;\n",
       "    }\n",
       "</style>\n",
       "<table border=\"1\" class=\"dataframe\">\n",
       "  <thead>\n",
       "    <tr style=\"text-align: right;\">\n",
       "      <th></th>\n",
       "      <th>object_name</th>\n",
       "      <th>object_type</th>\n",
       "      <th>timestamp</th>\n",
       "      <th>source</th>\n",
       "    </tr>\n",
       "  </thead>\n",
       "  <tbody>\n",
       "    <tr>\n",
       "      <th>0</th>\n",
       "      <td>Calsphere 1</td>\n",
       "      <td>PAYLOAD</td>\n",
       "      <td>1964-10-06</td>\n",
       "      <td>ESA</td>\n",
       "    </tr>\n",
       "    <tr>\n",
       "      <th>1</th>\n",
       "      <td>Calsphere 2</td>\n",
       "      <td>PAYLOAD</td>\n",
       "      <td>1964-10-06</td>\n",
       "      <td>ESA</td>\n",
       "    </tr>\n",
       "    <tr>\n",
       "      <th>2</th>\n",
       "      <td>LCS 1</td>\n",
       "      <td>PAYLOAD</td>\n",
       "      <td>1965-05-06</td>\n",
       "      <td>ESA</td>\n",
       "    </tr>\n",
       "    <tr>\n",
       "      <th>3</th>\n",
       "      <td>Tempsat 1</td>\n",
       "      <td>PAYLOAD</td>\n",
       "      <td>1965-08-13</td>\n",
       "      <td>ESA</td>\n",
       "    </tr>\n",
       "    <tr>\n",
       "      <th>4</th>\n",
       "      <td>Calsphere 4</td>\n",
       "      <td>PAYLOAD</td>\n",
       "      <td>1965-08-13</td>\n",
       "      <td>ESA</td>\n",
       "    </tr>\n",
       "  </tbody>\n",
       "</table>\n",
       "</div>"
      ],
      "text/plain": [
       "   object_name object_type   timestamp source\n",
       "0  Calsphere 1     PAYLOAD  1964-10-06    ESA\n",
       "1  Calsphere 2     PAYLOAD  1964-10-06    ESA\n",
       "2        LCS 1     PAYLOAD  1965-05-06    ESA\n",
       "3    Tempsat 1     PAYLOAD  1965-08-13    ESA\n",
       "4  Calsphere 4     PAYLOAD  1965-08-13    ESA"
      ]
     },
     "execution_count": 12,
     "metadata": {},
     "output_type": "execute_result"
    }
   ],
   "source": [
    "# Combining all into one DataFrame\n",
    "combined_df = pd.concat([\n",
    "    esa_df_small,\n",
    "    full_satcat_df_small,\n",
    "    lost_objects_df_small,\n",
    "    loe_objects_df_small\n",
    "], ignore_index=True)\n",
    "\n",
    "# Dropping the rows with missing object_type\n",
    "combined_df = combined_df.dropna(subset=['object_type'])\n",
    "\n",
    "print(\"Combined dataset shape:\", combined_df.shape)\n",
    "combined_df.head()"
   ]
  },
  {
   "cell_type": "code",
   "execution_count": null,
   "metadata": {},
   "outputs": [
    {
     "data": {
      "image/png": "[encoded data removed]",
      "text/plain": [
       "<Figure size 800x500 with 1 Axes>"
      ]
     },
     "metadata": {},
     "output_type": "display_data"
    }
   ],
   "source": [
    "# Ploting object type distribution\n",
    "import matplotlib.pyplot as plt\n",
    "import seaborn as sns\n",
    "\n",
    "plt.figure(figsize=(8, 5))\n",
    "sns.countplot(data=combined_df, x='object_type', order=combined_df['object_type'].value_counts().index)\n",
    "plt.title(\"Object Type Distribution\")\n",
    "plt.xlabel(\"Object Type\")\n",
    "plt.ylabel(\"Count\")\n",
    "plt.xticks(rotation=45)\n",
    "plt.tight_layout()\n",
    "plt.show()"
   ]
  },
  {
   "cell_type": "code",
   "execution_count": null,
   "metadata": {},
   "outputs": [
    {
     "data": {
      "image/png": "[encoded data removed]",
      "text/plain": [
       "<Figure size 800x500 with 1 Axes>"
      ]
     },
     "metadata": {},
     "output_type": "display_data"
    }
   ],
   "source": [
    "# Ploting object frequency by year\n",
    "combined_df['timestamp'] = pd.to_datetime(combined_df['timestamp'], errors='coerce')\n",
    "\n",
    "# Drop rows with invalid dates (NaT)\n",
    "combined_df = combined_df.dropna(subset=['timestamp'])\n",
    "\n",
    "combined_df['year'] = combined_df['timestamp'].dt.year\n",
    "plt.figure(figsize=(8, 5))\n",
    "sns.histplot(data=combined_df, x='year', hue='object_type', multiple='stack', bins=50)\n",
    "plt.title(\"Objects Over Time by Type\")\n",
    "plt.xlabel(\"Year\")\n",
    "plt.ylabel(\"Count\")\n",
    "plt.tight_layout()\n",
    "plt.show()"
   ]
  },
  {
   "cell_type": "code",
   "execution_count": 15,
   "metadata": {},
   "outputs": [],
   "source": [
    "from sklearn.preprocessing import LabelEncoder\n",
    "\n",
    "# Encoding the object type and source\n",
    "combined_df['object_type_encoded'] = LabelEncoder().fit_transform(combined_df['object_type'])\n",
    "combined_df['source_encoded'] = LabelEncoder().fit_transform(combined_df['source'])\n",
    "\n",
    "# Final dataframe for clustering\n",
    "features_df = combined_df[['year', 'object_type_encoded', 'source_encoded']].dropna()\n",
    "\n",
    "# Saving to CSV\n",
    "features_df.to_csv(\"space_objects_kmeans.csv\", index=False)"
   ]
  }
 ],
 "metadata": {
  "kernelspec": {
   "display_name": "Python 3",
   "language": "python",
   "name": "python3"
  },
  "language_info": {
   "codemirror_mode": {
    "name": "ipython",
    "version": 3
   },
   "file_extension": ".py",
   "mimetype": "text/x-python",
   "name": "python",
   "nbconvert_exporter": "python",
   "pygments_lexer": "ipython3",
   "version": "3.12.9"
  }
 },
 "nbformat": 4,
 "nbformat_minor": 2
}
