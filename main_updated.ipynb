{
 "cells": [
  {
   "cell_type": "code",
   "execution_count": 1,
   "metadata": {},
   "outputs": [
    {
     "name": "stderr",
     "output_type": "stream",
     "text": [
      "/opt/conda/lib/python3.11/site-packages/pydantic/_internal/_fields.py:192: UserWarning: Field name \"json\" in \"MonitoringDatasetFormat\" shadows an attribute in parent \"Base\"\n",
      "  warnings.warn(\n"
     ]
    },
    {
     "name": "stdout",
     "output_type": "stream",
     "text": [
      "sagemaker.config INFO - Not applying SDK defaults from location: /etc/xdg/sagemaker/config.yaml\n",
      "sagemaker.config INFO - Not applying SDK defaults from location: /home/sagemaker-user/.config/sagemaker/config.yaml\n"
     ]
    }
   ],
   "source": [
    "import boto3\n",
    "import pandas as pd\n",
    "import seaborn as sns\n",
    "import matplotlib.pyplot as plt\n",
    "import numpy as np\n",
    "import requests\n",
    "from pyathena import connect\n",
    "import io\n",
    "from bs4 import BeautifulSoup\n",
    "from scipy.stats import zscore\n",
    "from collections import Counter\n",
    "from imblearn.over_sampling import SMOTE\n",
    "from sklearn.preprocessing import OneHotEncoder\n",
    "from sklearn.ensemble import RandomForestClassifier\n",
    "from sklearn.model_selection import train_test_split\n",
    "from sklearn.utils.class_weight import compute_class_weight\n",
    "from tqdm import tqdm\n",
    "from dotenv import load_dotenv\n",
    "import re\n",
    "import os\n",
    "import sagemaker\n",
    "import s3fs\n",
    "import warnings\n",
    "warnings.filterwarnings('ignore')"
   ]
  },
  {
   "cell_type": "code",
   "execution_count": 4,
   "metadata": {},
   "outputs": [],
   "source": [
    "sess = sagemaker.Session()\n",
    "bucket = sess.default_bucket()\n",
    "role = sagemaker.get_execution_role()\n",
    "region = boto3.Session().region_name\n",
    "account_id = boto3.client(\"sts\").get_caller_identity().get(\"Account\")\n",
    "\n",
    "sm = boto3.Session().client(service_name=\"sagemaker\", region_name=region)"
   ]
  },
  {
   "cell_type": "markdown",
   "metadata": {
    "jp-MarkdownHeadingCollapsed": true
   },
   "source": [
    "# Data Extraction"
   ]
  },
  {
   "cell_type": "markdown",
   "metadata": {},
   "source": [
    "## Retrieving European Space Agency (ESA) Data"
   ]
  },
  {
   "cell_type": "code",
   "execution_count": null,
   "metadata": {},
   "outputs": [],
   "source": [
    "load_dotenv()\n",
    "\n",
    "# API Endpoint\n",
    "esa_api_url = \"https://discosweb.esoc.esa.int/api/objects\"\n",
    "\n",
    "# Your Personal Access Token\n",
    "token = os.getenv('esa_token')\n",
    "\n",
    "# Set up authentication headers\n",
    "headers = {\n",
    "    \"Authorization\": f\"Bearer {token}\",\n",
    "    \"DiscosWeb-Api-Version\": \"2\",\n",
    "    \"Accept\": \"application/vnd.api+json\"\n",
    "}\n",
    "\n",
    "# Query Parameters (Retrieving all object attributes)\n",
    "params = {\n",
    "    \"page[size]\": 100,  # Max allowed per page\n",
    "}\n",
    "\n",
    "# List to store all object records\n",
    "all_data = []\n",
    "page = 1  # Start with page 1\n",
    "\n",
    "with tqdm(desc=\"Fetching Data\", unit=\" records\", smoothing=0.1) as pbar:\n",
    "    while True:\n",
    "        params[\"page[number]\"] = page  # Set current page number\n",
    "        response = requests.get(esa_api_url, headers=headers, params=params)\n",
    "\n",
    "        if response.status_code == 200:\n",
    "            data = response.json()\n",
    "            \n",
    "            if \"data\" in data and data[\"data\"]:\n",
    "                all_data.extend(data[\"data\"])  # Store raw data\n",
    "                pbar.update(len(data[\"data\"]))  # Update progress bar\n",
    "            else:\n",
    "                break  # Stop if no more data\n",
    "            \n",
    "            page += 1  # Move to next page\n",
    "        else:\n",
    "            print(f\"❌ Error: {response.status_code}, {response.text}\")\n",
    "            break\n",
    "\n",
    "# Extract all object attributes\n",
    "esa_df = pd.DataFrame([obj[\"attributes\"] for obj in all_data])\n",
    "\n",
    "# Save as Parquet for efficiency\n",
    "# esa_df.to_parquet(\"data/raw data/full_esa_data.parquet\", index=False)\n",
    "\n",
    "print(f\"✅ Retrieved {len(satcat_df)} records and saved as Parquet!\")"
   ]
  },
  {
   "cell_type": "markdown",
   "metadata": {},
   "source": [
    "## Scrape Lost Object Data from CelesTrek"
   ]
  },
  {
   "cell_type": "code",
   "execution_count": 1,
   "metadata": {},
   "outputs": [
    {
     "ename": "NameError",
     "evalue": "name 'requests' is not defined",
     "output_type": "error",
     "traceback": [
      "\u001b[31m---------------------------------------------------------------------------\u001b[39m",
      "\u001b[31mNameError\u001b[39m                                 Traceback (most recent call last)",
      "\u001b[36mCell\u001b[39m\u001b[36m \u001b[39m\u001b[32mIn[1]\u001b[39m\u001b[32m, line 8\u001b[39m\n\u001b[32m      5\u001b[39m all_rows = []\n\u001b[32m      7\u001b[39m \u001b[38;5;66;03m# Fetch the first page to determine pagination\u001b[39;00m\n\u001b[32m----> \u001b[39m\u001b[32m8\u001b[39m response = \u001b[43mrequests\u001b[49m.get(base_url)\n\u001b[32m      9\u001b[39m \u001b[38;5;28;01mif\u001b[39;00m response.status_code != \u001b[32m200\u001b[39m:\n\u001b[32m     10\u001b[39m     \u001b[38;5;28mprint\u001b[39m(\u001b[33mf\u001b[39m\u001b[33m\"\u001b[39m\u001b[33mFailed to retrieve data: \u001b[39m\u001b[38;5;132;01m{\u001b[39;00mresponse.status_code\u001b[38;5;132;01m}\u001b[39;00m\u001b[33m\"\u001b[39m)\n",
      "\u001b[31mNameError\u001b[39m: name 'requests' is not defined"
     ]
    }
   ],
   "source": [
    "# Base URL for lost satellites\n",
    "base_url = \"https://celestrak.org/satcat/lost.php\"\n",
    "\n",
    "# Initialize empty list to store data\n",
    "all_rows = []\n",
    "\n",
    "# Fetch the first page to determine pagination\n",
    "response = requests.get(base_url)\n",
    "if response.status_code != 200:\n",
    "    print(f\"Failed to retrieve data: {response.status_code}\")\n",
    "else:\n",
    "    soup = BeautifulSoup(response.text, \"html.parser\")\n",
    "\n",
    "    # Find the total number of pages (if pagination exists)\n",
    "    pagination = soup.find(\"div\", class_=\"pagination\")\n",
    "    if pagination:\n",
    "        pages = [a.text for a in pagination.find_all(\"a\") if a.text.isdigit()]\n",
    "        total_pages = max(map(int, pages)) if pages else 1\n",
    "    else:\n",
    "        total_pages = 1  # If no pagination, assume one page\n",
    "\n",
    "    print(f\"Total pages found: {total_pages}\")\n",
    "\n",
    "    # Loop through all pages\n",
    "    for page in range(1, total_pages + 1):\n",
    "        print(f\"Scraping page {page}...\")\n",
    "        page_url = f\"{base_url}?page={page}\" if total_pages > 1 else base_url\n",
    "        response = requests.get(page_url)\n",
    "        \n",
    "        if response.status_code != 200:\n",
    "            print(f\"Failed to retrieve page {page}: {response.status_code}\")\n",
    "            continue\n",
    "        \n",
    "        soup = BeautifulSoup(response.text, \"html.parser\")\n",
    "        table = soup.find(\"table\")\n",
    "        \n",
    "        if table:\n",
    "            # Extract headers from first page only\n",
    "            if page == 1:\n",
    "                headers = [header.text.strip() for header in table.find_all(\"th\")]\n",
    "\n",
    "            # Extract data rows\n",
    "            for row in table.find_all(\"tr\")[1:]:  # Skip header row\n",
    "                cols = [col.text.strip() for col in row.find_all(\"td\")]\n",
    "                if cols:\n",
    "                    all_rows.append(cols)\n",
    "\n",
    "# Convert to DataFrame\n",
    "lost_object_satcat_df = pd.DataFrame(all_rows, columns=headers)\n",
    "\n",
    "#Ingest to folder\n",
    "lost_object_satcat_df.to_csv(\"data/raw data/lost_objects.csv\", index = False)\n"
   ]
  },
  {
   "cell_type": "markdown",
   "metadata": {},
   "source": [
    "## Retrieve Low Earth Object data from Space Track"
   ]
  },
  {
   "cell_type": "code",
   "execution_count": null,
   "metadata": {},
   "outputs": [],
   "source": [
    "# Space-Track login credentials\n",
    "USERNAME = os.getenv('user')\n",
    "PASSWORD = os.getenv('pass')\n",
    "\n",
    "# Space-Track API URL for querying LEO satellites (sample query from website)\n",
    "url = \"https://www.space-track.org/basicspacedata/query/class/satcat/PERIOD/<128/DECAY/null-val/CURRENT/Y/\"\n",
    "\n",
    "# Create a session for authentication\n",
    "session = requests.Session()\n",
    "\n",
    "# Authenticate with space-track.org\n",
    "login_url = \"https://www.space-track.org/ajaxauth/login\"\n",
    "login_data = {\"identity\": USERNAME, \"password\": PASSWORD}\n",
    "session.post(login_url, data=login_data)\n",
    "\n",
    "# Fetch JSON data\n",
    "response = session.get(url)\n",
    "\n",
    "# Ensure request was successful\n",
    "if response.status_code == 200:\n",
    "    json_data = response.json()  # Convert response to JSON format\n",
    "\n",
    "    # Convert JSON to Pandas DataFrame\n",
    "    leo_satcat_df = pd.DataFrame(json_data)\n",
    "\n",
    "    #leo_satcat_df.to_csv(\"data/raw data/leo_objects.csv\", index = False)\n",
    "\n",
    "else:\n",
    "    print(\"Failed to retrieve data. Check credentials or API access.\")\n",
    "    print(response.text)\n"
   ]
  },
  {
   "cell_type": "markdown",
   "metadata": {},
   "source": [
    "# Ingest into s3 bucket"
   ]
  },
  {
   "cell_type": "code",
   "execution_count": 5,
   "metadata": {},
   "outputs": [
    {
     "name": "stdout",
     "output_type": "stream",
     "text": [
      "upload: data/raw data/full_esa_data.parquet to s3://sagemaker-us-east-1-662949783070/data/raw_data/full_esa_folder/full_esa_data.parquet\n",
      "upload: data/raw data/full_satcat.csv to s3://sagemaker-us-east-1-662949783070/data/raw_data/satcat_folder/full_satcat.csv\n",
      "upload: data/raw data/leo_objects.csv to s3://sagemaker-us-east-1-662949783070/data/raw_data/leo_objects_folder/leo_objects.csv\n",
      "upload: data/raw data/lost_objects.csv to s3://sagemaker-us-east-1-662949783070/data/raw_data/lost_objects_folder/lost_objects.csv\n",
      "upload: data/raw data/simplified_collision_data.csv to s3://sagemaker-us-east-1-662949783070/data/raw_data/simplified_collision_folder/simplified_collision_data.csv\n"
     ]
    }
   ],
   "source": [
    "!aws s3 cp \"data/raw data/full_esa_data.parquet\" \"s3://{bucket}/data/raw_data/full_esa_folder/\"\n",
    "!aws s3 cp \"data/raw data/full_satcat.csv\" \"s3://{bucket}/data/raw_data/satcat_folder/\"\n",
    "!aws s3 cp \"data/raw data/leo_objects.csv\" \"s3://{bucket}/data/raw_data/leo_objects_folder/\"\n",
    "!aws s3 cp \"data/raw data/lost_objects.csv\" \"s3://{bucket}/data/raw_data/lost_objects_folder/\"\n",
    "!aws s3 cp \"data/raw data/simplified_collision_data.csv\" \"s3://{bucket}/data/raw_data/simplified_collision_folder/\""
   ]
  },
  {
   "cell_type": "markdown",
   "metadata": {
    "jp-MarkdownHeadingCollapsed": true
   },
   "source": [
    "# EDA"
   ]
  },
  {
   "cell_type": "markdown",
   "metadata": {},
   "source": [
    "## Full ESA"
   ]
  },
  {
   "cell_type": "code",
   "execution_count": null,
   "metadata": {},
   "outputs": [],
   "source": [
    "df = pd.read_parquet('Data to use/full_esa_data.parquet')"
   ]
  },
  {
   "cell_type": "code",
   "execution_count": 3,
   "metadata": {},
   "outputs": [
    {
     "data": {
      "text/html": [
       "<div>\n",
       "<style scoped>\n",
       "    .dataframe tbody tr th:only-of-type {\n",
       "        vertical-align: middle;\n",
       "    }\n",
       "\n",
       "    .dataframe tbody tr th {\n",
       "        vertical-align: top;\n",
       "    }\n",
       "\n",
       "    .dataframe thead th {\n",
       "        text-align: right;\n",
       "    }\n",
       "</style>\n",
       "<table border=\"1\" class=\"dataframe\">\n",
       "  <thead>\n",
       "    <tr style=\"text-align: right;\">\n",
       "      <th></th>\n",
       "      <th>count</th>\n",
       "      <th>mean</th>\n",
       "      <th>std</th>\n",
       "      <th>min</th>\n",
       "      <th>25%</th>\n",
       "      <th>50%</th>\n",
       "      <th>75%</th>\n",
       "      <th>max</th>\n",
       "    </tr>\n",
       "  </thead>\n",
       "  <tbody>\n",
       "    <tr>\n",
       "      <th>vimpelId</th>\n",
       "      <td>14933.0</td>\n",
       "      <td>95640.434943</td>\n",
       "      <td>45331.952486</td>\n",
       "      <td>9600.000000</td>\n",
       "      <td>69211.000000</td>\n",
       "      <td>79106.000000</td>\n",
       "      <td>141218.000000</td>\n",
       "      <td>1.346400e+06</td>\n",
       "    </tr>\n",
       "    <tr>\n",
       "      <th>satno</th>\n",
       "      <td>63052.0</td>\n",
       "      <td>31543.718455</td>\n",
       "      <td>18220.717310</td>\n",
       "      <td>1.000000</td>\n",
       "      <td>15766.750000</td>\n",
       "      <td>31534.500000</td>\n",
       "      <td>47302.250000</td>\n",
       "      <td>6.315500e+04</td>\n",
       "    </tr>\n",
       "    <tr>\n",
       "      <th>mass</th>\n",
       "      <td>34050.0</td>\n",
       "      <td>1807.384763</td>\n",
       "      <td>7269.503234</td>\n",
       "      <td>0.001500</td>\n",
       "      <td>130.820000</td>\n",
       "      <td>500.000000</td>\n",
       "      <td>1600.000000</td>\n",
       "      <td>4.500000e+05</td>\n",
       "    </tr>\n",
       "    <tr>\n",
       "      <th>width</th>\n",
       "      <td>18430.0</td>\n",
       "      <td>2.231862</td>\n",
       "      <td>2.070336</td>\n",
       "      <td>0.000000</td>\n",
       "      <td>0.400000</td>\n",
       "      <td>2.200000</td>\n",
       "      <td>3.700000</td>\n",
       "      <td>7.280000e+01</td>\n",
       "    </tr>\n",
       "    <tr>\n",
       "      <th>height</th>\n",
       "      <td>32680.0</td>\n",
       "      <td>3.278075</td>\n",
       "      <td>5.173099</td>\n",
       "      <td>0.001000</td>\n",
       "      <td>0.300000</td>\n",
       "      <td>1.200000</td>\n",
       "      <td>5.500000</td>\n",
       "      <td>6.000000e+01</td>\n",
       "    </tr>\n",
       "    <tr>\n",
       "      <th>depth</th>\n",
       "      <td>18403.0</td>\n",
       "      <td>1.888098</td>\n",
       "      <td>2.977385</td>\n",
       "      <td>0.012000</td>\n",
       "      <td>0.500000</td>\n",
       "      <td>1.500000</td>\n",
       "      <td>2.700000</td>\n",
       "      <td>1.085000e+02</td>\n",
       "    </tr>\n",
       "    <tr>\n",
       "      <th>diameter</th>\n",
       "      <td>14809.0</td>\n",
       "      <td>2.309130</td>\n",
       "      <td>1.438350</td>\n",
       "      <td>0.001000</td>\n",
       "      <td>1.400000</td>\n",
       "      <td>2.400000</td>\n",
       "      <td>3.000000</td>\n",
       "      <td>4.114000e+01</td>\n",
       "    </tr>\n",
       "    <tr>\n",
       "      <th>span</th>\n",
       "      <td>32380.0</td>\n",
       "      <td>9.730365</td>\n",
       "      <td>152.026790</td>\n",
       "      <td>0.020000</td>\n",
       "      <td>1.500000</td>\n",
       "      <td>6.500000</td>\n",
       "      <td>8.990000</td>\n",
       "      <td>1.920000e+04</td>\n",
       "    </tr>\n",
       "    <tr>\n",
       "      <th>xSectMax</th>\n",
       "      <td>32980.0</td>\n",
       "      <td>28.481166</td>\n",
       "      <td>101.742724</td>\n",
       "      <td>0.000130</td>\n",
       "      <td>1.375159</td>\n",
       "      <td>16.219661</td>\n",
       "      <td>25.626695</td>\n",
       "      <td>8.319848e+03</td>\n",
       "    </tr>\n",
       "    <tr>\n",
       "      <th>xSectMin</th>\n",
       "      <td>32980.0</td>\n",
       "      <td>4.637487</td>\n",
       "      <td>37.008288</td>\n",
       "      <td>0.000000</td>\n",
       "      <td>0.231100</td>\n",
       "      <td>0.810000</td>\n",
       "      <td>4.523893</td>\n",
       "      <td>1.521000e+03</td>\n",
       "    </tr>\n",
       "    <tr>\n",
       "      <th>xSectAvg</th>\n",
       "      <td>32920.0</td>\n",
       "      <td>17.281073</td>\n",
       "      <td>77.054413</td>\n",
       "      <td>0.000102</td>\n",
       "      <td>1.100000</td>\n",
       "      <td>11.087467</td>\n",
       "      <td>17.070629</td>\n",
       "      <td>5.762400e+03</td>\n",
       "    </tr>\n",
       "    <tr>\n",
       "      <th>cataloguedFragments</th>\n",
       "      <td>81941.0</td>\n",
       "      <td>0.354926</td>\n",
       "      <td>17.771147</td>\n",
       "      <td>0.000000</td>\n",
       "      <td>0.000000</td>\n",
       "      <td>0.000000</td>\n",
       "      <td>0.000000</td>\n",
       "      <td>3.536000e+03</td>\n",
       "    </tr>\n",
       "    <tr>\n",
       "      <th>onOrbitCataloguedFragments</th>\n",
       "      <td>81941.0</td>\n",
       "      <td>0.175224</td>\n",
       "      <td>11.462052</td>\n",
       "      <td>0.000000</td>\n",
       "      <td>0.000000</td>\n",
       "      <td>0.000000</td>\n",
       "      <td>0.000000</td>\n",
       "      <td>2.562000e+03</td>\n",
       "    </tr>\n",
       "  </tbody>\n",
       "</table>\n",
       "</div>"
      ],
      "text/plain": [
       "                              count          mean           std          min  \\\n",
       "vimpelId                    14933.0  95640.434943  45331.952486  9600.000000   \n",
       "satno                       63052.0  31543.718455  18220.717310     1.000000   \n",
       "mass                        34050.0   1807.384763   7269.503234     0.001500   \n",
       "width                       18430.0      2.231862      2.070336     0.000000   \n",
       "height                      32680.0      3.278075      5.173099     0.001000   \n",
       "depth                       18403.0      1.888098      2.977385     0.012000   \n",
       "diameter                    14809.0      2.309130      1.438350     0.001000   \n",
       "span                        32380.0      9.730365    152.026790     0.020000   \n",
       "xSectMax                    32980.0     28.481166    101.742724     0.000130   \n",
       "xSectMin                    32980.0      4.637487     37.008288     0.000000   \n",
       "xSectAvg                    32920.0     17.281073     77.054413     0.000102   \n",
       "cataloguedFragments         81941.0      0.354926     17.771147     0.000000   \n",
       "onOrbitCataloguedFragments  81941.0      0.175224     11.462052     0.000000   \n",
       "\n",
       "                                     25%           50%            75%  \\\n",
       "vimpelId                    69211.000000  79106.000000  141218.000000   \n",
       "satno                       15766.750000  31534.500000   47302.250000   \n",
       "mass                          130.820000    500.000000    1600.000000   \n",
       "width                           0.400000      2.200000       3.700000   \n",
       "height                          0.300000      1.200000       5.500000   \n",
       "depth                           0.500000      1.500000       2.700000   \n",
       "diameter                        1.400000      2.400000       3.000000   \n",
       "span                            1.500000      6.500000       8.990000   \n",
       "xSectMax                        1.375159     16.219661      25.626695   \n",
       "xSectMin                        0.231100      0.810000       4.523893   \n",
       "xSectAvg                        1.100000     11.087467      17.070629   \n",
       "cataloguedFragments             0.000000      0.000000       0.000000   \n",
       "onOrbitCataloguedFragments      0.000000      0.000000       0.000000   \n",
       "\n",
       "                                     max  \n",
       "vimpelId                    1.346400e+06  \n",
       "satno                       6.315500e+04  \n",
       "mass                        4.500000e+05  \n",
       "width                       7.280000e+01  \n",
       "height                      6.000000e+01  \n",
       "depth                       1.085000e+02  \n",
       "diameter                    4.114000e+01  \n",
       "span                        1.920000e+04  \n",
       "xSectMax                    8.319848e+03  \n",
       "xSectMin                    1.521000e+03  \n",
       "xSectAvg                    5.762400e+03  \n",
       "cataloguedFragments         3.536000e+03  \n",
       "onOrbitCataloguedFragments  2.562000e+03  "
      ]
     },
     "execution_count": 3,
     "metadata": {},
     "output_type": "execute_result"
    }
   ],
   "source": [
    "df.describe().T"
   ]
  },
  {
   "cell_type": "code",
   "execution_count": 4,
   "metadata": {},
   "outputs": [
    {
     "name": "stdout",
     "output_type": "stream",
     "text": [
      "<class 'pandas.core.frame.DataFrame'>\n",
      "RangeIndex: 81941 entries, 0 to 81940\n",
      "Data columns (total 21 columns):\n",
      " #   Column                      Non-Null Count  Dtype  \n",
      "---  ------                      --------------  -----  \n",
      " 0   cosparId                    67666 non-null  object \n",
      " 1   vimpelId                    14933 non-null  float64\n",
      " 2   satno                       63052 non-null  float64\n",
      " 3   name                        67390 non-null  object \n",
      " 4   objectClass                 81941 non-null  object \n",
      " 5   mass                        34050 non-null  float64\n",
      " 6   shape                       33235 non-null  object \n",
      " 7   width                       18430 non-null  float64\n",
      " 8   height                      32680 non-null  float64\n",
      " 9   depth                       18403 non-null  float64\n",
      " 10  diameter                    14809 non-null  float64\n",
      " 11  span                        32380 non-null  float64\n",
      " 12  xSectMax                    32980 non-null  float64\n",
      " 13  xSectMin                    32980 non-null  float64\n",
      " 14  xSectAvg                    32920 non-null  float64\n",
      " 15  firstEpoch                  77837 non-null  object \n",
      " 16  mission                     22715 non-null  object \n",
      " 17  predDecayDate               39477 non-null  object \n",
      " 18  active                      11523 non-null  object \n",
      " 19  cataloguedFragments         81941 non-null  int64  \n",
      " 20  onOrbitCataloguedFragments  81941 non-null  int64  \n",
      "dtypes: float64(11), int64(2), object(8)\n",
      "memory usage: 13.1+ MB\n"
     ]
    }
   ],
   "source": [
    "df.info()"
   ]
  },
  {
   "cell_type": "markdown",
   "metadata": {},
   "source": [
    "**Can immediately see that some features will need data types changed such as satno or predDecayDate**"
   ]
  },
  {
   "cell_type": "markdown",
   "metadata": {},
   "source": [
    "**Check outliers**"
   ]
  },
  {
   "cell_type": "code",
   "execution_count": null,
   "metadata": {},
   "outputs": [
    {
     "data": {
      "image/png": "[encoded data removed]",
      "text/plain": [
       "<Figure size 1200x800 with 12 Axes>"
      ]
     },
     "metadata": {},
     "output_type": "display_data"
    }
   ],
   "source": [
    "# Create a list of numeric columns to plot\n",
    "numeric_cols = ['mass', 'width', 'height', 'depth', 'diameter', 'span', 'xSectMax', 'xSectMin','xSectAvg', \n",
    "                'cataloguedFragments', 'onOrbitCataloguedFragments']\n",
    "\n",
    "# Set up the matplotlib grid\n",
    "fig, axes = plt.subplots(4, 3, figsize=(12, 8))  # 2x2 grid\n",
    "\n",
    "# Flatten the axes array for easy iteration\n",
    "axes = axes.flatten()\n",
    "\n",
    "# Loop through each numeric column and plot\n",
    "for i, col in enumerate(numeric_cols):\n",
    "    sns.boxplot(y=col, data=df, ax=axes[i])\n",
    "    axes[i].set_title(f'{col}')\n",
    "\n",
    "plt.tight_layout()\n",
    "plt.show()\n"
   ]
  },
  {
   "cell_type": "code",
   "execution_count": 61,
   "metadata": {},
   "outputs": [
    {
     "data": {
      "image/png": "[encoded data removed]",
      "text/plain": [
       "<Figure size 800x600 with 1 Axes>"
      ]
     },
     "metadata": {},
     "output_type": "display_data"
    }
   ],
   "source": [
    "import matplotlib.pyplot as plt\n",
    "import textwrap\n",
    "\n",
    "plt.figure(figsize = (8, 6))\n",
    "\n",
    "ax = df['objectClass'].value_counts().plot(kind='bar', title=\"Object Class Breakdown\")\n",
    "plt.xticks(rotation=45, ha='right', fontsize=8)\n",
    "plt.tight_layout()\n",
    "plt.show()\n"
   ]
  },
  {
   "cell_type": "code",
   "execution_count": 40,
   "metadata": {},
   "outputs": [
    {
     "data": {
      "text/plain": [
       "<Axes: xlabel='firstEpoch'>"
      ]
     },
     "execution_count": 40,
     "metadata": {},
     "output_type": "execute_result"
    },
    {
     "data": {
      "image/png": "[encoded data removed]",
      "text/plain": [
       "<Figure size 640x480 with 1 Axes>"
      ]
     },
     "metadata": {},
     "output_type": "display_data"
    }
   ],
   "source": [
    "df['firstEpoch'] = pd.to_datetime(df['firstEpoch'])\n",
    "\n",
    "df['firstEpoch'].value_counts().sort_index().plot(x = 'firstEpoch', kind = 'line')"
   ]
  },
  {
   "cell_type": "markdown",
   "metadata": {},
   "source": [
    "**Missing Values**"
   ]
  },
  {
   "cell_type": "code",
   "execution_count": 23,
   "metadata": {},
   "outputs": [
    {
     "data": {
      "text/plain": [
       "cosparId                      14275\n",
       "vimpelId                      67008\n",
       "satno                         18889\n",
       "name                          14551\n",
       "objectClass                       0\n",
       "mass                          47891\n",
       "shape                         48706\n",
       "width                         63511\n",
       "height                        49261\n",
       "depth                         63538\n",
       "diameter                      67132\n",
       "span                          49561\n",
       "xSectMax                      48961\n",
       "xSectMin                      48961\n",
       "xSectAvg                      49021\n",
       "firstEpoch                     4104\n",
       "mission                       59226\n",
       "predDecayDate                 42464\n",
       "active                        70418\n",
       "cataloguedFragments               0\n",
       "onOrbitCataloguedFragments        0\n",
       "dtype: int64"
      ]
     },
     "execution_count": 23,
     "metadata": {},
     "output_type": "execute_result"
    }
   ],
   "source": [
    "df.isna().sum()"
   ]
  },
  {
   "cell_type": "code",
   "execution_count": null,
   "metadata": {},
   "outputs": [],
   "source": [
    "!aws s3 cp 's3://sagemaker-us-east-1-266917422334/data/lost_objects.csv' ./data-folder/"
   ]
  },
  {
   "cell_type": "code",
   "execution_count": null,
   "metadata": {},
   "outputs": [],
   "source": [
    "df = pd.read_csv(\"data-folder/lost_objects.csv\")"
   ]
  },
  {
   "cell_type": "code",
   "execution_count": null,
   "metadata": {},
   "outputs": [
    {
     "data": {
      "text/plain": [
       "(2582, 8)"
      ]
     },
     "metadata": {},
     "output_type": "display_data"
    }
   ],
   "source": [
    "df.shape"
   ]
  },
  {
   "cell_type": "code",
   "execution_count": null,
   "metadata": {},
   "outputs": [
    {
     "data": {
      "text/html": [
       "<div>\n",
       "<style scoped>\n",
       "    .dataframe tbody tr th:only-of-type {\n",
       "        vertical-align: middle;\n",
       "    }\n",
       "\n",
       "    .dataframe tbody tr th {\n",
       "        vertical-align: top;\n",
       "    }\n",
       "\n",
       "    .dataframe thead th {\n",
       "        text-align: right;\n",
       "    }\n",
       "</style>\n",
       "<table border=\"1\" class=\"dataframe\">\n",
       "  <thead>\n",
       "    <tr style=\"text-align: right;\">\n",
       "      <th></th>\n",
       "      <th>International Designator</th>\n",
       "      <th>NORAD Catalog Number</th>\n",
       "      <th>Satellite Name</th>\n",
       "      <th>Source</th>\n",
       "      <th>Launch Date</th>\n",
       "      <th>Launch Site</th>\n",
       "      <th>Object Type</th>\n",
       "      <th>Last Data</th>\n",
       "    </tr>\n",
       "  </thead>\n",
       "  <tbody>\n",
       "    <tr>\n",
       "      <th>0</th>\n",
       "      <td>1960-009D</td>\n",
       "      <td>52.0</td>\n",
       "      <td>ECHO 1 DEB [MYLAR OBJ]</td>\n",
       "      <td>US</td>\n",
       "      <td>1960-08-12</td>\n",
       "      <td>AFETR</td>\n",
       "      <td>DEB</td>\n",
       "      <td>1991-03-25T14:23:57.069312</td>\n",
       "    </tr>\n",
       "    <tr>\n",
       "      <th>1</th>\n",
       "      <td>1963-039C</td>\n",
       "      <td>692.0</td>\n",
       "      <td>VELA 1</td>\n",
       "      <td>US</td>\n",
       "      <td>1963-10-17</td>\n",
       "      <td>AFETR</td>\n",
       "      <td>PAY-</td>\n",
       "      <td>2024-11-06T17:09:09.800928</td>\n",
       "    </tr>\n",
       "    <tr>\n",
       "      <th>2</th>\n",
       "      <td>1964-040A</td>\n",
       "      <td>836.0</td>\n",
       "      <td>OPS 3662 (VELA 3)</td>\n",
       "      <td>US</td>\n",
       "      <td>1964-07-17</td>\n",
       "      <td>AFETR</td>\n",
       "      <td>PAY-</td>\n",
       "      <td>2024-10-18T19:49:13.468512</td>\n",
       "    </tr>\n",
       "    <tr>\n",
       "      <th>3</th>\n",
       "      <td>1965-058A</td>\n",
       "      <td>1458.0</td>\n",
       "      <td>OPS 6577 (VELA 5)</td>\n",
       "      <td>US</td>\n",
       "      <td>1965-07-20</td>\n",
       "      <td>AFETR</td>\n",
       "      <td>PAY-</td>\n",
       "      <td>2025-01-24T09:01:13.708704</td>\n",
       "    </tr>\n",
       "    <tr>\n",
       "      <th>4</th>\n",
       "      <td>1965-058B</td>\n",
       "      <td>1459.0</td>\n",
       "      <td>OPS 6564 (VELA 6)</td>\n",
       "      <td>US</td>\n",
       "      <td>1965-07-20</td>\n",
       "      <td>AFETR</td>\n",
       "      <td>PAY-</td>\n",
       "      <td>2024-12-24T02:18:46.645344</td>\n",
       "    </tr>\n",
       "  </tbody>\n",
       "</table>\n",
       "</div>"
      ],
      "text/plain": [
       "  International Designator  NORAD Catalog Number          Satellite Name  \\\n",
       "0                1960-009D                  52.0  ECHO 1 DEB [MYLAR OBJ]   \n",
       "1                1963-039C                 692.0                  VELA 1   \n",
       "2                1964-040A                 836.0       OPS 3662 (VELA 3)   \n",
       "3                1965-058A                1458.0       OPS 6577 (VELA 5)   \n",
       "4                1965-058B                1459.0       OPS 6564 (VELA 6)   \n",
       "\n",
       "  Source Launch Date Launch Site Object Type                   Last Data  \n",
       "0     US  1960-08-12       AFETR         DEB  1991-03-25T14:23:57.069312  \n",
       "1     US  1963-10-17       AFETR        PAY-  2024-11-06T17:09:09.800928  \n",
       "2     US  1964-07-17       AFETR        PAY-  2024-10-18T19:49:13.468512  \n",
       "3     US  1965-07-20       AFETR        PAY-  2025-01-24T09:01:13.708704  \n",
       "4     US  1965-07-20       AFETR        PAY-  2024-12-24T02:18:46.645344  "
      ]
     },
     "metadata": {},
     "output_type": "display_data"
    }
   ],
   "source": [
    "df.head()"
   ]
  },
  {
   "cell_type": "code",
   "execution_count": null,
   "metadata": {},
   "outputs": [
    {
     "data": {
      "text/plain": [
       "Launch Site\n",
       "TYMSC    682\n",
       "TAISC    614\n",
       "PLMSC    469\n",
       "AFETR    325\n",
       "AFWTR    201\n",
       "XICLF    112\n",
       "FRGUI    107\n",
       "WLPIS     26\n",
       "SRILR     25\n",
       "TANSC      4\n",
       "JSC        4\n",
       "SEAL       3\n",
       "KSCUT      2\n",
       "KWAJ       2\n",
       "RLLB       2\n",
       "DLS        1\n",
       "ERAS       1\n",
       "WSC        1\n",
       "Name: count, dtype: int64"
      ]
     },
     "metadata": {},
     "output_type": "display_data"
    }
   ],
   "source": [
    "df['Launch Site'].value_counts()"
   ]
  },
  {
   "cell_type": "code",
   "execution_count": null,
   "metadata": {},
   "outputs": [
    {
     "data": {
      "text/plain": [
       "<Axes: xlabel='Source'>"
      ]
     },
     "metadata": {},
     "output_type": "display_data"
    },
    {
     "data": {
      "image/png": "[encoded data removed]",
      "text/plain": [
       "<Figure size 640x480 with 1 Axes>"
      ]
     },
     "metadata": {},
     "output_type": "display_data"
    }
   ],
   "source": [
    "import matplotlib.pyplot as plt\n",
    "%matplotlib inline\n",
    "\n",
    "df[['Launch Site', 'Source']].groupby('Source').count().plot(kind = 'bar')"
   ]
  },
  {
   "cell_type": "code",
   "execution_count": null,
   "metadata": {},
   "outputs": [
    {
     "data": {
      "image/png": "[encoded data removed]",
      "text/plain": [
       "<Figure size 1500x500 with 1 Axes>"
      ]
     },
     "metadata": {},
     "output_type": "display_data"
    }
   ],
   "source": [
    "df['Launch Date'] = pd.to_datetime(df['Launch Date'])\n",
    "launch_counts = df.groupby(df['Launch Date'].dt.to_period(\"Y\"))['International Designator'].count()\n",
    "\n",
    "launch_counts.index = launch_counts.index.astype(str)\n",
    "\n",
    "plt.figure(figsize = (15,5))\n",
    "\n",
    "plt.plot(launch_counts.index, launch_counts.values, marker = 'o', linestyle = '-')\n",
    "\n",
    "plt.xticks(rotation = 45)\n",
    "\n",
    "plt.show()"
   ]
  },
  {
   "cell_type": "code",
   "execution_count": null,
   "metadata": {},
   "outputs": [
    {
     "data": {
      "text/plain": [
       "Object Type\n",
       "DEB     2492\n",
       "PAY-      37\n",
       "R/B       25\n",
       "PAY+      25\n",
       "UNK        2\n",
       "Name: count, dtype: int64"
      ]
     },
     "metadata": {},
     "output_type": "display_data"
    }
   ],
   "source": [
    "df['Object Type'].value_counts()"
   ]
  },
  {
   "cell_type": "code",
   "execution_count": null,
   "metadata": {},
   "outputs": [
    {
     "name": "stdout",
     "output_type": "stream",
     "text": [
      "Combined dataset shape: (152122, 4)\n"
     ]
    },
    {
     "data": {
      "application/vnd.microsoft.datawrangler.viewer.v0+json": {
       "columns": [
        {
         "name": "index",
         "rawType": "int64",
         "type": "integer"
        },
        {
         "name": "object_name",
         "rawType": "object",
         "type": "string"
        },
        {
         "name": "object_type",
         "rawType": "object",
         "type": "string"
        },
        {
         "name": "timestamp",
         "rawType": "object",
         "type": "string"
        },
        {
         "name": "source",
         "rawType": "object",
         "type": "string"
        }
       ],
       "conversionMethod": "pd.DataFrame",
       "ref": "f673c15b-0728-448d-bddf-4a493b4cb744",
       "rows": [
        [
         "0",
         "Calsphere 1",
         "PAYLOAD",
         "1964-10-06",
         "ESA"
        ],
        [
         "1",
         "Calsphere 2",
         "PAYLOAD",
         "1964-10-06",
         "ESA"
        ],
        [
         "2",
         "LCS 1",
         "PAYLOAD",
         "1965-05-06",
         "ESA"
        ],
        [
         "3",
         "Tempsat 1",
         "PAYLOAD",
         "1965-08-13",
         "ESA"
        ],
        [
         "4",
         "Calsphere 4",
         "PAYLOAD",
         "1965-08-13",
         "ESA"
        ]
       ],
       "shape": {
        "columns": 4,
        "rows": 5
       }
      },
      "text/html": [
       "<div>\n",
       "<style scoped>\n",
       "    .dataframe tbody tr th:only-of-type {\n",
       "        vertical-align: middle;\n",
       "    }\n",
       "\n",
       "    .dataframe tbody tr th {\n",
       "        vertical-align: top;\n",
       "    }\n",
       "\n",
       "    .dataframe thead th {\n",
       "        text-align: right;\n",
       "    }\n",
       "</style>\n",
       "<table border=\"1\" class=\"dataframe\">\n",
       "  <thead>\n",
       "    <tr style=\"text-align: right;\">\n",
       "      <th></th>\n",
       "      <th>object_name</th>\n",
       "      <th>object_type</th>\n",
       "      <th>timestamp</th>\n",
       "      <th>source</th>\n",
       "    </tr>\n",
       "  </thead>\n",
       "  <tbody>\n",
       "    <tr>\n",
       "      <th>0</th>\n",
       "      <td>Calsphere 1</td>\n",
       "      <td>PAYLOAD</td>\n",
       "      <td>1964-10-06</td>\n",
       "      <td>ESA</td>\n",
       "    </tr>\n",
       "    <tr>\n",
       "      <th>1</th>\n",
       "      <td>Calsphere 2</td>\n",
       "      <td>PAYLOAD</td>\n",
       "      <td>1964-10-06</td>\n",
       "      <td>ESA</td>\n",
       "    </tr>\n",
       "    <tr>\n",
       "      <th>2</th>\n",
       "      <td>LCS 1</td>\n",
       "      <td>PAYLOAD</td>\n",
       "      <td>1965-05-06</td>\n",
       "      <td>ESA</td>\n",
       "    </tr>\n",
       "    <tr>\n",
       "      <th>3</th>\n",
       "      <td>Tempsat 1</td>\n",
       "      <td>PAYLOAD</td>\n",
       "      <td>1965-08-13</td>\n",
       "      <td>ESA</td>\n",
       "    </tr>\n",
       "    <tr>\n",
       "      <th>4</th>\n",
       "      <td>Calsphere 4</td>\n",
       "      <td>PAYLOAD</td>\n",
       "      <td>1965-08-13</td>\n",
       "      <td>ESA</td>\n",
       "    </tr>\n",
       "  </tbody>\n",
       "</table>\n",
       "</div>"
      ],
      "text/plain": [
       "   object_name object_type   timestamp source\n",
       "0  Calsphere 1     PAYLOAD  1964-10-06    ESA\n",
       "1  Calsphere 2     PAYLOAD  1964-10-06    ESA\n",
       "2        LCS 1     PAYLOAD  1965-05-06    ESA\n",
       "3    Tempsat 1     PAYLOAD  1965-08-13    ESA\n",
       "4  Calsphere 4     PAYLOAD  1965-08-13    ESA"
      ]
     },
     "metadata": {},
     "output_type": "display_data"
    }
   ],
   "source": [
    "# Combining all into one DataFrame\n",
    "combined_df = pd.concat([\n",
    "    esa_df_small,\n",
    "    full_satcat_df_small,\n",
    "    lost_objects_df_small,\n",
    "    loe_objects_df_small\n",
    "], ignore_index=True)\n",
    "\n",
    "# Dropping the rows with missing object_type\n",
    "combined_df = combined_df.dropna(subset=['object_type'])\n",
    "\n",
    "print(\"Combined dataset shape:\", combined_df.shape)\n",
    "combined_df.head()"
   ]
  },
  {
   "cell_type": "code",
   "execution_count": null,
   "metadata": {},
   "outputs": [
    {
     "data": {
      "image/png": "[encoded data removed]",
      "text/plain": [
       "<Figure size 800x500 with 1 Axes>"
      ]
     },
     "metadata": {},
     "output_type": "display_data"
    }
   ],
   "source": [
    "# Ploting object type distribution\n",
    "import matplotlib.pyplot as plt\n",
    "import seaborn as sns\n",
    "\n",
    "plt.figure(figsize=(8, 5))\n",
    "sns.countplot(data=combined_df, x='object_type', order=combined_df['object_type'].value_counts().index)\n",
    "plt.title(\"Object Type Distribution\")\n",
    "plt.xlabel(\"Object Type\")\n",
    "plt.ylabel(\"Count\")\n",
    "plt.xticks(rotation=45)\n",
    "plt.tight_layout()\n",
    "plt.show()"
   ]
  },
  {
   "cell_type": "code",
   "execution_count": null,
   "metadata": {},
   "outputs": [
    {
     "data": {
      "image/png": "[encoded data removed]",
      "text/plain": [
       "<Figure size 800x500 with 1 Axes>"
      ]
     },
     "metadata": {},
     "output_type": "display_data"
    }
   ],
   "source": [
    "# Ploting object frequency by year\n",
    "combined_df['timestamp'] = pd.to_datetime(combined_df['timestamp'], errors='coerce')\n",
    "\n",
    "# Drop rows with invalid dates (NaT)\n",
    "combined_df = combined_df.dropna(subset=['timestamp'])\n",
    "\n",
    "combined_df['year'] = combined_df['timestamp'].dt.year\n",
    "plt.figure(figsize=(8, 5))\n",
    "sns.histplot(data=combined_df, x='year', hue='object_type', multiple='stack', bins=50)\n",
    "plt.title(\"Objects Over Time by Type\")\n",
    "plt.xlabel(\"Year\")\n",
    "plt.ylabel(\"Count\")\n",
    "plt.tight_layout()\n",
    "plt.show()"
   ]
  },
  {
   "cell_type": "markdown",
   "metadata": {
    "jp-MarkdownHeadingCollapsed": true
   },
   "source": [
    "# Athena Tables"
   ]
  },
  {
   "cell_type": "markdown",
   "metadata": {},
   "source": [
    "## Create variable paths and store them"
   ]
  },
  {
   "cell_type": "code",
   "execution_count": null,
   "metadata": {},
   "outputs": [],
   "source": [
    "esa_path = \"s3://{}/data/processed_data/esa_folder/\".format(bucket)\n",
    "leo_path = \"s3://{}/data/processed_data/leo_objects_folder/\".format(bucket)\n",
    "lost_path = \"s3://{}/data/processed_data/lost_object_folder/\".format(bucket)\n",
    "satcat_path = \"s3://{}/data/processed_data/satcat_folder/\".format(bucket)\n",
    "collision_path = \"s3://{}/data/processed_data/collision_data_folder/\".format(bucket)"
   ]
  },
  {
   "cell_type": "code",
   "execution_count": null,
   "metadata": {},
   "outputs": [],
   "source": [
    "%store esa_path\n",
    "%store leo_path\n",
    "%store lost_path\n",
    "%store satcat_path\n",
    "%store collision_path"
   ]
  },
  {
   "cell_type": "markdown",
   "metadata": {},
   "source": [
    "## Create tables names"
   ]
  },
  {
   "cell_type": "code",
   "execution_count": null,
   "metadata": {},
   "outputs": [],
   "source": [
    "table_name1 = \"esa\"\n",
    "table_name2 = 'leo'\n",
    "table_name3 = 'lost_objects'\n",
    "table_name4 = 'satcat'\n",
    "table_name5 = 'collision'"
   ]
  },
  {
   "cell_type": "markdown",
   "metadata": {},
   "source": [
    "## Retrieve dataframes from directories"
   ]
  },
  {
   "cell_type": "code",
   "execution_count": null,
   "metadata": {},
   "outputs": [],
   "source": [
    "# Create filesystem object\n",
    "\n",
    "fs = s3fs.S3FileSystem()\n",
    "\n",
    "# Retrieve all files paths\n",
    "\n",
    "parquet_paths = fs.find(f\"{bucket}/data/processed_data/\")\n",
    "\n",
    "# Loop through and add to a list\n",
    "\n",
    "dataframes = [pd.read_parquet(f\"s3://{path}\") for path in parquet_paths]\n",
    "\n",
    "# Save each df to own variable\n",
    "\n",
    "collision_df = dataframes[0]\n",
    "esa_df = dataframes[2]\n",
    "leo_df = dataframes[3]\n",
    "lost_df = dataframes[4]\n",
    "satcat_df = dataframes[5]"
   ]
  },
  {
   "cell_type": "markdown",
   "metadata": {},
   "source": [
    "## Create staging directory path and initiate connection"
   ]
  },
  {
   "cell_type": "code",
   "execution_count": null,
   "metadata": {},
   "outputs": [],
   "source": [
    "s3_staging_dir = \"s3://{}/athena/staging\".format(bucket)"
   ]
  },
  {
   "cell_type": "code",
   "execution_count": null,
   "metadata": {},
   "outputs": [],
   "source": [
    "%store s3_staging_dir"
   ]
  },
  {
   "cell_type": "code",
   "execution_count": null,
   "metadata": {},
   "outputs": [],
   "source": [
    "conn = connect(region_name = region, s3_staging_dir = s3_staging_dir)"
   ]
  },
  {
   "cell_type": "markdown",
   "metadata": {},
   "source": [
    "## Check current databases"
   ]
  },
  {
   "cell_type": "code",
   "execution_count": null,
   "metadata": {},
   "outputs": [],
   "source": [
    "pd.read_sql(\"SHOW DATABASES\", conn)"
   ]
  },
  {
   "cell_type": "code",
   "execution_count": null,
   "metadata": {},
   "outputs": [],
   "source": [
    "# Connect to project database\n",
    "\n",
    "project_conn = connect(region_name = region, s3_staging_dir = s3_staging_dir, schema_name = 'space_project')"
   ]
  },
  {
   "cell_type": "markdown",
   "metadata": {},
   "source": [
    "## Helper functions to generate table creation statements"
   ]
  },
  {
   "cell_type": "code",
   "execution_count": null,
   "metadata": {},
   "outputs": [],
   "source": [
    "def map_dtype_to_athena(dtype):\n",
    "    dtype = str(dtype)\n",
    "    if 'int' in dtype:\n",
    "        return 'int'\n",
    "    elif 'float' in dtype:\n",
    "        return 'double'\n",
    "    elif 'bool' in dtype:\n",
    "        return 'boolean'\n",
    "    elif 'datetime' in dtype:\n",
    "        return 'timestamp'\n",
    "    else:\n",
    "        return 'string'  # default to string for object, category, etc."
   ]
  },
  {
   "cell_type": "code",
   "execution_count": null,
   "metadata": {},
   "outputs": [],
   "source": [
    "def generate_athena_columns(df):\n",
    "    cols = []\n",
    "    for col in df.columns:\n",
    "        athena_type = map_dtype_to_athena(df[col].dtype)\n",
    "        cols.append(f\"    {col} {athena_type}\")\n",
    "    return \",\\n\".join(cols)"
   ]
  },
  {
   "cell_type": "code",
   "execution_count": null,
   "metadata": {},
   "outputs": [],
   "source": [
    "def create_athena_table_statement(table_name, s3_path, df, database_name='space_project'):\n",
    "    columns = generate_athena_columns(df)\n",
    "    statement = f\"\"\"CREATE EXTERNAL TABLE IF NOT EXISTS {database_name}.{table_name} (\n",
    "{columns}\n",
    ")\n",
    "STORED AS PARQUET\n",
    "LOCATION '{s3_path}'\"\"\"\n",
    "    return statement"
   ]
  },
  {
   "cell_type": "markdown",
   "metadata": {},
   "source": [
    "## Create table statement then test to make sure connection went through"
   ]
  },
  {
   "cell_type": "code",
   "execution_count": null,
   "metadata": {},
   "outputs": [],
   "source": [
    "esa_statement = create_athena_table_statement(table_name1, esa_path, esa_df)"
   ]
  },
  {
   "cell_type": "code",
   "execution_count": null,
   "metadata": {},
   "outputs": [],
   "source": [
    "pd.read_sql(esa_statement, project_conn)\n",
    "\n",
    "pd.read_sql('SELECT * FROM esa LIMIT 5', project_conn)"
   ]
  },
  {
   "cell_type": "markdown",
   "metadata": {},
   "source": [
    "## Create other tables"
   ]
  },
  {
   "cell_type": "code",
   "execution_count": null,
   "metadata": {},
   "outputs": [],
   "source": [
    "collision_statement = create_athena_table_statement(table_name5, collision_path, collision_df)\n",
    "leo_statement = create_athena_table_statement(table_name2, leo_path, leo_df)\n",
    "lost_statement = create_athena_table_statement(table_name3, lost_path, lost_df)\n",
    "satcat_statement = create_athena_table_statement(table_name4, satcat_path, satcat_df)\n",
    "\n",
    "pd.read_sql(collision_statement, conn)\n",
    "pd.read_sql(leo_statement, conn)\n",
    "pd.read_sql(lost_statement, conn)\n",
    "pd.read_sql(satcat_statement, conn)"
   ]
  },
  {
   "cell_type": "markdown",
   "metadata": {},
   "source": [
    "## Check all tables were created"
   ]
  },
  {
   "cell_type": "code",
   "execution_count": null,
   "metadata": {},
   "outputs": [],
   "source": [
    "# Check all tables are there\n",
    "\n",
    "pd.read_sql(\"SHOW TABLES\", project_conn)"
   ]
  },
  {
   "cell_type": "markdown",
   "metadata": {},
   "source": [
    "# Clean/Transform"
   ]
  },
  {
   "cell_type": "markdown",
   "metadata": {},
   "source": [
    "## ESA Data"
   ]
  },
  {
   "cell_type": "code",
   "execution_count": 84,
   "metadata": {},
   "outputs": [],
   "source": [
    "esa_df = pd.read_parquet(f\"s3://{bucket}/data/raw_data/full_esa_folder/full_esa_data.parquet\")"
   ]
  },
  {
   "cell_type": "code",
   "execution_count": 85,
   "metadata": {},
   "outputs": [],
   "source": [
    "# Columns with too many missing values or not useful for modeling\n",
    "\n",
    "columns_to_drop = ['vimpelId', 'satno', 'predDecayDate', 'active', 'mission', 'shape', 'mass', 'width', 'height', 'depth', 'xSectMax', 'xSectMin']"
   ]
  },
  {
   "cell_type": "code",
   "execution_count": 86,
   "metadata": {},
   "outputs": [
    {
     "data": {
      "text/plain": [
       "cosparId                      14275\n",
       "name                          14551\n",
       "objectClass                       0\n",
       "diameter                      67132\n",
       "span                          49561\n",
       "xSectAvg                      49021\n",
       "firstEpoch                     4104\n",
       "cataloguedFragments               0\n",
       "onOrbitCataloguedFragments        0\n",
       "dtype: int64"
      ]
     },
     "execution_count": 86,
     "metadata": {},
     "output_type": "execute_result"
    }
   ],
   "source": [
    "# Drop columns and check missing values again\n",
    "\n",
    "esa_df.drop(columns = columns_to_drop, inplace = True)\n",
    "\n",
    "esa_df.isna().sum()"
   ]
  },
  {
   "cell_type": "code",
   "execution_count": 87,
   "metadata": {},
   "outputs": [],
   "source": [
    "# Change to Date time\n",
    "\n",
    "esa_df['firstEpoch'] = pd.to_datetime(esa_df['firstEpoch'])"
   ]
  },
  {
   "cell_type": "code",
   "execution_count": 88,
   "metadata": {},
   "outputs": [
    {
     "data": {
      "text/plain": [
       "cosparId                        458\n",
       "name                            734\n",
       "objectClass                       0\n",
       "diameter                      53315\n",
       "span                          35744\n",
       "xSectAvg                      35204\n",
       "firstEpoch                     4073\n",
       "cataloguedFragments               0\n",
       "onOrbitCataloguedFragments        0\n",
       "dtype: int64"
      ]
     },
     "execution_count": 88,
     "metadata": {},
     "output_type": "execute_result"
    }
   ],
   "source": [
    "# Lot of rows are all NA or 0, but have positive values for first Epoch, so removing those\n",
    "\n",
    "exclude_col = ['firstEpoch', 'objectClass']\n",
    "\n",
    "# Drop rows where all values (except the exclude_col) are NA or 0\n",
    "esa_df = esa_df[~((esa_df.drop(columns=exclude_col).isna()) | (esa_df.drop(columns=exclude_col) == 0)).all(axis=1)]\n",
    "\n",
    "esa_df.isna().sum()"
   ]
  },
  {
   "cell_type": "code",
   "execution_count": 89,
   "metadata": {},
   "outputs": [
    {
     "data": {
      "text/plain": [
       "cosparId                        458\n",
       "name                            734\n",
       "objectClass                       0\n",
       "diameter                      53315\n",
       "span                          35744\n",
       "xSectAvg                      35204\n",
       "firstEpoch                     4073\n",
       "cataloguedFragments               0\n",
       "onOrbitCataloguedFragments        0\n",
       "dtype: int64"
      ]
     },
     "execution_count": 89,
     "metadata": {},
     "output_type": "execute_result"
    }
   ],
   "source": [
    "# Name and object class are still necessary, so if both are null then remove, otherwise keep and deal with the other missing data as needed\n",
    "\n",
    "esa_df_cleaned = esa_df[~esa_df[['cosparId', 'name']].isna().all(axis = 1)]\n",
    "\n",
    "esa_df_cleaned.isna().sum()"
   ]
  },
  {
   "cell_type": "code",
   "execution_count": 14,
   "metadata": {},
   "outputs": [],
   "source": [
    "# Save this esa dataframe separately to graph object class for Goal # 1 before further processing for modeling\n",
    "\n",
    "esa_df_cleaned.to_parquet(\"data/processed data/cleaned_esa_goal1.parquet\", index = False)\n",
    "esa_df_cleaned.to_parquet(f\"s3://{bucket}/data/processed_data/esa_folder/cleaned_esa_goal1.parquet\", index = False)"
   ]
  },
  {
   "cell_type": "code",
   "execution_count": 90,
   "metadata": {},
   "outputs": [],
   "source": [
    "# Make a copy and collapse objectClass category into 4 values\n",
    "\n",
    "esa_df_modeling = esa_df_cleaned.copy()\n",
    "\n",
    "esa_df_modeling['objectClass'] = esa_df_modeling['objectClass'].apply(lambda x: 'Debris' if 'Debris' in x else x)\n",
    "esa_df_modeling.loc[esa_df_modeling['objectClass'].str.contains('Mission'), 'objectClass'] = 'Debris'"
   ]
  },
  {
   "cell_type": "code",
   "execution_count": 92,
   "metadata": {},
   "outputs": [
    {
     "data": {
      "text/plain": [
       "Index(['cosparId', 'name', 'objectClass', 'diameter', 'span', 'xSectAvg',\n",
       "       'firstEpoch', 'cataloguedFragments', 'onOrbitCataloguedFragments'],\n",
       "      dtype='object')"
      ]
     },
     "execution_count": 92,
     "metadata": {},
     "output_type": "execute_result"
    }
   ],
   "source": [
    "esa_df_modeling.columns"
   ]
  },
  {
   "cell_type": "code",
   "execution_count": 91,
   "metadata": {},
   "outputs": [],
   "source": [
    "# Standardize the numerical features and save\n",
    "\n",
    "standard_cols = ['diameter', 'span', 'xSectAvg', 'cataloguedFragments', 'onOrbitCataloguedFragments']\n",
    "\n",
    "esa_df_modeling[['diameter', 'span', 'xSectAvg']] = esa_df_modeling[['diameter', 'span', 'xSectAvg']].apply(lambda x: x.fillna(x.median()))\n",
    "\n",
    "esa_df_modeling[standard_cols] = esa_df_modeling[standard_cols].apply(zscore)"
   ]
  },
  {
   "cell_type": "code",
   "execution_count": 95,
   "metadata": {},
   "outputs": [],
   "source": [
    "# Rename columns for consistency\n",
    "\n",
    "esa_df_modeling.rename(columns = {\n",
    "    'cosparId': 'object_id',\n",
    "    'name': 'object_name',\n",
    "    'objectClass': 'object_type',\n",
    "    'firstEpoch': 'launch_date'\n",
    "},\n",
    "                      inplace = True)"
   ]
  },
  {
   "cell_type": "code",
   "execution_count": 96,
   "metadata": {},
   "outputs": [
    {
     "name": "stdout",
     "output_type": "stream",
     "text": [
      "Updated Column Names:\n",
      " Index(['object_id', 'object_name', 'object_type', 'diameter', 'span',\n",
      "       'xsectavg', 'launch_date', 'cataloguedfragments',\n",
      "       'onorbitcataloguedfragments'],\n",
      "      dtype='object')\n"
     ]
    }
   ],
   "source": [
    "# Standardize column names\n",
    "esa_df_modeling.columns = esa_df_modeling.columns.str.strip().str.lower().str.replace(\" \", \"_\")\n",
    "\n",
    "print(\"Updated Column Names:\\n\", esa_df_modeling.columns)"
   ]
  },
  {
   "cell_type": "code",
   "execution_count": 97,
   "metadata": {},
   "outputs": [],
   "source": [
    "esa_df_modeling.to_parquet(\"data/processed data/esa_df_modeling.parquet\", index = False)\n",
    "esa_df_modeling.to_parquet(f\"s3://{bucket}/data/processed_data/esa_folder/esa_df_modeling.parquet\", index = False)"
   ]
  },
  {
   "cell_type": "markdown",
   "metadata": {
    "jp-MarkdownHeadingCollapsed": true
   },
   "source": [
    "## Satcat"
   ]
  },
  {
   "cell_type": "code",
   "execution_count": 23,
   "metadata": {},
   "outputs": [],
   "source": [
    "satcat_df = pd.read_csv(f\"s3://{bucket}/data/raw_data/satcat_folder/full_satcat.csv\")"
   ]
  },
  {
   "cell_type": "code",
   "execution_count": 24,
   "metadata": {},
   "outputs": [
    {
     "name": "stdout",
     "output_type": "stream",
     "text": [
      "Missing Values:\n",
      " Unnamed: 0              0\n",
      "OBJECT_NAME             0\n",
      "OBJECT_ID               0\n",
      "NORAD_CAT_ID            0\n",
      "OBJECT_TYPE             0\n",
      "OPS_STATUS_CODE     17248\n",
      "OWNER                   0\n",
      "LAUNCH_DATE             0\n",
      "LAUNCH_SITE             0\n",
      "DECAY_DATE          30136\n",
      "PERIOD                908\n",
      "INCLINATION           908\n",
      "APOGEE                908\n",
      "PERIGEE               908\n",
      "RCS                 30142\n",
      "DATA_STATUS_CODE    61902\n",
      "ORBIT_CENTER            0\n",
      "ORBIT_TYPE              0\n",
      "dtype: int64\n"
     ]
    }
   ],
   "source": [
    "# Check for missing values\n",
    "\n",
    "missing_values = satcat_df.isnull().sum()\n",
    "print(\"Missing Values:\\n\", missing_values)"
   ]
  },
  {
   "cell_type": "code",
   "execution_count": 25,
   "metadata": {},
   "outputs": [
    {
     "name": "stdout",
     "output_type": "stream",
     "text": [
      "Unique Values per Column:\n",
      " DATA_STATUS_CODE        3\n",
      "OBJECT_TYPE             4\n",
      "ORBIT_TYPE              4\n",
      "OPS_STATUS_CODE         7\n",
      "ORBIT_CENTER           18\n",
      "LAUNCH_SITE            36\n",
      "OWNER                 125\n",
      "PERIGEE              3719\n",
      "LAUNCH_DATE          5644\n",
      "APOGEE               6658\n",
      "INCLINATION          6800\n",
      "PERIOD               8261\n",
      "RCS                 10800\n",
      "DECAY_DATE          14562\n",
      "OBJECT_NAME         22276\n",
      "OBJECT_ID           63073\n",
      "Unnamed: 0          63073\n",
      "NORAD_CAT_ID        63073\n",
      "dtype: int64\n"
     ]
    }
   ],
   "source": [
    "# Check unique values per column\n",
    "\n",
    "unique_counts = satcat_df.nunique().sort_values()\n",
    "print(\"Unique Values per Column:\\n\", unique_counts)"
   ]
  },
  {
   "cell_type": "code",
   "execution_count": 26,
   "metadata": {},
   "outputs": [],
   "source": [
    "# Drop uneccessary columns\n",
    "\n",
    "columns_to_drop = ['Unnamed: 0', 'DATA_STATUS_CODE', 'RCS', 'OPS_STATUS_CODE', 'DATA_STATUS_CODE']\n",
    "satcat_df = satcat_df.drop(columns = columns_to_drop)\n",
    "\n",
    "# Only concerned with objects in orbit around Earth, so remove all others\n",
    "\n",
    "satcat_df = satcat_df[satcat_df['ORBIT_CENTER'] == 'EA']\n",
    "satcat_df = satcat_df.drop(columns = 'ORBIT_CENTER')"
   ]
  },
  {
   "cell_type": "code",
   "execution_count": 27,
   "metadata": {},
   "outputs": [],
   "source": [
    "# Change names of orbit type to be consistent with others\n",
    "\n",
    "satcat_df['OBJECT_TYPE'] = satcat_df['OBJECT_TYPE'].replace({\n",
    "    'DEB': 'DEBRIS',\n",
    "    'PAY': 'PAYLOAD',\n",
    "    'R/B': 'ROCKET BODY',\n",
    "    'UNK': 'UNKNOWN'\n",
    "})\n",
    "\n",
    "satcat_df['NORAD_CAT_ID'] = satcat_df['NORAD_CAT_ID'].astype('str')"
   ]
  },
  {
   "cell_type": "code",
   "execution_count": 28,
   "metadata": {},
   "outputs": [],
   "source": [
    "# Fill in some of the NA values for the distance and location metrics.  If orbit type is IMP or LAN that means they're no longer in orbit\n",
    "\n",
    "satcat_df.loc[(satcat_df['ORBIT_TYPE'] == 'IMP') | (satcat_df['ORBIT_TYPE'] == 'LAN'), ['PERIOD', 'INCLINATION', 'APOGEE', 'PERIGEE']] = 0\n",
    "\n",
    "# If still in orbit, impute the median (to adjust for outliers)\n",
    "\n",
    "cols = ['PERIOD', 'INCLINATION', 'APOGEE', 'PERIGEE']\n",
    "satcat_df[cols] = satcat_df[cols].fillna(satcat_df[satcat_df['ORBIT_TYPE'] == 'ORB'][cols].median())"
   ]
  },
  {
   "cell_type": "code",
   "execution_count": 29,
   "metadata": {},
   "outputs": [],
   "source": [
    "# Create new columns called Has Decayed so Decay Dates can be kept\n",
    "\n",
    "satcat_df['HAS_DECAYED'] = satcat_df['DECAY_DATE'].notna().astype(int)"
   ]
  },
  {
   "cell_type": "code",
   "execution_count": 30,
   "metadata": {},
   "outputs": [
    {
     "name": "stdout",
     "output_type": "stream",
     "text": [
      "Updated Column Names:\n",
      " Index(['object_name', 'object_id', 'norad_cat_id', 'object_type', 'owner',\n",
      "       'launch_date', 'launch_site', 'decay_date', 'period', 'inclination',\n",
      "       'apogee', 'perigee', 'orbit_type', 'has_decayed'],\n",
      "      dtype='object')\n"
     ]
    }
   ],
   "source": [
    "# Standardize column names\n",
    "\n",
    "satcat_df.columns = satcat_df.columns.str.strip().str.lower().str.replace(\" \", \"_\")\n",
    "\n",
    "print(\"Updated Column Names:\\n\", satcat_df.columns)"
   ]
  },
  {
   "cell_type": "code",
   "execution_count": 31,
   "metadata": {},
   "outputs": [
    {
     "name": "stdout",
     "output_type": "stream",
     "text": [
      "<class 'pandas.core.frame.DataFrame'>\n",
      "Index: 62652 entries, 0 to 63072\n",
      "Data columns (total 14 columns):\n",
      " #   Column        Non-Null Count  Dtype         \n",
      "---  ------        --------------  -----         \n",
      " 0   object_name   62652 non-null  category      \n",
      " 1   object_id     62652 non-null  category      \n",
      " 2   norad_cat_id  62652 non-null  category      \n",
      " 3   object_type   62652 non-null  category      \n",
      " 4   owner         62652 non-null  category      \n",
      " 5   launch_date   62652 non-null  datetime64[ns]\n",
      " 6   launch_site   62652 non-null  category      \n",
      " 7   decay_date    32824 non-null  datetime64[ns]\n",
      " 8   period        62652 non-null  float64       \n",
      " 9   inclination   62652 non-null  float64       \n",
      " 10  apogee        62652 non-null  float64       \n",
      " 11  perigee       62652 non-null  float64       \n",
      " 12  orbit_type    62652 non-null  category      \n",
      " 13  has_decayed   62652 non-null  int64         \n",
      "dtypes: category(7), datetime64[ns](2), float64(4), int64(1)\n",
      "memory usage: 10.3 MB\n"
     ]
    }
   ],
   "source": [
    "# Convert date columns \n",
    "\n",
    "date_columns = [\"launch_date\", 'decay_date']  \n",
    "for col in date_columns:\n",
    "    if col in satcat_df.columns:\n",
    "        satcat_df[col] = pd.to_datetime(satcat_df[col], errors=\"coerce\")\n",
    "\n",
    "# Convert categorical columns\n",
    "\n",
    "categorical_cols = satcat_df.select_dtypes(include=[\"object\"]).columns\n",
    "for col in categorical_cols:\n",
    "    satcat_df[col] = satcat_df[col].astype(\"category\")\n",
    "\n",
    "# Check data types after conversion\n",
    "satcat_df.info()"
   ]
  },
  {
   "cell_type": "code",
   "execution_count": 32,
   "metadata": {},
   "outputs": [],
   "source": [
    "# Save\n",
    "\n",
    "satcat_df.to_parquet(\"data/processed data/satcat_df.parquet\", index = False)\n",
    "satcat_df.to_parquet(f\"s3://{bucket}/data/processed_data/satcat_folder/satcat_df.parquet\", index = False)"
   ]
  },
  {
   "cell_type": "markdown",
   "metadata": {
    "jp-MarkdownHeadingCollapsed": true
   },
   "source": [
    "## Leo Objects"
   ]
  },
  {
   "cell_type": "code",
   "execution_count": 107,
   "metadata": {},
   "outputs": [],
   "source": [
    "leo_df = pd.read_csv(f\"s3://{bucket}/data/raw_data/leo_objects_folder/leo_objects.csv\")"
   ]
  },
  {
   "cell_type": "code",
   "execution_count": 108,
   "metadata": {},
   "outputs": [],
   "source": [
    "# Drop columns that are repeat columns or unecessary for modeling\n",
    "\n",
    "columns_to_drop = ['Unnamed: 0', 'DECAY', 'COMMENT', 'COMMENTCODE', 'FILE', 'LAUNCH_YEAR', 'LAUNCH_PIECE', 'LAUNCH_NUM', 'RCSVALUE', \n",
    "                   'OBJECT_NUMBER', 'OBJECT_ID', 'OBJECT_NAME', 'CURRENT']\n",
    "\n",
    "leo_df = leo_df.drop(columns = columns_to_drop)"
   ]
  },
  {
   "cell_type": "code",
   "execution_count": 109,
   "metadata": {},
   "outputs": [],
   "source": [
    "# Change norad cat id from int to string and change launch to date value\n",
    "\n",
    "leo_df['NORAD_CAT_ID'] = leo_df['NORAD_CAT_ID'].astype('str')\n",
    "leo_df['LAUNCH'] = pd.to_datetime(leo_df['LAUNCH'])"
   ]
  },
  {
   "cell_type": "code",
   "execution_count": 110,
   "metadata": {},
   "outputs": [
    {
     "data": {
      "text/plain": [
       "RCS_SIZE\n",
       "MEDIUM    303\n",
       "SMALL     179\n",
       "LARGE      99\n",
       "Name: count, dtype: int64"
      ]
     },
     "execution_count": 110,
     "metadata": {},
     "output_type": "execute_result"
    }
   ],
   "source": [
    "# Fill NA of RCS SIZE with distribution of corresponding object type\n",
    "\n",
    "leo_df[(leo_df['OBJECT_TYPE'] == 'UNKNOWN') & (leo_df['RCS_SIZE'].notna())]['RCS_SIZE'].value_counts()"
   ]
  },
  {
   "cell_type": "code",
   "execution_count": 111,
   "metadata": {},
   "outputs": [],
   "source": [
    "# Standardize numerical columns\n",
    "\n",
    "leo_df_standardize = leo_df.copy()\n",
    "\n",
    "numerical_cols = ['PERIOD', 'INCLINATION', 'APOGEE', 'PERIGEE']\n",
    "\n",
    "leo_df_standardize[numerical_cols] = leo_df_standardize[numerical_cols].apply(zscore)"
   ]
  },
  {
   "cell_type": "code",
   "execution_count": 112,
   "metadata": {},
   "outputs": [],
   "source": [
    "# Convert categorical columns\n",
    "\n",
    "categorical_cols = leo_df_standardize.select_dtypes(include=[\"object\"]).columns\n",
    "for col in categorical_cols:\n",
    "    leo_df_standardize[col] = leo_df_standardize[col].astype(\"category\")"
   ]
  },
  {
   "cell_type": "code",
   "execution_count": 113,
   "metadata": {},
   "outputs": [],
   "source": [
    "# Rename columns for consistency\n",
    "\n",
    "leo_df_standardize.rename(columns = {\n",
    "    'INTLDES': 'object_id',\n",
    "    'SATNAME': 'object_name',\n",
    "    'SITE': 'launch_site',\n",
    "    'LAUNCH': 'launch_date'\n",
    "},\n",
    "             inplace = True)"
   ]
  },
  {
   "cell_type": "code",
   "execution_count": 114,
   "metadata": {},
   "outputs": [
    {
     "name": "stdout",
     "output_type": "stream",
     "text": [
      "Updated Column Names:\n",
      " Index(['object_id', 'norad_cat_id', 'object_type', 'object_name', 'country',\n",
      "       'launch_date', 'launch_site', 'period', 'inclination', 'apogee',\n",
      "       'perigee', 'rcs_size'],\n",
      "      dtype='object')\n"
     ]
    }
   ],
   "source": [
    "# Standardize column names\n",
    "\n",
    "leo_df_standardize.columns = leo_df_standardize.columns.str.strip().str.lower().str.replace(\" \", \"_\")\n",
    "\n",
    "print(\"Updated Column Names:\\n\", leo_df_standardize.columns)"
   ]
  },
  {
   "cell_type": "code",
   "execution_count": 115,
   "metadata": {},
   "outputs": [],
   "source": [
    "# Save\n",
    "\n",
    "leo_df_standardize.to_parquet(\"data/processed data/leo_objects.parquet\", index = False)\n",
    "leo_df_standardize.to_parquet(f\"s3://{bucket}/data/processed_data/leo_objects_folder/leo_objects.parquet\", index = False)"
   ]
  },
  {
   "cell_type": "markdown",
   "metadata": {
    "jp-MarkdownHeadingCollapsed": true
   },
   "source": [
    "## Collision Data"
   ]
  },
  {
   "cell_type": "code",
   "execution_count": 42,
   "metadata": {},
   "outputs": [],
   "source": [
    "collision_df = pd.read_csv(f\"s3://{bucket}/data/raw_data/simplified_collision_folder/simplified_collision_data.csv\")"
   ]
  },
  {
   "cell_type": "code",
   "execution_count": 44,
   "metadata": {},
   "outputs": [],
   "source": [
    "# Change data types\n",
    "\n",
    "collision_df[['NORAD_CAT_ID_1', 'NORAD_CAT_ID_2']] = collision_df[['NORAD_CAT_ID_1', 'NORAD_CAT_ID_2']].astype('category')\n",
    "\n",
    "collision_df['TCA'] = pd.to_datetime(collision_df['TCA'])"
   ]
  },
  {
   "cell_type": "code",
   "execution_count": 45,
   "metadata": {},
   "outputs": [],
   "source": [
    "# Standardize numerical columns\n",
    "\n",
    "num_cols = ['DSE_1', 'DSE_2', 'TCA_RANGE', 'TCA_RELATIVE_SPEED', 'DILUTION']\n",
    "collision_df[num_cols] = collision_df[num_cols].apply(zscore)"
   ]
  },
  {
   "cell_type": "code",
   "execution_count": 49,
   "metadata": {},
   "outputs": [
    {
     "name": "stdout",
     "output_type": "stream",
     "text": [
      "Updated Column Names:\n",
      " Index(['norad_cat_id_1', 'dse_1', 'norad_cat_id_2', 'dse_2', 'tca',\n",
      "       'tca_range', 'tca_relative_speed', 'max_prob', 'dilution',\n",
      "       'object_name_1', 'object_1_active', 'object_name_2', 'object_2_active',\n",
      "       'activity_status'],\n",
      "      dtype='object')\n"
     ]
    }
   ],
   "source": [
    "# Extract activity status from object and create new column\n",
    "\n",
    "def extract_status(obj_name):\n",
    "    \"\"\"Extracts activity status and cleans the object name.\"\"\"\n",
    "    obj_name = str(obj_name)  # Ensure string type for parsing\n",
    "    is_active = 1 if \"[+]\" in obj_name else 0\n",
    "    cleaned_name = re.sub(r\"[\\[\\]\\+\\-]\", \"\", obj_name).strip()  # Remove [+] and [-]\n",
    "    return cleaned_name, is_active\n",
    "\n",
    "# Apply extraction function to both object columns\n",
    "collision_df[['OBJECT_NAME_1_Clean', 'OBJECT_1_Active']] = collision_df['OBJECT_NAME_1'].apply(lambda x: pd.Series(extract_status(x)))\n",
    "collision_df[['OBJECT_NAME_2_Clean', 'OBJECT_2_Active']] = collision_df['OBJECT_NAME_2'].apply(lambda x: pd.Series(extract_status(x)))\n",
    "\n",
    "# Create Activity_Status column based on activity status\n",
    "collision_df['Activity_Status'] = collision_df['OBJECT_1_Active'] + (collision_df['OBJECT_2_Active'] * 2)\n",
    "\n",
    "# Drop original object columns and rename cleaned ones\n",
    "collision_df = collision_df.drop(columns=['OBJECT_NAME_1', 'OBJECT_NAME_2'])\n",
    "collision_df = collision_df.rename(columns={'OBJECT_NAME_1_Clean': 'OBJECT_NAME_1', 'OBJECT_NAME_2_Clean': 'OBJECT_NAME_2'})\n",
    "\n",
    "# Standardize column names\n",
    "collision_df.columns = collision_df.columns.str.strip().str.lower().str.replace(\" \", \"_\")\n",
    "\n",
    "print(\"Updated Column Names:\\n\", collision_df.columns)\n",
    "\n",
    "# Change activity status to category\n",
    "\n",
    "collision_df['activity_status'] = collision_df['activity_status'].astype('category')"
   ]
  },
  {
   "cell_type": "code",
   "execution_count": 52,
   "metadata": {},
   "outputs": [],
   "source": [
    "# Save\n",
    "\n",
    "collision_df.to_parquet(\"data/processed data/collision_data.parquet\", index=False)\n",
    "collision_df.to_parquet(f\"s3://{bucket}/data/processed_data/collision_data_folder/collision_data.parquet\", index = False)"
   ]
  },
  {
   "cell_type": "markdown",
   "metadata": {
    "jp-MarkdownHeadingCollapsed": true
   },
   "source": [
    "## Lost Object"
   ]
  },
  {
   "cell_type": "code",
   "execution_count": 74,
   "metadata": {},
   "outputs": [],
   "source": [
    "lost_df = pd.read_csv(f\"s3://{bucket}/data/raw_data/lost_objects_folder/lost_objects.csv\")"
   ]
  },
  {
   "cell_type": "code",
   "execution_count": 75,
   "metadata": {},
   "outputs": [],
   "source": [
    "# Drop last row, artifact from scraping data\n",
    "\n",
    "lost_df = lost_df.iloc[:-1]"
   ]
  },
  {
   "cell_type": "code",
   "execution_count": 79,
   "metadata": {},
   "outputs": [],
   "source": [
    "# Change data types appropriately and rename columns for consistency\n",
    "\n",
    "lost_df['NORAD Catalog Number'] = lost_df['NORAD Catalog Number'].astype('category')\n",
    "lost_df.rename(columns = {'NORAD Catalog Number': 'NORAD_CAT_ID', 'International Designator': 'object_id'}, inplace = True)\n",
    "lost_df['Last Data'] = pd.to_datetime(lost_df['Last Data'], format='ISO8601', errors='coerce')\n",
    "lost_df['Launch Date'] = pd.to_datetime(lost_df['Launch Date'])"
   ]
  },
  {
   "cell_type": "code",
   "execution_count": 81,
   "metadata": {},
   "outputs": [],
   "source": [
    "# Change value names of object type column\n",
    "\n",
    "lost_df['Object Type'] = lost_df['Object Type'].replace({\n",
    "    'DEB': 'DEBRIS',\n",
    "    'PAY-': 'PAYLOAD',\n",
    "    'PAY+': 'PAYLOAD',\n",
    "    'R/B': 'ROCKET BODY',\n",
    "    'UNK': 'UNKNOWN'\n",
    "})"
   ]
  },
  {
   "cell_type": "code",
   "execution_count": 82,
   "metadata": {},
   "outputs": [
    {
     "name": "stdout",
     "output_type": "stream",
     "text": [
      "Updated Column Names:\n",
      " Index(['object_id', 'norad_cat_id', 'satellite_name', 'source', 'launch_date',\n",
      "       'launch_site', 'object_type', 'last_data'],\n",
      "      dtype='object')\n"
     ]
    }
   ],
   "source": [
    "# Standardize column names\n",
    "lost_df.columns = lost_df.columns.str.strip().str.lower().str.replace(\" \", \"_\")\n",
    "\n",
    "print(\"Updated Column Names:\\n\", lost_df.columns)"
   ]
  },
  {
   "cell_type": "code",
   "execution_count": 83,
   "metadata": {},
   "outputs": [],
   "source": [
    "# Save\n",
    "\n",
    "lost_df.to_parquet(\"data/processed data/lost_objects.parquet\", index = False)\n",
    "lost_df.to_parquet(f\"s3://{bucket}/data/processed_data/lost_object_folder/lost_objects.parquet\", index = False)"
   ]
  }
 ],
 "metadata": {
  "kernelspec": {
   "display_name": "Python 3",
   "language": "python",
   "name": "python3"
  },
  "language_info": {
   "codemirror_mode": {
    "name": "ipython",
    "version": 3
   },
   "file_extension": ".py",
   "mimetype": "text/x-python",
   "name": "python",
   "nbconvert_exporter": "python",
   "pygments_lexer": "ipython3",
   "version": "3.12.4"
  }
 },
 "nbformat": 4,
 "nbformat_minor": 2
}
