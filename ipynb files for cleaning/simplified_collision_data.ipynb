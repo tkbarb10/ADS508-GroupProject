{
 "cells": [
  {
   "cell_type": "code",
   "execution_count": 1,
   "id": "ac10ceca-7fd6-4570-b0c0-d4bacd51d09e",
   "metadata": {},
   "outputs": [
    {
     "name": "stdout",
     "output_type": "stream",
     "text": [
      "Data cleaned and saved to: /Users/allig/ads/508/cleaned_collision_data.csv\n",
      "   NORAD_CAT_ID_1  DSE_1  NORAD_CAT_ID_2  DSE_2                      TCA  \\\n",
      "0           48379  7.424           33314  7.726  2025-03-18 10:36:24.650   \n",
      "1           56155  7.671           56156  7.671  2025-03-18 06:42:02.541   \n",
      "2           45394  6.801           49027  6.104  2025-03-17 13:58:44.363   \n",
      "3           40030  7.650           45388  7.710  2025-03-18 12:43:07.735   \n",
      "4           51057  5.305           56205  4.570  2025-03-16 01:29:22.126   \n",
      "\n",
      "   TCA_RANGE  TCA_RELATIVE_SPEED  MAX_PROB  DILUTION        OBJECT_NAME_1  \\\n",
      "0      0.018               6.833  0.243800     0.005         STARLINK2612   \n",
      "1      0.027               0.001  0.005994     0.006             PIESAT C   \n",
      "2      0.034              10.515  0.077890     0.011         STARLINK1292   \n",
      "3      0.040              10.447  0.057940     0.013              DTUSAT2   \n",
      "4      0.045              15.169  0.000788     0.029  KEPLER16 (ASTRAEUS)   \n",
      "\n",
      "   OBJECT_1_Active OBJECT_NAME_2  OBJECT_2_Active  Activity_Status  \n",
      "0                1    RAPIDEYE 1                0                1  \n",
      "1                1      PIESAT D                1                3  \n",
      "2                1      TIANQI15                1                3  \n",
      "3                1  STARLINK1280                1                3  \n",
      "4                1       FACSAT2                1                3  \n"
     ]
    }
   ],
   "source": [
    "import pandas as pd\n",
    "import re\n",
    "\n",
    "# Load dataset\n",
    "file_path = '/Users/allig/ads/508/simplified_collision_data.csv'\n",
    "df = pd.read_csv(file_path)\n",
    "\n",
    "# Function to clean object names and extract activity status\n",
    "def extract_status(obj_name):\n",
    "    \"\"\"Extracts activity status and cleans the object name.\"\"\"\n",
    "    obj_name = str(obj_name)  # Ensure string type\n",
    "    is_active = 1 if \"[+]\" in obj_name else 0\n",
    "    cleaned_name = re.sub(r\"[\\[\\]\\+\\-]\", \"\", obj_name).strip()  # Remove [+] and [-]\n",
    "    return cleaned_name, is_active\n",
    "\n",
    "# Apply extraction function to both object columns\n",
    "df[['OBJECT_NAME_1_Clean', 'OBJECT_1_Active']] = df['OBJECT_NAME_1'].apply(lambda x: pd.Series(extract_status(x)))\n",
    "df[['OBJECT_NAME_2_Clean', 'OBJECT_2_Active']] = df['OBJECT_NAME_2'].apply(lambda x: pd.Series(extract_status(x)))\n",
    "\n",
    "# Create Activity_Status column based on activity status\n",
    "df['Activity_Status'] = df['OBJECT_1_Active'] + (df['OBJECT_2_Active'] * 2)\n",
    "\n",
    "# Drop original object columns and rename cleaned ones\n",
    "df = df.drop(columns=['OBJECT_NAME_1', 'OBJECT_NAME_2'])\n",
    "df = df.rename(columns={'OBJECT_NAME_1_Clean': 'OBJECT_NAME_1', 'OBJECT_NAME_2_Clean': 'OBJECT_NAME_2'})\n",
    "\n",
    "# Save cleaned data\n",
    "cleaned_file_path = '/Users/allig/ads/508/cleaned_collision_data.csv'\n",
    "df.to_csv(cleaned_file_path, index=False)\n",
    "\n",
    "print(\"Data cleaned and saved to:\", cleaned_file_path)\n",
    "print(df.head())\n"
   ]
  },
  {
   "cell_type": "markdown",
   "id": "077b80f9-cf61-4025-bf86-d8696fc2e28f",
   "metadata": {},
   "source": [
    "Summary of Changes:\n",
    "Extracts Active Status (1 for active, 0 for inactive).\n",
    "Creates Activity_Status Column:\n",
    "0 → Neither object active\n",
    "1 → Only OBJECT_NAME_1 active\n",
    "2 → Only OBJECT_NAME_2 active\n",
    "3 → Both active\n",
    "Removes [+] and [-] from OBJECT_NAME_1 and OBJECT_NAME_2."
   ]
  },
  {
   "cell_type": "code",
   "execution_count": null,
   "id": "6fe1c89c-4cfa-4430-9326-a1f8b8275816",
   "metadata": {},
   "outputs": [],
   "source": []
  }
 ],
 "metadata": {
  "kernelspec": {
   "display_name": "Python 3 (ipykernel)",
   "language": "python",
   "name": "python3"
  },
  "language_info": {
   "codemirror_mode": {
    "name": "ipython",
    "version": 3
   },
   "file_extension": ".py",
   "mimetype": "text/x-python",
   "name": "python",
   "nbconvert_exporter": "python",
   "pygments_lexer": "ipython3",
   "version": "3.11.11"
  }
 },
 "nbformat": 4,
 "nbformat_minor": 5
}
