{
 "cells": [
  {
   "cell_type": "code",
   "execution_count": 1,
   "id": "0d3cd6ba-2af7-4c5b-a0ef-7edfd02f77b3",
   "metadata": {},
   "outputs": [
    {
     "name": "stdout",
     "output_type": "stream",
     "text": [
      "<class 'pandas.core.frame.DataFrame'>\n",
      "RangeIndex: 2582 entries, 0 to 2581\n",
      "Data columns (total 8 columns):\n",
      " #   Column                    Non-Null Count  Dtype  \n",
      "---  ------                    --------------  -----  \n",
      " 0   International Designator  2582 non-null   object \n",
      " 1   NORAD Catalog Number      2581 non-null   float64\n",
      " 2   Satellite Name            2581 non-null   object \n",
      " 3   Source                    2581 non-null   object \n",
      " 4   Launch Date               2581 non-null   object \n",
      " 5   Launch Site               2581 non-null   object \n",
      " 6   Object Type               2581 non-null   object \n",
      " 7   Last Data                 2581 non-null   object \n",
      "dtypes: float64(1), object(7)\n",
      "memory usage: 161.5+ KB\n"
     ]
    },
    {
     "data": {
      "text/html": [
       "<div>\n",
       "<style scoped>\n",
       "    .dataframe tbody tr th:only-of-type {\n",
       "        vertical-align: middle;\n",
       "    }\n",
       "\n",
       "    .dataframe tbody tr th {\n",
       "        vertical-align: top;\n",
       "    }\n",
       "\n",
       "    .dataframe thead th {\n",
       "        text-align: right;\n",
       "    }\n",
       "</style>\n",
       "<table border=\"1\" class=\"dataframe\">\n",
       "  <thead>\n",
       "    <tr style=\"text-align: right;\">\n",
       "      <th></th>\n",
       "      <th>International Designator</th>\n",
       "      <th>NORAD Catalog Number</th>\n",
       "      <th>Satellite Name</th>\n",
       "      <th>Source</th>\n",
       "      <th>Launch Date</th>\n",
       "      <th>Launch Site</th>\n",
       "      <th>Object Type</th>\n",
       "      <th>Last Data</th>\n",
       "    </tr>\n",
       "  </thead>\n",
       "  <tbody>\n",
       "    <tr>\n",
       "      <th>0</th>\n",
       "      <td>1960-009D</td>\n",
       "      <td>52.0</td>\n",
       "      <td>ECHO 1 DEB [MYLAR OBJ]</td>\n",
       "      <td>US</td>\n",
       "      <td>1960-08-12</td>\n",
       "      <td>AFETR</td>\n",
       "      <td>DEB</td>\n",
       "      <td>1991-03-25T14:23:57.069312</td>\n",
       "    </tr>\n",
       "    <tr>\n",
       "      <th>1</th>\n",
       "      <td>1963-039C</td>\n",
       "      <td>692.0</td>\n",
       "      <td>VELA 1</td>\n",
       "      <td>US</td>\n",
       "      <td>1963-10-17</td>\n",
       "      <td>AFETR</td>\n",
       "      <td>PAY-</td>\n",
       "      <td>2024-11-06T17:09:09.800928</td>\n",
       "    </tr>\n",
       "    <tr>\n",
       "      <th>2</th>\n",
       "      <td>1964-040A</td>\n",
       "      <td>836.0</td>\n",
       "      <td>OPS 3662 (VELA 3)</td>\n",
       "      <td>US</td>\n",
       "      <td>1964-07-17</td>\n",
       "      <td>AFETR</td>\n",
       "      <td>PAY-</td>\n",
       "      <td>2024-10-18T19:49:13.468512</td>\n",
       "    </tr>\n",
       "    <tr>\n",
       "      <th>3</th>\n",
       "      <td>1965-058A</td>\n",
       "      <td>1458.0</td>\n",
       "      <td>OPS 6577 (VELA 5)</td>\n",
       "      <td>US</td>\n",
       "      <td>1965-07-20</td>\n",
       "      <td>AFETR</td>\n",
       "      <td>PAY-</td>\n",
       "      <td>2025-01-24T09:01:13.708704</td>\n",
       "    </tr>\n",
       "    <tr>\n",
       "      <th>4</th>\n",
       "      <td>1965-058B</td>\n",
       "      <td>1459.0</td>\n",
       "      <td>OPS 6564 (VELA 6)</td>\n",
       "      <td>US</td>\n",
       "      <td>1965-07-20</td>\n",
       "      <td>AFETR</td>\n",
       "      <td>PAY-</td>\n",
       "      <td>2024-12-24T02:18:46.645344</td>\n",
       "    </tr>\n",
       "  </tbody>\n",
       "</table>\n",
       "</div>"
      ],
      "text/plain": [
       "  International Designator  NORAD Catalog Number          Satellite Name  \\\n",
       "0                1960-009D                  52.0  ECHO 1 DEB [MYLAR OBJ]   \n",
       "1                1963-039C                 692.0                  VELA 1   \n",
       "2                1964-040A                 836.0       OPS 3662 (VELA 3)   \n",
       "3                1965-058A                1458.0       OPS 6577 (VELA 5)   \n",
       "4                1965-058B                1459.0       OPS 6564 (VELA 6)   \n",
       "\n",
       "  Source Launch Date Launch Site Object Type                   Last Data  \n",
       "0     US  1960-08-12       AFETR         DEB  1991-03-25T14:23:57.069312  \n",
       "1     US  1963-10-17       AFETR        PAY-  2024-11-06T17:09:09.800928  \n",
       "2     US  1964-07-17       AFETR        PAY-  2024-10-18T19:49:13.468512  \n",
       "3     US  1965-07-20       AFETR        PAY-  2025-01-24T09:01:13.708704  \n",
       "4     US  1965-07-20       AFETR        PAY-  2024-12-24T02:18:46.645344  "
      ]
     },
     "execution_count": 1,
     "metadata": {},
     "output_type": "execute_result"
    }
   ],
   "source": [
    "import pandas as pd\n",
    "import numpy as np\n",
    "\n",
    "# Load dataset\n",
    "file_path = '/Users/allig/ads/508/lost_objects.csv'\n",
    "df = pd.read_csv(file_path)\n",
    "\n",
    "# Display basic info\n",
    "df.info()\n",
    "df.head()\n"
   ]
  },
  {
   "cell_type": "code",
   "execution_count": 2,
   "id": "f318fc95-dde5-43cf-8148-a0bf1465e80b",
   "metadata": {},
   "outputs": [
    {
     "name": "stdout",
     "output_type": "stream",
     "text": [
      "Updated Column Names:\n",
      " Index(['international_designator', 'norad_catalog_number', 'satellite_name',\n",
      "       'source', 'launch_date', 'launch_site', 'object_type', 'last_data'],\n",
      "      dtype='object')\n"
     ]
    }
   ],
   "source": [
    "# Standardize column names\n",
    "df.columns = df.columns.str.strip().str.lower().str.replace(\" \", \"_\")\n",
    "\n",
    "print(\"Updated Column Names:\\n\", df.columns)\n"
   ]
  },
  {
   "cell_type": "code",
   "execution_count": 3,
   "id": "7ab310cb-7dd7-435b-ad0d-fadbdaedcd68",
   "metadata": {},
   "outputs": [
    {
     "name": "stdout",
     "output_type": "stream",
     "text": [
      "Remaining Missing Values:\n",
      " international_designator    0\n",
      "norad_catalog_number        0\n",
      "satellite_name              0\n",
      "source                      0\n",
      "launch_date                 0\n",
      "launch_site                 0\n",
      "object_type                 0\n",
      "last_data                   0\n",
      "dtype: int64\n"
     ]
    }
   ],
   "source": [
    "# Drop columns where more than 50% of values are missing\n",
    "threshold = len(df) * 0.5\n",
    "df = df.dropna(thresh=threshold, axis=1)\n",
    "\n",
    "# Fill missing values\n",
    "for col in df.columns:\n",
    "    if df[col].dtype == \"object\":  # Categorical columns\n",
    "        df[col] = df[col].fillna(\"Unknown\")\n",
    "    else:  # Numeric columns\n",
    "        df[col] = df[col].fillna(df[col].median())\n",
    "\n",
    "# Verify missing values\n",
    "print(\"Remaining Missing Values:\\n\", df.isnull().sum())\n"
   ]
  },
  {
   "cell_type": "code",
   "execution_count": 5,
   "id": "25bdc5ef-e18b-4dbb-8d59-2716b4613c3c",
   "metadata": {},
   "outputs": [
    {
     "name": "stdout",
     "output_type": "stream",
     "text": [
      "Dataset now has 2582 rows and 8 columns after removing duplicates.\n"
     ]
    }
   ],
   "source": [
    "# Remove duplicate rows\n",
    "df = df.drop_duplicates()\n",
    "\n",
    "print(f\"Dataset now has {df.shape[0]} rows and {df.shape[1]} columns after removing duplicates.\")\n"
   ]
  },
  {
   "cell_type": "code",
   "execution_count": null,
   "id": "b21e5044-edf6-4372-8d7c-3840a7502d52",
   "metadata": {},
   "outputs": [],
   "source": []
  }
 ],
 "metadata": {
  "kernelspec": {
   "display_name": "Python 3 (ipykernel)",
   "language": "python",
   "name": "python3"
  },
  "language_info": {
   "codemirror_mode": {
    "name": "ipython",
    "version": 3
   },
   "file_extension": ".py",
   "mimetype": "text/x-python",
   "name": "python",
   "nbconvert_exporter": "python",
   "pygments_lexer": "ipython3",
   "version": "3.12.4"
  }
 },
 "nbformat": 4,
 "nbformat_minor": 5
}
