{
 "cells": [
  {
   "cell_type": "code",
   "execution_count": 14,
   "id": "7c3c04e6-1508-446c-b173-7ca0ee09ee77",
   "metadata": {},
   "outputs": [
    {
     "name": "stdout",
     "output_type": "stream",
     "text": [
      "<class 'pandas.core.frame.DataFrame'>\n",
      "RangeIndex: 63073 entries, 0 to 63072\n",
      "Data columns (total 18 columns):\n",
      " #   Column            Non-Null Count  Dtype  \n",
      "---  ------            --------------  -----  \n",
      " 0   Unnamed: 0        63073 non-null  int64  \n",
      " 1   OBJECT_NAME       63073 non-null  object \n",
      " 2   OBJECT_ID         63073 non-null  object \n",
      " 3   NORAD_CAT_ID      63073 non-null  int64  \n",
      " 4   OBJECT_TYPE       63073 non-null  object \n",
      " 5   OPS_STATUS_CODE   45825 non-null  object \n",
      " 6   OWNER             63073 non-null  object \n",
      " 7   LAUNCH_DATE       63073 non-null  object \n",
      " 8   LAUNCH_SITE       63073 non-null  object \n",
      " 9   DECAY_DATE        32937 non-null  object \n",
      " 10  PERIOD            62165 non-null  float64\n",
      " 11  INCLINATION       62165 non-null  float64\n",
      " 12  APOGEE            62165 non-null  float64\n",
      " 13  PERIGEE           62165 non-null  float64\n",
      " 14  RCS               32931 non-null  float64\n",
      " 15  DATA_STATUS_CODE  1171 non-null   object \n",
      " 16  ORBIT_CENTER      63073 non-null  object \n",
      " 17  ORBIT_TYPE        63073 non-null  object \n",
      "dtypes: float64(5), int64(2), object(11)\n",
      "memory usage: 8.7+ MB\n"
     ]
    },
    {
     "data": {
      "text/html": [
       "<div>\n",
       "<style scoped>\n",
       "    .dataframe tbody tr th:only-of-type {\n",
       "        vertical-align: middle;\n",
       "    }\n",
       "\n",
       "    .dataframe tbody tr th {\n",
       "        vertical-align: top;\n",
       "    }\n",
       "\n",
       "    .dataframe thead th {\n",
       "        text-align: right;\n",
       "    }\n",
       "</style>\n",
       "<table border=\"1\" class=\"dataframe\">\n",
       "  <thead>\n",
       "    <tr style=\"text-align: right;\">\n",
       "      <th></th>\n",
       "      <th>Unnamed: 0</th>\n",
       "      <th>OBJECT_NAME</th>\n",
       "      <th>OBJECT_ID</th>\n",
       "      <th>NORAD_CAT_ID</th>\n",
       "      <th>OBJECT_TYPE</th>\n",
       "      <th>OPS_STATUS_CODE</th>\n",
       "      <th>OWNER</th>\n",
       "      <th>LAUNCH_DATE</th>\n",
       "      <th>LAUNCH_SITE</th>\n",
       "      <th>DECAY_DATE</th>\n",
       "      <th>PERIOD</th>\n",
       "      <th>INCLINATION</th>\n",
       "      <th>APOGEE</th>\n",
       "      <th>PERIGEE</th>\n",
       "      <th>RCS</th>\n",
       "      <th>DATA_STATUS_CODE</th>\n",
       "      <th>ORBIT_CENTER</th>\n",
       "      <th>ORBIT_TYPE</th>\n",
       "    </tr>\n",
       "  </thead>\n",
       "  <tbody>\n",
       "    <tr>\n",
       "      <th>0</th>\n",
       "      <td>0</td>\n",
       "      <td>SL-1 R/B</td>\n",
       "      <td>1957-001A</td>\n",
       "      <td>1</td>\n",
       "      <td>R/B</td>\n",
       "      <td>D</td>\n",
       "      <td>CIS</td>\n",
       "      <td>1957-10-04</td>\n",
       "      <td>TYMSC</td>\n",
       "      <td>1957-12-01</td>\n",
       "      <td>96.19</td>\n",
       "      <td>65.10</td>\n",
       "      <td>938.0</td>\n",
       "      <td>214.0</td>\n",
       "      <td>20.420</td>\n",
       "      <td>NaN</td>\n",
       "      <td>EA</td>\n",
       "      <td>IMP</td>\n",
       "    </tr>\n",
       "    <tr>\n",
       "      <th>1</th>\n",
       "      <td>1</td>\n",
       "      <td>SPUTNIK 1</td>\n",
       "      <td>1957-001B</td>\n",
       "      <td>2</td>\n",
       "      <td>PAY</td>\n",
       "      <td>D</td>\n",
       "      <td>CIS</td>\n",
       "      <td>1957-10-04</td>\n",
       "      <td>TYMSC</td>\n",
       "      <td>1958-01-03</td>\n",
       "      <td>96.10</td>\n",
       "      <td>65.00</td>\n",
       "      <td>1080.0</td>\n",
       "      <td>64.0</td>\n",
       "      <td>NaN</td>\n",
       "      <td>NaN</td>\n",
       "      <td>EA</td>\n",
       "      <td>IMP</td>\n",
       "    </tr>\n",
       "    <tr>\n",
       "      <th>2</th>\n",
       "      <td>2</td>\n",
       "      <td>SPUTNIK 2</td>\n",
       "      <td>1957-002A</td>\n",
       "      <td>3</td>\n",
       "      <td>PAY</td>\n",
       "      <td>D</td>\n",
       "      <td>CIS</td>\n",
       "      <td>1957-11-03</td>\n",
       "      <td>TYMSC</td>\n",
       "      <td>1958-04-14</td>\n",
       "      <td>103.74</td>\n",
       "      <td>65.33</td>\n",
       "      <td>1659.0</td>\n",
       "      <td>211.0</td>\n",
       "      <td>0.080</td>\n",
       "      <td>NaN</td>\n",
       "      <td>EA</td>\n",
       "      <td>IMP</td>\n",
       "    </tr>\n",
       "    <tr>\n",
       "      <th>3</th>\n",
       "      <td>3</td>\n",
       "      <td>EXPLORER 1</td>\n",
       "      <td>1958-001A</td>\n",
       "      <td>4</td>\n",
       "      <td>PAY</td>\n",
       "      <td>D</td>\n",
       "      <td>US</td>\n",
       "      <td>1958-02-01</td>\n",
       "      <td>AFETR</td>\n",
       "      <td>1970-03-31</td>\n",
       "      <td>88.48</td>\n",
       "      <td>33.15</td>\n",
       "      <td>215.0</td>\n",
       "      <td>183.0</td>\n",
       "      <td>NaN</td>\n",
       "      <td>NaN</td>\n",
       "      <td>EA</td>\n",
       "      <td>IMP</td>\n",
       "    </tr>\n",
       "    <tr>\n",
       "      <th>4</th>\n",
       "      <td>4</td>\n",
       "      <td>VANGUARD 1</td>\n",
       "      <td>1958-002B</td>\n",
       "      <td>5</td>\n",
       "      <td>PAY</td>\n",
       "      <td>NaN</td>\n",
       "      <td>US</td>\n",
       "      <td>1958-03-17</td>\n",
       "      <td>AFETR</td>\n",
       "      <td>NaN</td>\n",
       "      <td>132.61</td>\n",
       "      <td>34.25</td>\n",
       "      <td>3822.0</td>\n",
       "      <td>650.0</td>\n",
       "      <td>0.122</td>\n",
       "      <td>NaN</td>\n",
       "      <td>EA</td>\n",
       "      <td>ORB</td>\n",
       "    </tr>\n",
       "  </tbody>\n",
       "</table>\n",
       "</div>"
      ],
      "text/plain": [
       "   Unnamed: 0 OBJECT_NAME  OBJECT_ID  NORAD_CAT_ID OBJECT_TYPE  \\\n",
       "0           0    SL-1 R/B  1957-001A             1         R/B   \n",
       "1           1   SPUTNIK 1  1957-001B             2         PAY   \n",
       "2           2   SPUTNIK 2  1957-002A             3         PAY   \n",
       "3           3  EXPLORER 1  1958-001A             4         PAY   \n",
       "4           4  VANGUARD 1  1958-002B             5         PAY   \n",
       "\n",
       "  OPS_STATUS_CODE OWNER LAUNCH_DATE LAUNCH_SITE  DECAY_DATE  PERIOD  \\\n",
       "0               D   CIS  1957-10-04       TYMSC  1957-12-01   96.19   \n",
       "1               D   CIS  1957-10-04       TYMSC  1958-01-03   96.10   \n",
       "2               D   CIS  1957-11-03       TYMSC  1958-04-14  103.74   \n",
       "3               D    US  1958-02-01       AFETR  1970-03-31   88.48   \n",
       "4             NaN    US  1958-03-17       AFETR         NaN  132.61   \n",
       "\n",
       "   INCLINATION  APOGEE  PERIGEE     RCS DATA_STATUS_CODE ORBIT_CENTER  \\\n",
       "0        65.10   938.0    214.0  20.420              NaN           EA   \n",
       "1        65.00  1080.0     64.0     NaN              NaN           EA   \n",
       "2        65.33  1659.0    211.0   0.080              NaN           EA   \n",
       "3        33.15   215.0    183.0     NaN              NaN           EA   \n",
       "4        34.25  3822.0    650.0   0.122              NaN           EA   \n",
       "\n",
       "  ORBIT_TYPE  \n",
       "0        IMP  \n",
       "1        IMP  \n",
       "2        IMP  \n",
       "3        IMP  \n",
       "4        ORB  "
      ]
     },
     "execution_count": 14,
     "metadata": {},
     "output_type": "execute_result"
    }
   ],
   "source": [
    "import pandas as pd\n",
    "import numpy as np\n",
    "\n",
    "# File path\n",
    "file_path = '/Users/allig/ads/508/full_satcat.csv'\n",
    "\n",
    "# Load the dataset\n",
    "df = pd.read_csv(file_path)\n",
    "\n",
    "# Display basic info\n",
    "df.info()\n",
    "df.head()\n"
   ]
  },
  {
   "cell_type": "code",
   "execution_count": 15,
   "id": "da1b6040-f116-462e-93b9-56685c6635fc",
   "metadata": {},
   "outputs": [
    {
     "name": "stdout",
     "output_type": "stream",
     "text": [
      "Missing Values:\n",
      " Unnamed: 0              0\n",
      "OBJECT_NAME             0\n",
      "OBJECT_ID               0\n",
      "NORAD_CAT_ID            0\n",
      "OBJECT_TYPE             0\n",
      "OPS_STATUS_CODE     17248\n",
      "OWNER                   0\n",
      "LAUNCH_DATE             0\n",
      "LAUNCH_SITE             0\n",
      "DECAY_DATE          30136\n",
      "PERIOD                908\n",
      "INCLINATION           908\n",
      "APOGEE                908\n",
      "PERIGEE               908\n",
      "RCS                 30142\n",
      "DATA_STATUS_CODE    61902\n",
      "ORBIT_CENTER            0\n",
      "ORBIT_TYPE              0\n",
      "dtype: int64\n",
      "\n",
      "Summary Statistics:\n",
      "          Unnamed: 0  NORAD_CAT_ID        PERIOD   INCLINATION         APOGEE  \\\n",
      "count  63073.000000   63073.00000  62165.000000  62165.000000   62165.000000   \n",
      "mean   31536.000000   31545.88499    179.444980     69.073459    3604.447519   \n",
      "std    18207.751101   18220.55300    693.984559     25.092792   14008.818079   \n",
      "min        0.000000       1.00000      0.000000      0.000000       0.000000   \n",
      "25%    15768.000000   15769.00000     89.280000     53.030000     268.000000   \n",
      "50%    31536.000000   31537.00000     94.110000     70.380000     491.000000   \n",
      "75%    47304.000000   47305.00000    101.260000     95.380000     885.000000   \n",
      "max    63072.000000   63155.00000  95687.680000    153.720000  641287.000000   \n",
      "\n",
      "             PERIGEE           RCS  \n",
      "count   62165.000000  32931.000000  \n",
      "mean     1756.687815      3.662501  \n",
      "std      6728.001806     19.296260  \n",
      "min         0.000000      0.000100  \n",
      "25%       197.000000      0.013700  \n",
      "50%       413.000000      0.064700  \n",
      "75%       681.000000      1.091350  \n",
      "max    289265.000000    928.310000  \n"
     ]
    }
   ],
   "source": [
    "# Check for missing values\n",
    "missing_values = df.isnull().sum()\n",
    "print(\"Missing Values:\\n\", missing_values)\n",
    "\n",
    "# Summary statistics for numerical columns\n",
    "print(\"\\nSummary Statistics:\\n\", df.describe())\n"
   ]
  },
  {
   "cell_type": "code",
   "execution_count": 16,
   "id": "e346e412-4f7c-4149-a46e-bcde214cd4b8",
   "metadata": {},
   "outputs": [
    {
     "name": "stdout",
     "output_type": "stream",
     "text": [
      "Unique Values per Column:\n",
      " DATA_STATUS_CODE        3\n",
      "ORBIT_TYPE              4\n",
      "OBJECT_TYPE             4\n",
      "OPS_STATUS_CODE         7\n",
      "ORBIT_CENTER           18\n",
      "LAUNCH_SITE            36\n",
      "OWNER                 125\n",
      "PERIGEE              3719\n",
      "LAUNCH_DATE          5644\n",
      "APOGEE               6658\n",
      "INCLINATION          6800\n",
      "PERIOD               8261\n",
      "RCS                 10800\n",
      "DECAY_DATE          14562\n",
      "OBJECT_NAME         22276\n",
      "OBJECT_ID           63073\n",
      "NORAD_CAT_ID        63073\n",
      "Unnamed: 0          63073\n",
      "dtype: int64\n",
      "\n",
      "Column: OBJECT_NAME\n",
      "OBJECT_NAME\n",
      "FENGYUN 1C DEB        3531\n",
      "DELTA 1 DEB           1833\n",
      "COSMOS 1408 DEB       1806\n",
      "COSMOS 2251 DEB       1714\n",
      "CZ-6A DEB             1460\n",
      "SL-4 R/B              1193\n",
      "PEGASUS DEB            767\n",
      "THORAD AGENA D DEB     700\n",
      "SL-12 DEB              685\n",
      "IRIDIUM 33 DEB         656\n",
      "Name: count, dtype: int64\n",
      "\n",
      "Column: OBJECT_ID\n",
      "OBJECT_ID\n",
      "1957-001A     1\n",
      "2017-008CW    1\n",
      "2017-008CY    1\n",
      "2017-008CZ    1\n",
      "2017-008DA    1\n",
      "2017-008DB    1\n",
      "2017-008DC    1\n",
      "2017-008DD    1\n",
      "2017-008DE    1\n",
      "2017-008DF    1\n",
      "Name: count, dtype: int64\n",
      "\n",
      "Column: OBJECT_TYPE\n",
      "OBJECT_TYPE\n",
      "DEB    35600\n",
      "PAY    20644\n",
      "R/B     6665\n",
      "UNK      164\n",
      "Name: count, dtype: int64\n",
      "\n",
      "Column: OPS_STATUS_CODE\n",
      "OPS_STATUS_CODE\n",
      "D    32937\n",
      "+    10988\n",
      "-     1434\n",
      "P      426\n",
      "B       22\n",
      "X       14\n",
      "S        4\n",
      "Name: count, dtype: int64\n",
      "\n",
      "Column: OWNER\n",
      "OWNER\n",
      "CIS    25045\n",
      "US     23249\n",
      "PRC     8444\n",
      "FR      1457\n",
      "JPN      868\n",
      "IND      758\n",
      "UK       751\n",
      "TBD      195\n",
      "ESA      168\n",
      "GER      123\n",
      "Name: count, dtype: int64\n",
      "\n",
      "Column: LAUNCH_DATE\n",
      "LAUNCH_DATE\n",
      "1999-05-10    3537\n",
      "1982-09-16    1814\n",
      "1993-06-16    1718\n",
      "2022-11-11     795\n",
      "1994-05-19     755\n",
      "2024-08-06     683\n",
      "1997-09-14     664\n",
      "1998-11-20     536\n",
      "2006-06-25     510\n",
      "1986-02-22     501\n",
      "Name: count, dtype: int64\n",
      "\n",
      "Column: LAUNCH_SITE\n",
      "LAUNCH_SITE\n",
      "PLMSC    13592\n",
      "TYMSC    12652\n",
      "AFETR    11681\n",
      "AFWTR    10543\n",
      "TAISC     6402\n",
      "FRGUI     2067\n",
      "SRILR     1152\n",
      "JSC       1088\n",
      "XICLF      870\n",
      "TANSC      561\n",
      "Name: count, dtype: int64\n",
      "\n",
      "Column: DECAY_DATE\n",
      "DECAY_DATE\n",
      "1976-08-02    150\n",
      "1973-05-07     93\n",
      "1975-09-09     75\n",
      "1976-08-05     52\n",
      "1977-01-20     47\n",
      "1976-08-13     45\n",
      "2022-12-22     29\n",
      "1981-04-13     29\n",
      "2022-03-09     28\n",
      "2023-03-15     27\n",
      "Name: count, dtype: int64\n",
      "\n",
      "Column: DATA_STATUS_CODE\n",
      "DATA_STATUS_CODE\n",
      "NEA    903\n",
      "NIE    255\n",
      "NCE     13\n",
      "Name: count, dtype: int64\n",
      "\n",
      "Column: ORBIT_CENTER\n",
      "ORBIT_CENTER\n",
      "EA       62652\n",
      "SU         192\n",
      "MO         100\n",
      "MA          30\n",
      "VE          29\n",
      "EM          25\n",
      "25544       10\n",
      "AS           9\n",
      "EL1          6\n",
      "EL2          5\n",
      "Name: count, dtype: int64\n",
      "\n",
      "Column: ORBIT_TYPE\n",
      "ORBIT_TYPE\n",
      "IMP    32519\n",
      "ORB    30119\n",
      "LAN      418\n",
      "DOC       17\n",
      "Name: count, dtype: int64\n"
     ]
    }
   ],
   "source": [
    "# Check unique values per column\n",
    "unique_counts = df.nunique().sort_values()\n",
    "print(\"Unique Values per Column:\\n\", unique_counts)\n",
    "\n",
    "# Count categorical values\n",
    "categorical_columns = df.select_dtypes(include=[\"object\"]).columns\n",
    "for col in categorical_columns:\n",
    "    print(f\"\\nColumn: {col}\")\n",
    "    print(df[col].value_counts().head(10))\n"
   ]
  },
  {
   "cell_type": "code",
   "execution_count": 17,
   "id": "c9c7f24f-32e2-43a7-ac77-625e0069706c",
   "metadata": {},
   "outputs": [
    {
     "name": "stdout",
     "output_type": "stream",
     "text": [
      "Updated Column Names:\n",
      " Index(['unnamed:_0', 'object_name', 'object_id', 'norad_cat_id', 'object_type',\n",
      "       'ops_status_code', 'owner', 'launch_date', 'launch_site', 'decay_date',\n",
      "       'period', 'inclination', 'apogee', 'perigee', 'rcs', 'data_status_code',\n",
      "       'orbit_center', 'orbit_type'],\n",
      "      dtype='object')\n"
     ]
    }
   ],
   "source": [
    "# Standardize column names\n",
    "df.columns = df.columns.str.strip().str.lower().str.replace(\" \", \"_\")\n",
    "\n",
    "print(\"Updated Column Names:\\n\", df.columns)\n"
   ]
  },
  {
   "cell_type": "code",
   "execution_count": 18,
   "id": "2253d3e7-abf2-4790-bb20-f34167d0e081",
   "metadata": {},
   "outputs": [
    {
     "name": "stdout",
     "output_type": "stream",
     "text": [
      "Remaining Missing Values:\n",
      " unnamed:_0         0\n",
      "object_name        0\n",
      "object_id          0\n",
      "norad_cat_id       0\n",
      "object_type        0\n",
      "ops_status_code    0\n",
      "owner              0\n",
      "launch_date        0\n",
      "launch_site        0\n",
      "decay_date         0\n",
      "period             0\n",
      "inclination        0\n",
      "apogee             0\n",
      "perigee            0\n",
      "rcs                0\n",
      "orbit_center       0\n",
      "orbit_type         0\n",
      "dtype: int64\n"
     ]
    }
   ],
   "source": [
    "# Drop columns where more than 50% of values are missing\n",
    "threshold = len(df) * 0.5\n",
    "df = df.dropna(thresh=threshold, axis=1)\n",
    "\n",
    "# Fill missing values\n",
    "for col in df.columns:\n",
    "    if df[col].dtype == \"object\":  # Categorical columns\n",
    "        df[col] = df[col].fillna(\"Unknown\")\n",
    "    else:  # Numeric columns\n",
    "        df[col] = df[col].fillna(df[col].median())\n",
    "\n",
    "# Verify missing values\n",
    "print(\"Remaining Missing Values:\\n\", df.isnull().sum())\n"
   ]
  },
  {
   "cell_type": "code",
   "execution_count": 19,
   "id": "3cf62fd0-daa4-4f94-98df-337c7f887a1c",
   "metadata": {},
   "outputs": [
    {
     "name": "stdout",
     "output_type": "stream",
     "text": [
      "<class 'pandas.core.frame.DataFrame'>\n",
      "RangeIndex: 63073 entries, 0 to 63072\n",
      "Data columns (total 17 columns):\n",
      " #   Column           Non-Null Count  Dtype         \n",
      "---  ------           --------------  -----         \n",
      " 0   unnamed:_0       63073 non-null  int64         \n",
      " 1   object_name      63073 non-null  category      \n",
      " 2   object_id        63073 non-null  category      \n",
      " 3   norad_cat_id     63073 non-null  int64         \n",
      " 4   object_type      63073 non-null  category      \n",
      " 5   ops_status_code  63073 non-null  category      \n",
      " 6   owner            63073 non-null  category      \n",
      " 7   launch_date      63073 non-null  datetime64[ns]\n",
      " 8   launch_site      63073 non-null  category      \n",
      " 9   decay_date       63073 non-null  category      \n",
      " 10  period           63073 non-null  float64       \n",
      " 11  inclination      63073 non-null  float64       \n",
      " 12  apogee           63073 non-null  float64       \n",
      " 13  perigee          63073 non-null  float64       \n",
      " 14  rcs              63073 non-null  float64       \n",
      " 15  orbit_center     63073 non-null  category      \n",
      " 16  orbit_type       63073 non-null  category      \n",
      "dtypes: category(9), datetime64[ns](1), float64(5), int64(2)\n",
      "memory usage: 8.5 MB\n"
     ]
    }
   ],
   "source": [
    "# Convert date columns \n",
    "date_columns = [\"launch_date\"]  \n",
    "for col in date_columns:\n",
    "    if col in df.columns:\n",
    "        df[col] = pd.to_datetime(df[col], errors=\"coerce\")\n",
    "\n",
    "# Convert categorical columns\n",
    "categorical_cols = df.select_dtypes(include=[\"object\"]).columns\n",
    "for col in categorical_cols:\n",
    "    df[col] = df[col].astype(\"category\")\n",
    "\n",
    "# Check data types after conversion\n",
    "df.info()\n"
   ]
  },
  {
   "cell_type": "code",
   "execution_count": 20,
   "id": "f1d16bc7-2c00-491e-952e-97402dfca9a6",
   "metadata": {},
   "outputs": [
    {
     "name": "stdout",
     "output_type": "stream",
     "text": [
      "Dataset now has 63073 rows and 17 columns after removing duplicates.\n"
     ]
    }
   ],
   "source": [
    "# Remove duplicate rows\n",
    "df = df.drop_duplicates()\n",
    "\n",
    "print(f\"Dataset now has {df.shape[0]} rows and {df.shape[1]} columns after removing duplicates.\")\n"
   ]
  },
  {
   "cell_type": "code",
   "execution_count": 21,
   "id": "03d8d223-e12a-4370-bb6c-93c942f5f4ef",
   "metadata": {},
   "outputs": [
    {
     "data": {
      "image/png": "[encoded data removed]",
      "text/plain": [
       "<Figure size 600x300 with 1 Axes>"
      ]
     },
     "metadata": {},
     "output_type": "display_data"
    },
    {
     "data": {
      "image/png": "[encoded data removed]",
      "text/plain": [
       "<Figure size 600x300 with 1 Axes>"
      ]
     },
     "metadata": {},
     "output_type": "display_data"
    },
    {
     "data": {
      "image/png": "[encoded data removed]",
      "text/plain": [
       "<Figure size 600x300 with 1 Axes>"
      ]
     },
     "metadata": {},
     "output_type": "display_data"
    },
    {
     "data": {
      "image/png": "[encoded data removed]",
      "text/plain": [
       "<Figure size 600x300 with 1 Axes>"
      ]
     },
     "metadata": {},
     "output_type": "display_data"
    },
    {
     "data": {
      "image/png": "[encoded data removed]",
      "text/plain": [
       "<Figure size 600x300 with 1 Axes>"
      ]
     },
     "metadata": {},
     "output_type": "display_data"
    },
    {
     "data": {
      "image/png": "[encoded data removed]",
      "text/plain": [
       "<Figure size 600x300 with 1 Axes>"
      ]
     },
     "metadata": {},
     "output_type": "display_data"
    },
    {
     "data": {
      "image/png": "[encoded data removed]",
      "text/plain": [
       "<Figure size 600x300 with 1 Axes>"
      ]
     },
     "metadata": {},
     "output_type": "display_data"
    }
   ],
   "source": [
    "import seaborn as sns\n",
    "import matplotlib.pyplot as plt\n",
    "\n",
    "# Identify outliers using box plots\n",
    "numerical_cols = df.select_dtypes(include=[\"number\"]).columns\n",
    "for col in numerical_cols:\n",
    "    plt.figure(figsize=(6, 3))\n",
    "    sns.boxplot(x=df[col])\n",
    "    plt.title(f\"Outlier Detection - {col}\")\n",
    "    plt.show()\n"
   ]
  },
  {
   "cell_type": "code",
   "execution_count": 22,
   "id": "5f7a1637-f554-426e-a5fe-d9d281393850",
   "metadata": {},
   "outputs": [
    {
     "name": "stdout",
     "output_type": "stream",
     "text": [
      "Outliers removed.\n"
     ]
    }
   ],
   "source": [
    "# Remove outliers beyond 3 standard deviations\n",
    "for col in numerical_cols:\n",
    "    df = df[(np.abs(df[col] - df[col].mean()) <= (3 * df[col].std()))]\n",
    "\n",
    "print(\"Outliers removed.\")\n"
   ]
  },
  {
   "cell_type": "code",
   "execution_count": 23,
   "id": "a39411ff-5188-4267-bf00-a17145847636",
   "metadata": {},
   "outputs": [
    {
     "name": "stdout",
     "output_type": "stream",
     "text": [
      "Cleaned dataset saved at: /Users/allig/ads/508/full_satcat_cleaned.csv\n"
     ]
    }
   ],
   "source": [
    "# Save cleaned dataset\n",
    "cleaned_file_path = '/Users/allig/ads/508/full_satcat_cleaned.csv'\n",
    "df.to_csv(cleaned_file_path, index=False)\n",
    "\n",
    "print(f\"Cleaned dataset saved at: {cleaned_file_path}\")\n"
   ]
  },
  {
   "cell_type": "code",
   "execution_count": null,
   "id": "cf48569c-a0f5-456b-ba8b-7415660ff62b",
   "metadata": {},
   "outputs": [],
   "source": []
  }
 ],
 "metadata": {
  "kernelspec": {
   "display_name": "Python 3 (ipykernel)",
   "language": "python",
   "name": "python3"
  },
  "language_info": {
   "codemirror_mode": {
    "name": "ipython",
    "version": 3
   },
   "file_extension": ".py",
   "mimetype": "text/x-python",
   "name": "python",
   "nbconvert_exporter": "python",
   "pygments_lexer": "ipython3",
   "version": "3.12.4"
  }
 },
 "nbformat": 4,
 "nbformat_minor": 5
}
