{
 "cells": [
  {
   "cell_type": "code",
   "execution_count": 1,
   "metadata": {},
   "outputs": [],
   "source": [
    "import pandas as pd\n",
    "from scipy.stats import zscore"
   ]
  },
  {
   "cell_type": "code",
   "execution_count": 2,
   "metadata": {},
   "outputs": [],
   "source": [
    "df = pd.read_csv('C:/Users/tkbar/OneDrive/Desktop/ADS508 Final Project/ADS508-GroupProject/Data to use/lost_objects.csv')"
   ]
  },
  {
   "cell_type": "code",
   "execution_count": 3,
   "metadata": {},
   "outputs": [
    {
     "data": {
      "text/plain": [
       "Index(['International Designator', 'NORAD Catalog Number', 'Satellite Name',\n",
       "       'Source', 'Launch Date', 'Launch Site', 'Object Type', 'Last Data'],\n",
       "      dtype='object')"
      ]
     },
     "execution_count": 3,
     "metadata": {},
     "output_type": "execute_result"
    }
   ],
   "source": [
    "df.columns"
   ]
  },
  {
   "cell_type": "code",
   "execution_count": 4,
   "metadata": {},
   "outputs": [
    {
     "name": "stdout",
     "output_type": "stream",
     "text": [
      "<class 'pandas.core.frame.DataFrame'>\n",
      "RangeIndex: 2582 entries, 0 to 2581\n",
      "Data columns (total 8 columns):\n",
      " #   Column                    Non-Null Count  Dtype  \n",
      "---  ------                    --------------  -----  \n",
      " 0   International Designator  2582 non-null   object \n",
      " 1   NORAD Catalog Number      2581 non-null   float64\n",
      " 2   Satellite Name            2581 non-null   object \n",
      " 3   Source                    2581 non-null   object \n",
      " 4   Launch Date               2581 non-null   object \n",
      " 5   Launch Site               2581 non-null   object \n",
      " 6   Object Type               2581 non-null   object \n",
      " 7   Last Data                 2581 non-null   object \n",
      "dtypes: float64(1), object(7)\n",
      "memory usage: 161.5+ KB\n"
     ]
    }
   ],
   "source": [
    "df.info()"
   ]
  },
  {
   "cell_type": "code",
   "execution_count": 16,
   "metadata": {},
   "outputs": [
    {
     "data": {
      "text/plain": [
       "International Designator    0\n",
       "NORAD Catalog Number        0\n",
       "Satellite Name              0\n",
       "Source                      0\n",
       "Launch Date                 0\n",
       "Launch Site                 0\n",
       "Object Type                 0\n",
       "Last Data                   0\n",
       "dtype: int64"
      ]
     },
     "execution_count": 16,
     "metadata": {},
     "output_type": "execute_result"
    }
   ],
   "source": [
    "df.isna().sum()"
   ]
  },
  {
   "cell_type": "code",
   "execution_count": 23,
   "metadata": {},
   "outputs": [
    {
     "data": {
      "text/html": [
       "<div>\n",
       "<style scoped>\n",
       "    .dataframe tbody tr th:only-of-type {\n",
       "        vertical-align: middle;\n",
       "    }\n",
       "\n",
       "    .dataframe tbody tr th {\n",
       "        vertical-align: top;\n",
       "    }\n",
       "\n",
       "    .dataframe thead th {\n",
       "        text-align: right;\n",
       "    }\n",
       "</style>\n",
       "<table border=\"1\" class=\"dataframe\">\n",
       "  <thead>\n",
       "    <tr style=\"text-align: right;\">\n",
       "      <th></th>\n",
       "      <th>International Designator</th>\n",
       "      <th>NORAD Catalog Number</th>\n",
       "      <th>Satellite Name</th>\n",
       "      <th>Source</th>\n",
       "      <th>Launch Date</th>\n",
       "      <th>Launch Site</th>\n",
       "      <th>Object Type</th>\n",
       "      <th>Last Data</th>\n",
       "    </tr>\n",
       "  </thead>\n",
       "  <tbody>\n",
       "    <tr>\n",
       "      <th>0</th>\n",
       "      <td>1960-009D</td>\n",
       "      <td>52.0</td>\n",
       "      <td>ECHO 1 DEB [MYLAR OBJ]</td>\n",
       "      <td>US</td>\n",
       "      <td>1960-08-12</td>\n",
       "      <td>AFETR</td>\n",
       "      <td>DEB</td>\n",
       "      <td>1991-03-25 14:23:57.069312</td>\n",
       "    </tr>\n",
       "    <tr>\n",
       "      <th>1</th>\n",
       "      <td>1963-039C</td>\n",
       "      <td>692.0</td>\n",
       "      <td>VELA 1</td>\n",
       "      <td>US</td>\n",
       "      <td>1963-10-17</td>\n",
       "      <td>AFETR</td>\n",
       "      <td>PAY-</td>\n",
       "      <td>2024-11-06 17:09:09.800928</td>\n",
       "    </tr>\n",
       "    <tr>\n",
       "      <th>2</th>\n",
       "      <td>1964-040A</td>\n",
       "      <td>836.0</td>\n",
       "      <td>OPS 3662 (VELA 3)</td>\n",
       "      <td>US</td>\n",
       "      <td>1964-07-17</td>\n",
       "      <td>AFETR</td>\n",
       "      <td>PAY-</td>\n",
       "      <td>2024-10-18 19:49:13.468512</td>\n",
       "    </tr>\n",
       "    <tr>\n",
       "      <th>3</th>\n",
       "      <td>1965-058A</td>\n",
       "      <td>1458.0</td>\n",
       "      <td>OPS 6577 (VELA 5)</td>\n",
       "      <td>US</td>\n",
       "      <td>1965-07-20</td>\n",
       "      <td>AFETR</td>\n",
       "      <td>PAY-</td>\n",
       "      <td>2025-01-24 09:01:13.708704</td>\n",
       "    </tr>\n",
       "    <tr>\n",
       "      <th>4</th>\n",
       "      <td>1965-058B</td>\n",
       "      <td>1459.0</td>\n",
       "      <td>OPS 6564 (VELA 6)</td>\n",
       "      <td>US</td>\n",
       "      <td>1965-07-20</td>\n",
       "      <td>AFETR</td>\n",
       "      <td>PAY-</td>\n",
       "      <td>2024-12-24 02:18:46.645344</td>\n",
       "    </tr>\n",
       "  </tbody>\n",
       "</table>\n",
       "</div>"
      ],
      "text/plain": [
       "  International Designator NORAD Catalog Number          Satellite Name  \\\n",
       "0                1960-009D                 52.0  ECHO 1 DEB [MYLAR OBJ]   \n",
       "1                1963-039C                692.0                  VELA 1   \n",
       "2                1964-040A                836.0       OPS 3662 (VELA 3)   \n",
       "3                1965-058A               1458.0       OPS 6577 (VELA 5)   \n",
       "4                1965-058B               1459.0       OPS 6564 (VELA 6)   \n",
       "\n",
       "  Source Launch Date Launch Site Object Type                  Last Data  \n",
       "0     US  1960-08-12       AFETR         DEB 1991-03-25 14:23:57.069312  \n",
       "1     US  1963-10-17       AFETR        PAY- 2024-11-06 17:09:09.800928  \n",
       "2     US  1964-07-17       AFETR        PAY- 2024-10-18 19:49:13.468512  \n",
       "3     US  1965-07-20       AFETR        PAY- 2025-01-24 09:01:13.708704  \n",
       "4     US  1965-07-20       AFETR        PAY- 2024-12-24 02:18:46.645344  "
      ]
     },
     "execution_count": 23,
     "metadata": {},
     "output_type": "execute_result"
    }
   ],
   "source": [
    "df.head()"
   ]
  },
  {
   "cell_type": "code",
   "execution_count": null,
   "metadata": {},
   "outputs": [],
   "source": [
    "# Drop last row\n",
    "\n",
    "df = df.iloc[:-1]"
   ]
  },
  {
   "cell_type": "code",
   "execution_count": 21,
   "metadata": {},
   "outputs": [],
   "source": [
    "df['NORAD Catalog Number'] = df['NORAD Catalog Number'].astype(str)\n",
    "df['NORAD Catalog Number'].rename('NORAD_CAT_ID', inplace = True)\n",
    "df['Last Data'] = pd.to_datetime(df['Last Data'], format='ISO8601', errors='coerce')\n",
    "df['Launch Date'] = pd.to_datetime(df['Launch Date'])"
   ]
  },
  {
   "cell_type": "code",
   "execution_count": 24,
   "metadata": {},
   "outputs": [
    {
     "data": {
      "text/plain": [
       "Object Type\n",
       "DEB     2492\n",
       "PAY-      37\n",
       "R/B       25\n",
       "PAY+      25\n",
       "UNK        2\n",
       "Name: count, dtype: int64"
      ]
     },
     "execution_count": 24,
     "metadata": {},
     "output_type": "execute_result"
    }
   ],
   "source": [
    "df['Object Type'].value_counts()"
   ]
  },
  {
   "cell_type": "code",
   "execution_count": 25,
   "metadata": {},
   "outputs": [],
   "source": [
    "df['Object Type'] = df['Object Type'].replace({\n",
    "    'DEB': 'DEBRIS',\n",
    "    'PAY-': 'PAYLOAD',\n",
    "    'PAY+': 'PAYLOAD',\n",
    "    'R/B': 'ROCKET BODY',\n",
    "    'UNK': 'UNKNOWN'\n",
    "})"
   ]
  }
 ],
 "metadata": {
  "kernelspec": {
   "display_name": "Python 3",
   "language": "python",
   "name": "python3"
  },
  "language_info": {
   "codemirror_mode": {
    "name": "ipython",
    "version": 3
   },
   "file_extension": ".py",
   "mimetype": "text/x-python",
   "name": "python",
   "nbconvert_exporter": "python",
   "pygments_lexer": "ipython3",
   "version": "3.13.2"
  }
 },
 "nbformat": 4,
 "nbformat_minor": 2
}
