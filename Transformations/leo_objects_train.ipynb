{
 "cells": [
  {
   "cell_type": "code",
   "execution_count": null,
   "id": "005884c9-ff08-4b7d-bdce-a34dadbe4418",
   "metadata": {},
   "outputs": [],
   "source": [
    "!pip install sagemaker pandas numpy boto3 scikit-learn"
   ]
  },
  {
   "cell_type": "code",
   "execution_count": null,
   "id": "3555b087-1236-46d9-95f9-55a743612039",
   "metadata": {},
   "outputs": [],
   "source": [
    "import pandas as pd\n",
    "import boto3\n",
    "import sagemaker\n",
    "from sagemaker import get_execution_role\n",
    "from sagemaker.inputs import TrainingInput\n",
    "from sagemaker.estimator import Estimator\n",
    "\n",
    "# Load dataset\n",
    "df = pd.read_csv(\"leo_objects_cleaned.csv\")\n",
    "\n",
    "# Ensure 'object_type' is first column\n",
    "cols = [\"object_type\"] + [col for col in df.columns if col != \"object_type\"]\n",
    "df = df[cols]\n",
    "\n",
    "# Drop unnecessary column \n",
    "df = df.drop(columns=[\"unnamed:_0\"], errors=\"ignore\")\n",
    "\n",
    "# Encode categorical variables\n",
    "df = pd.get_dummies(df)\n",
    "\n",
    "# Split into train and test\n",
    "from sklearn.model_selection import train_test_split\n",
    "\n",
    "train_df, test_df = train_test_split(df, test_size=0.2, random_state=42)\n",
    "\n",
    "# Save CSV files\n",
    "train_df.to_csv(\"train.csv\", index=False, header=False)\n",
    "test_df.to_csv(\"test.csv\", index=False, header=False)\n",
    "\n",
    "print(\"✅ Data Preprocessing Complete\")"
   ]
  },
  {
   "cell_type": "code",
   "execution_count": null,
   "id": "0592cfdc-3eaf-4e7f-bf06-802299646e47",
   "metadata": {},
   "outputs": [],
   "source": [
    "# Set up SageMaker session\n",
    "sagemaker_session = sagemaker.Session()\n",
    "role = get_execution_role()\n",
    "\n",
    "# Upload files to S3\n",
    "bucket = sagemaker_session.default_bucket()\n",
    "train_path = f\"s3://{bucket}/train.csv\"\n",
    "test_path = f\"s3://{bucket}/test.csv\"\n",
    "\n",
    "s3_client = boto3.client(\"s3\")\n",
    "s3_client.upload_file(\"train.csv\", bucket, \"train.csv\")\n",
    "s3_client.upload_file(\"test.csv\", bucket, \"test.csv\")\n",
    "\n",
    "print(f\"✅ Data uploaded to {train_path}\")"
   ]
  },
  {
   "cell_type": "code",
   "execution_count": null,
   "id": "5d9639a1-fd42-436e-87cd-b9efd1b5ce8f",
   "metadata": {},
   "outputs": [],
   "source": [
    "# Define SageMaker XGBoost container\n",
    "from sagemaker.algorithm_specifier import AlgorithmSpecification\n",
    "\n",
    "container = sagemaker.image_uris.retrieve(\"xgboost\", sagemaker_session.boto_region_name, \"1.5-1\")\n",
    "\n",
    "xgboost = Estimator(\n",
    "    image_uri=container,\n",
    "    role=role,\n",
    "    instance_count=1,\n",
    "    instance_type=\"ml.m5.large\",\n",
    "    output_path=f\"s3://{bucket}/output\",\n",
    "    sagemaker_session=sagemaker_session\n",
    ")\n",
    "\n",
    "# Set hyperparameters\n",
    "xgboost.set_hyperparameters(\n",
    "    objective=\"multi:softmax\",\n",
    "    num_class=df[\"object_type\"].nunique(),\n",
    "    num_round=100,\n",
    "    max_depth=5,\n",
    "    eta=0.2,\n",
    "    gamma=4,\n",
    "    min_child_weight=6,\n",
    "    subsample=0.8,\n",
    "    verbosity=2\n",
    ")\n",
    "\n",
    "# Define input format\n",
    "train_input = TrainingInput(train_path, content_type=\"csv\")\n",
    "test_input = TrainingInput(test_path, content_type=\"csv\")\n",
    "\n",
    "# Train model\n",
    "xgboost.fit({\"train\": train_input, \"validation\": test_input})\n",
    "\n",
    "print(\"✅ Training Complete\")"
   ]
  },
  {
   "cell_type": "code",
   "execution_count": null,
   "id": "3dd1e8f2-b450-4847-884a-87ffe2312243",
   "metadata": {},
   "outputs": [],
   "source": [
    "# Deploy the trained model\n",
    "predictor = xgboost.deploy(instance_type=\"ml.m5.large\", initial_instance_count=1)\n",
    "\n",
    "# Prepare sample data for inference\n",
    "import numpy as np\n",
    "\n",
    "sample = test_df.iloc[0, 1:].values.reshape(1, -1)  # Exclude 'object_type'\n",
    "\n",
    "# Make a prediction\n",
    "prediction = predictor.predict(sample)\n",
    "print(f\"🚀 Predicted Object Type: {prediction}\")"
   ]
  },
  {
   "cell_type": "code",
   "execution_count": null,
   "id": "44985ad6-be59-45f0-98a1-f172f121d80b",
   "metadata": {},
   "outputs": [],
   "source": []
  }
 ],
 "metadata": {
  "kernelspec": {
   "display_name": "Python 3 (ipykernel)",
   "language": "python",
   "name": "python3"
  },
  "language_info": {
   "codemirror_mode": {
    "name": "ipython",
    "version": 3
   },
   "file_extension": ".py",
   "mimetype": "text/x-python",
   "name": "python",
   "nbconvert_exporter": "python",
   "pygments_lexer": "ipython3",
   "version": "3.11.11"
  }
 },
 "nbformat": 4,
 "nbformat_minor": 5
}
