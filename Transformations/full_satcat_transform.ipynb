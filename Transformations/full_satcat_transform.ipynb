{
 "cells": [
  {
   "cell_type": "code",
   "execution_count": 1,
   "metadata": {},
   "outputs": [],
   "source": [
    "import pandas as pd\n",
    "from scipy.stats import zscore"
   ]
  },
  {
   "cell_type": "code",
   "execution_count": 68,
   "metadata": {},
   "outputs": [],
   "source": [
    "df = pd.read_csv('C:/Users/tkbar/OneDrive/Desktop/ADS508 Final Project/ADS508-GroupProject/Data to use/full_satcat.csv')"
   ]
  },
  {
   "cell_type": "code",
   "execution_count": 80,
   "metadata": {},
   "outputs": [
    {
     "data": {
      "text/plain": [
       "Index(['Unnamed: 0', 'OBJECT_NAME', 'OBJECT_ID', 'NORAD_CAT_ID', 'OBJECT_TYPE',\n",
       "       'OPS_STATUS_CODE', 'OWNER', 'LAUNCH_DATE', 'LAUNCH_SITE', 'DECAY_DATE',\n",
       "       'PERIOD', 'INCLINATION', 'APOGEE', 'PERIGEE', 'RCS', 'DATA_STATUS_CODE',\n",
       "       'ORBIT_CENTER', 'ORBIT_TYPE'],\n",
       "      dtype='object')"
      ]
     },
     "execution_count": 80,
     "metadata": {},
     "output_type": "execute_result"
    }
   ],
   "source": [
    "df.columns"
   ]
  },
  {
   "cell_type": "code",
   "execution_count": 81,
   "metadata": {},
   "outputs": [
    {
     "name": "stdout",
     "output_type": "stream",
     "text": [
      "<class 'pandas.core.frame.DataFrame'>\n",
      "RangeIndex: 63073 entries, 0 to 63072\n",
      "Data columns (total 18 columns):\n",
      " #   Column            Non-Null Count  Dtype  \n",
      "---  ------            --------------  -----  \n",
      " 0   Unnamed: 0        63073 non-null  int64  \n",
      " 1   OBJECT_NAME       63073 non-null  object \n",
      " 2   OBJECT_ID         63073 non-null  object \n",
      " 3   NORAD_CAT_ID      63073 non-null  int64  \n",
      " 4   OBJECT_TYPE       63073 non-null  object \n",
      " 5   OPS_STATUS_CODE   45825 non-null  object \n",
      " 6   OWNER             63073 non-null  object \n",
      " 7   LAUNCH_DATE       63073 non-null  object \n",
      " 8   LAUNCH_SITE       63073 non-null  object \n",
      " 9   DECAY_DATE        32937 non-null  object \n",
      " 10  PERIOD            62165 non-null  float64\n",
      " 11  INCLINATION       62165 non-null  float64\n",
      " 12  APOGEE            62165 non-null  float64\n",
      " 13  PERIGEE           62165 non-null  float64\n",
      " 14  RCS               32931 non-null  float64\n",
      " 15  DATA_STATUS_CODE  1171 non-null   object \n",
      " 16  ORBIT_CENTER      63073 non-null  object \n",
      " 17  ORBIT_TYPE        63073 non-null  object \n",
      "dtypes: float64(5), int64(2), object(11)\n",
      "memory usage: 8.7+ MB\n"
     ]
    }
   ],
   "source": [
    "df.info()"
   ]
  },
  {
   "cell_type": "code",
   "execution_count": 69,
   "metadata": {},
   "outputs": [],
   "source": [
    "columns_to_drop = ['Unnamed: 0', 'DATA_STATUS_CODE', 'RCS', 'OPS_STATUS_CODE', 'DATA_STATUS_CODE']\n",
    "df = df.drop(columns = columns_to_drop)\n",
    "df = df[df['ORBIT_CENTER'] == 'EA']\n",
    "df = df.drop(columns = 'ORBIT_CENTER')"
   ]
  },
  {
   "cell_type": "code",
   "execution_count": 102,
   "metadata": {},
   "outputs": [
    {
     "data": {
      "text/plain": [
       "Index(['OBJECT_NAME', 'OBJECT_ID', 'NORAD_CAT_ID', 'OBJECT_TYPE', 'OWNER',\n",
       "       'LAUNCH_DATE', 'LAUNCH_SITE', 'DECAY_DATE', 'PERIOD', 'INCLINATION',\n",
       "       'APOGEE', 'PERIGEE', 'ORBIT_TYPE'],\n",
       "      dtype='object')"
      ]
     },
     "execution_count": 102,
     "metadata": {},
     "output_type": "execute_result"
    }
   ],
   "source": [
    "df.columns"
   ]
  },
  {
   "cell_type": "code",
   "execution_count": 4,
   "metadata": {},
   "outputs": [
    {
     "data": {
      "text/plain": [
       "OBJECT_NAME         0\n",
       "OBJECT_ID           0\n",
       "NORAD_CAT_ID        0\n",
       "OBJECT_TYPE         0\n",
       "OWNER               0\n",
       "LAUNCH_DATE         0\n",
       "LAUNCH_SITE         0\n",
       "DECAY_DATE      29828\n",
       "PERIOD            523\n",
       "INCLINATION       523\n",
       "APOGEE            523\n",
       "PERIGEE           523\n",
       "ORBIT_TYPE          0\n",
       "dtype: int64"
      ]
     },
     "execution_count": 4,
     "metadata": {},
     "output_type": "execute_result"
    }
   ],
   "source": [
    "df.isna().sum()"
   ]
  },
  {
   "cell_type": "code",
   "execution_count": 70,
   "metadata": {},
   "outputs": [],
   "source": [
    "df['OBJECT_TYPE'] = df['OBJECT_TYPE'].replace({\n",
    "    'DEB': 'DEBRIS',\n",
    "    'PAY': 'PAYLOAD',\n",
    "    'R/B': 'ROCKET BODY',\n",
    "    'UNK': 'UNKNOWN'\n",
    "})"
   ]
  },
  {
   "cell_type": "code",
   "execution_count": 71,
   "metadata": {},
   "outputs": [],
   "source": [
    "# Change decay date to a date time data type and norrad cat id to a string\n",
    "\n",
    "df['DECAY_DATE'] = pd.to_datetime(df['DECAY_DATE'])\n",
    "df['NORAD_CAT_ID'] = df['NORAD_CAT_ID'].astype('str')"
   ]
  },
  {
   "cell_type": "code",
   "execution_count": 50,
   "metadata": {},
   "outputs": [
    {
     "data": {
      "text/plain": [
       "ORBIT_TYPE\n",
       "ORB    320\n",
       "IMP    184\n",
       "LAN     19\n",
       "Name: count, dtype: int64"
      ]
     },
     "execution_count": 50,
     "metadata": {},
     "output_type": "execute_result"
    }
   ],
   "source": [
    "df[df['PERIGEE'].isna()]['ORBIT_TYPE'].value_counts()"
   ]
  },
  {
   "cell_type": "code",
   "execution_count": 51,
   "metadata": {},
   "outputs": [
    {
     "data": {
      "text/plain": [
       "OBJECT_NAME         0\n",
       "OBJECT_ID           0\n",
       "NORAD_CAT_ID        0\n",
       "OBJECT_TYPE         0\n",
       "OWNER               0\n",
       "LAUNCH_DATE         0\n",
       "LAUNCH_SITE         0\n",
       "DECAY_DATE      29828\n",
       "PERIOD            523\n",
       "INCLINATION       523\n",
       "APOGEE            523\n",
       "PERIGEE           523\n",
       "ORBIT_TYPE          0\n",
       "dtype: int64"
      ]
     },
     "execution_count": 51,
     "metadata": {},
     "output_type": "execute_result"
    }
   ],
   "source": [
    "df.isna().sum()"
   ]
  },
  {
   "cell_type": "code",
   "execution_count": 72,
   "metadata": {},
   "outputs": [],
   "source": [
    "# Fill in some of the NA values for the distance and location metrics\n",
    "\n",
    "df.loc[(df['ORBIT_TYPE'] == 'IMP') | (df['ORBIT_TYPE'] == 'LAN'), ['PERIOD', 'INCLINATION', 'APOGEE', 'PERIGEE']] = 0"
   ]
  },
  {
   "cell_type": "code",
   "execution_count": 23,
   "metadata": {},
   "outputs": [
    {
     "data": {
      "text/plain": [
       "OBJECT_NAME         0\n",
       "OBJECT_ID           0\n",
       "NORAD_CAT_ID        0\n",
       "OBJECT_TYPE         0\n",
       "OWNER               0\n",
       "LAUNCH_DATE         0\n",
       "LAUNCH_SITE         0\n",
       "DECAY_DATE      29828\n",
       "PERIOD            320\n",
       "INCLINATION       320\n",
       "APOGEE            320\n",
       "PERIGEE           320\n",
       "ORBIT_TYPE          0\n",
       "dtype: int64"
      ]
     },
     "execution_count": 23,
     "metadata": {},
     "output_type": "execute_result"
    }
   ],
   "source": [
    "df.isna().sum()"
   ]
  },
  {
   "cell_type": "code",
   "execution_count": 74,
   "metadata": {},
   "outputs": [],
   "source": [
    "cols = ['PERIOD', 'INCLINATION', 'APOGEE', 'PERIGEE']\n",
    "df[cols] = df[cols].fillna(df[df['ORBIT_TYPE'] == 'ORB'][cols].median())\n"
   ]
  },
  {
   "cell_type": "code",
   "execution_count": 75,
   "metadata": {},
   "outputs": [
    {
     "data": {
      "text/plain": [
       "OBJECT_NAME         0\n",
       "OBJECT_ID           0\n",
       "NORAD_CAT_ID        0\n",
       "OBJECT_TYPE         0\n",
       "OWNER               0\n",
       "LAUNCH_DATE         0\n",
       "LAUNCH_SITE         0\n",
       "DECAY_DATE      29828\n",
       "PERIOD              0\n",
       "INCLINATION         0\n",
       "APOGEE              0\n",
       "PERIGEE             0\n",
       "ORBIT_TYPE          0\n",
       "dtype: int64"
      ]
     },
     "execution_count": 75,
     "metadata": {},
     "output_type": "execute_result"
    }
   ],
   "source": [
    "df.isna().sum()"
   ]
  },
  {
   "cell_type": "code",
   "execution_count": 76,
   "metadata": {},
   "outputs": [],
   "source": [
    "df['HAS_DECAYED'] = df['DECAY_DATE'].notna().astype(int)"
   ]
  }
 ],
 "metadata": {
  "kernelspec": {
   "display_name": "Python 3",
   "language": "python",
   "name": "python3"
  },
  "language_info": {
   "codemirror_mode": {
    "name": "ipython",
    "version": 3
   },
   "file_extension": ".py",
   "mimetype": "text/x-python",
   "name": "python",
   "nbconvert_exporter": "python",
   "pygments_lexer": "ipython3",
   "version": "3.13.2"
  }
 },
 "nbformat": 4,
 "nbformat_minor": 2
}
