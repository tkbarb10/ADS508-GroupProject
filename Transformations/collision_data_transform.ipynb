{
 "cells": [
  {
   "cell_type": "code",
   "execution_count": 1,
   "metadata": {},
   "outputs": [],
   "source": [
    "import pandas as pd\n",
    "from scipy.stats import zscore"
   ]
  },
  {
   "cell_type": "code",
   "execution_count": null,
   "metadata": {},
   "outputs": [],
   "source": [
    "df = pd.read_csv(\"Cleaned_Data/cleaned_collision_data.csv\")"
   ]
  },
  {
   "cell_type": "code",
   "execution_count": 4,
   "metadata": {},
   "outputs": [
    {
     "data": {
      "text/plain": [
       "Index(['NORAD_CAT_ID_1', 'DSE_1', 'NORAD_CAT_ID_2', 'DSE_2', 'TCA',\n",
       "       'TCA_RANGE', 'TCA_RELATIVE_SPEED', 'MAX_PROB', 'DILUTION',\n",
       "       'OBJECT_NAME_1', 'OBJECT_1_Active', 'OBJECT_NAME_2', 'OBJECT_2_Active',\n",
       "       'Activity_Status'],\n",
       "      dtype='object')"
      ]
     },
     "execution_count": 4,
     "metadata": {},
     "output_type": "execute_result"
    }
   ],
   "source": [
    "df.columns"
   ]
  },
  {
   "cell_type": "code",
   "execution_count": 11,
   "metadata": {},
   "outputs": [
    {
     "name": "stdout",
     "output_type": "stream",
     "text": [
      "<class 'pandas.core.frame.DataFrame'>\n",
      "RangeIndex: 80377 entries, 0 to 80376\n",
      "Data columns (total 14 columns):\n",
      " #   Column              Non-Null Count  Dtype         \n",
      "---  ------              --------------  -----         \n",
      " 0   NORAD_CAT_ID_1      80377 non-null  object        \n",
      " 1   DSE_1               80377 non-null  float64       \n",
      " 2   NORAD_CAT_ID_2      80377 non-null  object        \n",
      " 3   DSE_2               80377 non-null  float64       \n",
      " 4   TCA                 80377 non-null  datetime64[ns]\n",
      " 5   TCA_RANGE           80377 non-null  float64       \n",
      " 6   TCA_RELATIVE_SPEED  80377 non-null  float64       \n",
      " 7   MAX_PROB            80377 non-null  float64       \n",
      " 8   DILUTION            80377 non-null  float64       \n",
      " 9   OBJECT_NAME_1       80377 non-null  object        \n",
      " 10  OBJECT_1_Active     80377 non-null  int64         \n",
      " 11  OBJECT_NAME_2       80377 non-null  object        \n",
      " 12  OBJECT_2_Active     80377 non-null  int64         \n",
      " 13  Activity_Status     80377 non-null  object        \n",
      "dtypes: datetime64[ns](1), float64(6), int64(2), object(5)\n",
      "memory usage: 8.6+ MB\n"
     ]
    }
   ],
   "source": [
    "df.info()"
   ]
  },
  {
   "cell_type": "code",
   "execution_count": 10,
   "metadata": {},
   "outputs": [],
   "source": [
    "df[['NORAD_CAT_ID_1', 'NORAD_CAT_ID_2', 'Activity_Status']] = df[['NORAD_CAT_ID_1', 'NORAD_CAT_ID_2', 'Activity_Status']].astype(str)"
   ]
  },
  {
   "cell_type": "code",
   "execution_count": 7,
   "metadata": {},
   "outputs": [],
   "source": [
    "df['TCA'] = pd.to_datetime(df['TCA'])"
   ]
  },
  {
   "cell_type": "code",
   "execution_count": 8,
   "metadata": {},
   "outputs": [],
   "source": [
    "num_cols = ['DSE_1', 'DSE_2', 'TCA_RANGE', 'TCA_RELATIVE_SPEED', 'MAX_PROB', 'DILUTION']\n",
    "df[num_cols] = df[num_cols].apply(zscore)"
   ]
  },
  {
   "cell_type": "code",
   "execution_count": null,
   "metadata": {},
   "outputs": [],
   "source": [
    "df.to_csv(\"Cleaned_Transformed/collision_data.csv\", index = False)"
   ]
  }
 ],
 "metadata": {
  "kernelspec": {
   "display_name": "Python 3",
   "language": "python",
   "name": "python3"
  },
  "language_info": {
   "codemirror_mode": {
    "name": "ipython",
    "version": 3
   },
   "file_extension": ".py",
   "mimetype": "text/x-python",
   "name": "python",
   "nbconvert_exporter": "python",
   "pygments_lexer": "ipython3",
   "version": "3.13.2"
  }
 },
 "nbformat": 4,
 "nbformat_minor": 2
}
