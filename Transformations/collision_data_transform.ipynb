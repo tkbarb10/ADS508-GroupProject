{
 "cells": [
  {
   "cell_type": "code",
   "execution_count": 1,
   "metadata": {},
   "outputs": [],
   "source": [
    "import pandas as pd\n",
    "from scipy.stats import zscore"
   ]
  },
  {
   "cell_type": "code",
   "execution_count": 2,
   "metadata": {},
   "outputs": [],
   "source": [
    "df = pd.read_csv('C:/Users/tkbar/OneDrive/Desktop/ADS508 Final Project/ADS508-GroupProject/Data to use/simplified_collision_data.csv')"
   ]
  },
  {
   "cell_type": "code",
   "execution_count": 3,
   "metadata": {},
   "outputs": [
    {
     "data": {
      "text/plain": [
       "Index(['NORAD_CAT_ID_1', 'OBJECT_NAME_1', 'DSE_1', 'NORAD_CAT_ID_2',\n",
       "       'OBJECT_NAME_2', 'DSE_2', 'TCA', 'TCA_RANGE', 'TCA_RELATIVE_SPEED',\n",
       "       'MAX_PROB', 'DILUTION'],\n",
       "      dtype='object')"
      ]
     },
     "execution_count": 3,
     "metadata": {},
     "output_type": "execute_result"
    }
   ],
   "source": [
    "df.columns"
   ]
  },
  {
   "cell_type": "code",
   "execution_count": 12,
   "metadata": {},
   "outputs": [
    {
     "name": "stdout",
     "output_type": "stream",
     "text": [
      "<class 'pandas.core.frame.DataFrame'>\n",
      "RangeIndex: 80377 entries, 0 to 80376\n",
      "Data columns (total 11 columns):\n",
      " #   Column              Non-Null Count  Dtype         \n",
      "---  ------              --------------  -----         \n",
      " 0   NORAD_CAT_ID_1      80377 non-null  object        \n",
      " 1   OBJECT_NAME_1       80377 non-null  object        \n",
      " 2   DSE_1               80377 non-null  float64       \n",
      " 3   NORAD_CAT_ID_2      80377 non-null  object        \n",
      " 4   OBJECT_NAME_2       80377 non-null  object        \n",
      " 5   DSE_2               80377 non-null  float64       \n",
      " 6   TCA                 80377 non-null  datetime64[ns]\n",
      " 7   TCA_RANGE           80377 non-null  float64       \n",
      " 8   TCA_RELATIVE_SPEED  80377 non-null  float64       \n",
      " 9   MAX_PROB            80377 non-null  float64       \n",
      " 10  DILUTION            80377 non-null  float64       \n",
      "dtypes: datetime64[ns](1), float64(6), object(4)\n",
      "memory usage: 6.7+ MB\n"
     ]
    }
   ],
   "source": [
    "df.info()"
   ]
  },
  {
   "cell_type": "code",
   "execution_count": 5,
   "metadata": {},
   "outputs": [
    {
     "data": {
      "text/html": [
       "<div>\n",
       "<style scoped>\n",
       "    .dataframe tbody tr th:only-of-type {\n",
       "        vertical-align: middle;\n",
       "    }\n",
       "\n",
       "    .dataframe tbody tr th {\n",
       "        vertical-align: top;\n",
       "    }\n",
       "\n",
       "    .dataframe thead th {\n",
       "        text-align: right;\n",
       "    }\n",
       "</style>\n",
       "<table border=\"1\" class=\"dataframe\">\n",
       "  <thead>\n",
       "    <tr style=\"text-align: right;\">\n",
       "      <th></th>\n",
       "      <th>NORAD_CAT_ID_1</th>\n",
       "      <th>OBJECT_NAME_1</th>\n",
       "      <th>DSE_1</th>\n",
       "      <th>NORAD_CAT_ID_2</th>\n",
       "      <th>OBJECT_NAME_2</th>\n",
       "      <th>DSE_2</th>\n",
       "      <th>TCA</th>\n",
       "      <th>TCA_RANGE</th>\n",
       "      <th>TCA_RELATIVE_SPEED</th>\n",
       "      <th>MAX_PROB</th>\n",
       "      <th>DILUTION</th>\n",
       "    </tr>\n",
       "  </thead>\n",
       "  <tbody>\n",
       "    <tr>\n",
       "      <th>0</th>\n",
       "      <td>48379</td>\n",
       "      <td>STARLINK-2612 [+]</td>\n",
       "      <td>7.424</td>\n",
       "      <td>33314</td>\n",
       "      <td>RAPIDEYE 1 [-]</td>\n",
       "      <td>7.726</td>\n",
       "      <td>2025-03-18 10:36:24.650</td>\n",
       "      <td>0.018</td>\n",
       "      <td>6.833</td>\n",
       "      <td>0.243800</td>\n",
       "      <td>0.005</td>\n",
       "    </tr>\n",
       "    <tr>\n",
       "      <th>1</th>\n",
       "      <td>56155</td>\n",
       "      <td>PIESAT C [+]</td>\n",
       "      <td>7.671</td>\n",
       "      <td>56156</td>\n",
       "      <td>PIESAT D [+]</td>\n",
       "      <td>7.671</td>\n",
       "      <td>2025-03-18 06:42:02.541</td>\n",
       "      <td>0.027</td>\n",
       "      <td>0.001</td>\n",
       "      <td>0.005994</td>\n",
       "      <td>0.006</td>\n",
       "    </tr>\n",
       "    <tr>\n",
       "      <th>2</th>\n",
       "      <td>45394</td>\n",
       "      <td>STARLINK-1292 [+]</td>\n",
       "      <td>6.801</td>\n",
       "      <td>49027</td>\n",
       "      <td>TIANQI-15 [+]</td>\n",
       "      <td>6.104</td>\n",
       "      <td>2025-03-17 13:58:44.363</td>\n",
       "      <td>0.034</td>\n",
       "      <td>10.515</td>\n",
       "      <td>0.077890</td>\n",
       "      <td>0.011</td>\n",
       "    </tr>\n",
       "    <tr>\n",
       "      <th>3</th>\n",
       "      <td>40030</td>\n",
       "      <td>DTUSAT-2 [+]</td>\n",
       "      <td>7.650</td>\n",
       "      <td>45388</td>\n",
       "      <td>STARLINK-1280 [+]</td>\n",
       "      <td>7.710</td>\n",
       "      <td>2025-03-18 12:43:07.735</td>\n",
       "      <td>0.040</td>\n",
       "      <td>10.447</td>\n",
       "      <td>0.057940</td>\n",
       "      <td>0.013</td>\n",
       "    </tr>\n",
       "    <tr>\n",
       "      <th>4</th>\n",
       "      <td>51057</td>\n",
       "      <td>KEPLER-16 (ASTRAEUS) [+]</td>\n",
       "      <td>5.305</td>\n",
       "      <td>56205</td>\n",
       "      <td>FACSAT-2 [+]</td>\n",
       "      <td>4.570</td>\n",
       "      <td>2025-03-16 01:29:22.126</td>\n",
       "      <td>0.045</td>\n",
       "      <td>15.169</td>\n",
       "      <td>0.000788</td>\n",
       "      <td>0.029</td>\n",
       "    </tr>\n",
       "  </tbody>\n",
       "</table>\n",
       "</div>"
      ],
      "text/plain": [
       "   NORAD_CAT_ID_1             OBJECT_NAME_1  DSE_1  NORAD_CAT_ID_2  \\\n",
       "0           48379         STARLINK-2612 [+]  7.424           33314   \n",
       "1           56155              PIESAT C [+]  7.671           56156   \n",
       "2           45394         STARLINK-1292 [+]  6.801           49027   \n",
       "3           40030              DTUSAT-2 [+]  7.650           45388   \n",
       "4           51057  KEPLER-16 (ASTRAEUS) [+]  5.305           56205   \n",
       "\n",
       "       OBJECT_NAME_2  DSE_2                      TCA  TCA_RANGE  \\\n",
       "0     RAPIDEYE 1 [-]  7.726  2025-03-18 10:36:24.650      0.018   \n",
       "1       PIESAT D [+]  7.671  2025-03-18 06:42:02.541      0.027   \n",
       "2      TIANQI-15 [+]  6.104  2025-03-17 13:58:44.363      0.034   \n",
       "3  STARLINK-1280 [+]  7.710  2025-03-18 12:43:07.735      0.040   \n",
       "4       FACSAT-2 [+]  4.570  2025-03-16 01:29:22.126      0.045   \n",
       "\n",
       "   TCA_RELATIVE_SPEED  MAX_PROB  DILUTION  \n",
       "0               6.833  0.243800     0.005  \n",
       "1               0.001  0.005994     0.006  \n",
       "2              10.515  0.077890     0.011  \n",
       "3              10.447  0.057940     0.013  \n",
       "4              15.169  0.000788     0.029  "
      ]
     },
     "execution_count": 5,
     "metadata": {},
     "output_type": "execute_result"
    }
   ],
   "source": [
    "df.head()"
   ]
  },
  {
   "cell_type": "code",
   "execution_count": 8,
   "metadata": {},
   "outputs": [],
   "source": [
    "df[['NORAD_CAT_ID_1', 'NORAD_CAT_ID_2']] = df[['NORAD_CAT_ID_1', 'NORAD_CAT_ID_2']].astype(str)"
   ]
  },
  {
   "cell_type": "code",
   "execution_count": 11,
   "metadata": {},
   "outputs": [],
   "source": [
    "df['TCA'] = pd.to_datetime(df['TCA'])"
   ]
  },
  {
   "cell_type": "code",
   "execution_count": 10,
   "metadata": {},
   "outputs": [],
   "source": [
    "num_cols = ['DSE_1', 'DSE_2', 'TCA_RANGE', 'TCA_RELATIVE_SPEED', 'MAX_PROB', 'DILUTION']\n",
    "df[num_cols] = df[num_cols].apply(zscore)"
   ]
  },
  {
   "cell_type": "code",
   "execution_count": null,
   "metadata": {},
   "outputs": [],
   "source": []
  }
 ],
 "metadata": {
  "kernelspec": {
   "display_name": "Python 3",
   "language": "python",
   "name": "python3"
  },
  "language_info": {
   "codemirror_mode": {
    "name": "ipython",
    "version": 3
   },
   "file_extension": ".py",
   "mimetype": "text/x-python",
   "name": "python",
   "nbconvert_exporter": "python",
   "pygments_lexer": "ipython3",
   "version": "3.13.2"
  }
 },
 "nbformat": 4,
 "nbformat_minor": 2
}
