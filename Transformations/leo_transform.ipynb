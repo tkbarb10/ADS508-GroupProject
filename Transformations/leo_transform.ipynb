{
 "cells": [
  {
   "cell_type": "code",
   "execution_count": 1,
   "metadata": {},
   "outputs": [],
   "source": [
    "import pandas as pd\n",
    "from scipy.stats import zscore"
   ]
  },
  {
   "cell_type": "code",
   "execution_count": 5,
   "metadata": {},
   "outputs": [
    {
     "data": {
      "text/plain": [
       "'c:\\\\Users\\\\tkbar\\\\OneDrive\\\\Desktop\\\\ADS508 Final Project\\\\ADS508-GroupProject\\\\Transformations'"
      ]
     },
     "execution_count": 5,
     "metadata": {},
     "output_type": "execute_result"
    }
   ],
   "source": [
    "import os\n",
    "os.getcwd()"
   ]
  },
  {
   "cell_type": "code",
   "execution_count": 7,
   "metadata": {},
   "outputs": [],
   "source": [
    "df = pd.read_csv(\"c:\\\\Users\\\\tkbar\\\\OneDrive\\\\Desktop\\\\ADS508 Final Project\\\\ADS508-GroupProject\\\\Data to use\\\\leo_objects.csv\")"
   ]
  },
  {
   "cell_type": "code",
   "execution_count": 53,
   "metadata": {},
   "outputs": [],
   "source": [
    "columns_to_drop = ['Unnamed: 0', 'DECAY', 'COMMENT', 'COMMENTCODE', 'FILE', 'LAUNCH_YEAR', 'LAUNCH_PIECE', 'LAUNCH_NUM', 'RCSVALUE', \n",
    "                   'OBJECT_NUMBER', 'OBJECT_ID', 'OBJECT_NAME', 'CURRENT']"
   ]
  },
  {
   "cell_type": "code",
   "execution_count": 54,
   "metadata": {},
   "outputs": [],
   "source": [
    "df = df.drop(columns = columns_to_drop)"
   ]
  },
  {
   "cell_type": "code",
   "execution_count": 47,
   "metadata": {},
   "outputs": [
    {
     "data": {
      "text/plain": [
       "Index(['INTLDES', 'NORAD_CAT_ID', 'OBJECT_TYPE', 'SATNAME', 'COUNTRY',\n",
       "       'LAUNCH', 'SITE', 'PERIOD', 'INCLINATION', 'APOGEE', 'PERIGEE',\n",
       "       'RCSVALUE'],\n",
       "      dtype='object')"
      ]
     },
     "execution_count": 47,
     "metadata": {},
     "output_type": "execute_result"
    }
   ],
   "source": [
    "df.columns"
   ]
  },
  {
   "cell_type": "code",
   "execution_count": 64,
   "metadata": {},
   "outputs": [
    {
     "name": "stdout",
     "output_type": "stream",
     "text": [
      "<class 'pandas.core.frame.DataFrame'>\n",
      "RangeIndex: 24062 entries, 0 to 24061\n",
      "Data columns (total 12 columns):\n",
      " #   Column        Non-Null Count  Dtype  \n",
      "---  ------        --------------  -----  \n",
      " 0   INTLDES       24062 non-null  object \n",
      " 1   NORAD_CAT_ID  24062 non-null  object \n",
      " 2   OBJECT_TYPE   24062 non-null  object \n",
      " 3   SATNAME       24062 non-null  object \n",
      " 4   COUNTRY       24062 non-null  object \n",
      " 5   LAUNCH        24062 non-null  object \n",
      " 6   SITE          24062 non-null  object \n",
      " 7   PERIOD        24062 non-null  float64\n",
      " 8   INCLINATION   24062 non-null  float64\n",
      " 9   APOGEE        24062 non-null  int64  \n",
      " 10  PERIGEE       24062 non-null  int64  \n",
      " 11  RCS_SIZE      23778 non-null  object \n",
      "dtypes: float64(2), int64(2), object(8)\n",
      "memory usage: 2.2+ MB\n"
     ]
    }
   ],
   "source": [
    "df.info()"
   ]
  },
  {
   "cell_type": "code",
   "execution_count": null,
   "metadata": {},
   "outputs": [],
   "source": [
    "# change norad cat id from int to string and change launch to date value\n",
    "\n",
    "df['NORAD_CAT_ID'] = df['NORAD_CAT_ID'].astype('str')\n",
    "df['LAUNCH'] = pd.to_datetime(df['LAUNCH'])"
   ]
  },
  {
   "cell_type": "code",
   "execution_count": 67,
   "metadata": {},
   "outputs": [
    {
     "data": {
      "text/html": [
       "<div>\n",
       "<style scoped>\n",
       "    .dataframe tbody tr th:only-of-type {\n",
       "        vertical-align: middle;\n",
       "    }\n",
       "\n",
       "    .dataframe tbody tr th {\n",
       "        vertical-align: top;\n",
       "    }\n",
       "\n",
       "    .dataframe thead th {\n",
       "        text-align: right;\n",
       "    }\n",
       "</style>\n",
       "<table border=\"1\" class=\"dataframe\">\n",
       "  <thead>\n",
       "    <tr style=\"text-align: right;\">\n",
       "      <th></th>\n",
       "      <th>INTLDES</th>\n",
       "      <th>NORAD_CAT_ID</th>\n",
       "      <th>OBJECT_TYPE</th>\n",
       "      <th>SATNAME</th>\n",
       "      <th>COUNTRY</th>\n",
       "      <th>LAUNCH</th>\n",
       "      <th>SITE</th>\n",
       "      <th>PERIOD</th>\n",
       "      <th>INCLINATION</th>\n",
       "      <th>APOGEE</th>\n",
       "      <th>PERIGEE</th>\n",
       "      <th>RCS_SIZE</th>\n",
       "    </tr>\n",
       "  </thead>\n",
       "  <tbody>\n",
       "    <tr>\n",
       "      <th>122</th>\n",
       "      <td>1960-009D</td>\n",
       "      <td>52</td>\n",
       "      <td>DEBRIS</td>\n",
       "      <td>ECHO 1 DEB (MYLAR OBJ)</td>\n",
       "      <td>US</td>\n",
       "      <td>1960-08-12</td>\n",
       "      <td>AFETR</td>\n",
       "      <td>118.26</td>\n",
       "      <td>47.38</td>\n",
       "      <td>1711</td>\n",
       "      <td>1494</td>\n",
       "      <td>NaN</td>\n",
       "    </tr>\n",
       "    <tr>\n",
       "      <th>132</th>\n",
       "      <td>2019-039S</td>\n",
       "      <td>45001</td>\n",
       "      <td>DEBRIS</td>\n",
       "      <td>COSMOS 2535 DEB</td>\n",
       "      <td>CIS</td>\n",
       "      <td>2019-07-10</td>\n",
       "      <td>PKMTR</td>\n",
       "      <td>100.53</td>\n",
       "      <td>97.05</td>\n",
       "      <td>973</td>\n",
       "      <td>595</td>\n",
       "      <td>NaN</td>\n",
       "    </tr>\n",
       "    <tr>\n",
       "      <th>136</th>\n",
       "      <td>2013-076V</td>\n",
       "      <td>45032</td>\n",
       "      <td>DEBRIS</td>\n",
       "      <td>COSMOS 2491 DEB</td>\n",
       "      <td>CIS</td>\n",
       "      <td>2013-12-25</td>\n",
       "      <td>PKMTR</td>\n",
       "      <td>114.44</td>\n",
       "      <td>82.49</td>\n",
       "      <td>1506</td>\n",
       "      <td>1354</td>\n",
       "      <td>NaN</td>\n",
       "    </tr>\n",
       "    <tr>\n",
       "      <th>137</th>\n",
       "      <td>2013-076L</td>\n",
       "      <td>44990</td>\n",
       "      <td>DEBRIS</td>\n",
       "      <td>COSMOS 2491 DEB</td>\n",
       "      <td>CIS</td>\n",
       "      <td>2013-12-25</td>\n",
       "      <td>PKMTR</td>\n",
       "      <td>114.96</td>\n",
       "      <td>82.48</td>\n",
       "      <td>1491</td>\n",
       "      <td>1416</td>\n",
       "      <td>NaN</td>\n",
       "    </tr>\n",
       "    <tr>\n",
       "      <th>195</th>\n",
       "      <td>1980-019A</td>\n",
       "      <td>11720</td>\n",
       "      <td>PAYLOAD</td>\n",
       "      <td>OPS 7245</td>\n",
       "      <td>US</td>\n",
       "      <td>1980-03-03</td>\n",
       "      <td>AFWTR</td>\n",
       "      <td>94.24</td>\n",
       "      <td>63.24</td>\n",
       "      <td>756</td>\n",
       "      <td>208</td>\n",
       "      <td>NaN</td>\n",
       "    </tr>\n",
       "    <tr>\n",
       "      <th>233</th>\n",
       "      <td>1996-029E</td>\n",
       "      <td>23936</td>\n",
       "      <td>PAYLOAD</td>\n",
       "      <td>USA 123</td>\n",
       "      <td>US</td>\n",
       "      <td>1996-05-12</td>\n",
       "      <td>AFWTR</td>\n",
       "      <td>95.97</td>\n",
       "      <td>63.30</td>\n",
       "      <td>814</td>\n",
       "      <td>317</td>\n",
       "      <td>NaN</td>\n",
       "    </tr>\n",
       "    <tr>\n",
       "      <th>347</th>\n",
       "      <td>2003-008E</td>\n",
       "      <td>28245</td>\n",
       "      <td>DEBRIS</td>\n",
       "      <td>DELTA 4 DEB</td>\n",
       "      <td>US</td>\n",
       "      <td>2003-03-11</td>\n",
       "      <td>AFETR</td>\n",
       "      <td>107.15</td>\n",
       "      <td>25.45</td>\n",
       "      <td>1994</td>\n",
       "      <td>196</td>\n",
       "      <td>NaN</td>\n",
       "    </tr>\n",
       "    <tr>\n",
       "      <th>348</th>\n",
       "      <td>2005-016A</td>\n",
       "      <td>28646</td>\n",
       "      <td>PAYLOAD</td>\n",
       "      <td>USA 182</td>\n",
       "      <td>US</td>\n",
       "      <td>2005-04-30</td>\n",
       "      <td>AFETR</td>\n",
       "      <td>99.18</td>\n",
       "      <td>57.01</td>\n",
       "      <td>724</td>\n",
       "      <td>715</td>\n",
       "      <td>NaN</td>\n",
       "    </tr>\n",
       "    <tr>\n",
       "      <th>349</th>\n",
       "      <td>2005-042A</td>\n",
       "      <td>28888</td>\n",
       "      <td>PAYLOAD</td>\n",
       "      <td>USA 186</td>\n",
       "      <td>US</td>\n",
       "      <td>2005-10-19</td>\n",
       "      <td>AFWTR</td>\n",
       "      <td>91.78</td>\n",
       "      <td>96.89</td>\n",
       "      <td>466</td>\n",
       "      <td>264</td>\n",
       "      <td>NaN</td>\n",
       "    </tr>\n",
       "    <tr>\n",
       "      <th>350</th>\n",
       "      <td>2011-002A</td>\n",
       "      <td>37348</td>\n",
       "      <td>PAYLOAD</td>\n",
       "      <td>USA 224</td>\n",
       "      <td>US</td>\n",
       "      <td>2011-01-20</td>\n",
       "      <td>AFWTR</td>\n",
       "      <td>96.70</td>\n",
       "      <td>97.94</td>\n",
       "      <td>948</td>\n",
       "      <td>258</td>\n",
       "      <td>NaN</td>\n",
       "    </tr>\n",
       "  </tbody>\n",
       "</table>\n",
       "</div>"
      ],
      "text/plain": [
       "       INTLDES NORAD_CAT_ID OBJECT_TYPE                 SATNAME COUNTRY  \\\n",
       "122  1960-009D           52      DEBRIS  ECHO 1 DEB (MYLAR OBJ)      US   \n",
       "132  2019-039S        45001      DEBRIS         COSMOS 2535 DEB     CIS   \n",
       "136  2013-076V        45032      DEBRIS         COSMOS 2491 DEB     CIS   \n",
       "137  2013-076L        44990      DEBRIS         COSMOS 2491 DEB     CIS   \n",
       "195  1980-019A        11720     PAYLOAD                OPS 7245      US   \n",
       "233  1996-029E        23936     PAYLOAD                 USA 123      US   \n",
       "347  2003-008E        28245      DEBRIS             DELTA 4 DEB      US   \n",
       "348  2005-016A        28646     PAYLOAD                 USA 182      US   \n",
       "349  2005-042A        28888     PAYLOAD                 USA 186      US   \n",
       "350  2011-002A        37348     PAYLOAD                 USA 224      US   \n",
       "\n",
       "         LAUNCH   SITE  PERIOD  INCLINATION  APOGEE  PERIGEE RCS_SIZE  \n",
       "122  1960-08-12  AFETR  118.26        47.38    1711     1494      NaN  \n",
       "132  2019-07-10  PKMTR  100.53        97.05     973      595      NaN  \n",
       "136  2013-12-25  PKMTR  114.44        82.49    1506     1354      NaN  \n",
       "137  2013-12-25  PKMTR  114.96        82.48    1491     1416      NaN  \n",
       "195  1980-03-03  AFWTR   94.24        63.24     756      208      NaN  \n",
       "233  1996-05-12  AFWTR   95.97        63.30     814      317      NaN  \n",
       "347  2003-03-11  AFETR  107.15        25.45    1994      196      NaN  \n",
       "348  2005-04-30  AFETR   99.18        57.01     724      715      NaN  \n",
       "349  2005-10-19  AFWTR   91.78        96.89     466      264      NaN  \n",
       "350  2011-01-20  AFWTR   96.70        97.94     948      258      NaN  "
      ]
     },
     "execution_count": 67,
     "metadata": {},
     "output_type": "execute_result"
    }
   ],
   "source": [
    "df[df['RCS_SIZE'].isna()].head(10)"
   ]
  },
  {
   "cell_type": "markdown",
   "metadata": {},
   "source": [
    "# Fill NA of RCS SIZE with distribution of corresponding object type"
   ]
  },
  {
   "cell_type": "code",
   "execution_count": 76,
   "metadata": {},
   "outputs": [
    {
     "data": {
      "text/plain": [
       "RCS_SIZE\n",
       "MEDIUM    303\n",
       "SMALL     179\n",
       "LARGE      99\n",
       "Name: count, dtype: int64"
      ]
     },
     "execution_count": 76,
     "metadata": {},
     "output_type": "execute_result"
    }
   ],
   "source": [
    "df[(df['OBJECT_TYPE'] == 'UNKNOWN') & (df['RCS_SIZE'].notna())]['RCS_SIZE'].value_counts()"
   ]
  },
  {
   "cell_type": "code",
   "execution_count": 78,
   "metadata": {},
   "outputs": [],
   "source": [
    "df_standardize = df.copy()\n",
    "\n",
    "numerical_cols = ['PERIOD', 'INCLINATION', 'APOGEE', 'PERIGEE']\n",
    "\n",
    "df_standardize[numerical_cols] = df_standardize[numerical_cols].apply(zscore)"
   ]
  }
 ],
 "metadata": {
  "kernelspec": {
   "display_name": "Python 3",
   "language": "python",
   "name": "python3"
  },
  "language_info": {
   "codemirror_mode": {
    "name": "ipython",
    "version": 3
   },
   "file_extension": ".py",
   "mimetype": "text/x-python",
   "name": "python",
   "nbconvert_exporter": "python",
   "pygments_lexer": "ipython3",
   "version": "3.13.2"
  }
 },
 "nbformat": 4,
 "nbformat_minor": 2
}
