{
 "cells": [
  {
   "cell_type": "code",
   "execution_count": 2,
   "metadata": {},
   "outputs": [],
   "source": [
    "import pandas as pd\n",
    "import numpy as np \n",
    "import matplotlib.pyplot as plt   \n",
    "import seaborn as sns\n",
    "from scipy.stats import zscore"
   ]
  },
  {
   "cell_type": "code",
   "execution_count": 11,
   "metadata": {},
   "outputs": [
    {
     "name": "stdout",
     "output_type": "stream",
     "text": [
      "(81941, 21)\n",
      "Index(['cosparId', 'vimpelId', 'satno', 'name', 'objectClass', 'mass', 'shape',\n",
      "       'width', 'height', 'depth', 'diameter', 'span', 'xSectMax', 'xSectMin',\n",
      "       'xSectAvg', 'firstEpoch', 'mission', 'predDecayDate', 'active',\n",
      "       'cataloguedFragments', 'onOrbitCataloguedFragments'],\n",
      "      dtype='object')\n"
     ]
    }
   ],
   "source": [
    "df = pd.read_parquet(\"c:\\\\Users\\\\tkbar\\\\OneDrive\\\\Desktop\\\\ADS508 Final Project\\\\ADS508-GroupProject\\\\Data to use\\\\full_esa_data.parquet\")\n",
    "\n",
    "print(df.shape)\n",
    "print(df.columns)"
   ]
  },
  {
   "cell_type": "code",
   "execution_count": 7,
   "metadata": {},
   "outputs": [
    {
     "name": "stdout",
     "output_type": "stream",
     "text": [
      "<class 'pandas.core.frame.DataFrame'>\n",
      "RangeIndex: 81941 entries, 0 to 81940\n",
      "Data columns (total 21 columns):\n",
      " #   Column                      Non-Null Count  Dtype  \n",
      "---  ------                      --------------  -----  \n",
      " 0   cosparId                    67666 non-null  object \n",
      " 1   vimpelId                    14933 non-null  float64\n",
      " 2   satno                       63052 non-null  float64\n",
      " 3   name                        67390 non-null  object \n",
      " 4   objectClass                 81941 non-null  object \n",
      " 5   mass                        34050 non-null  float64\n",
      " 6   shape                       33235 non-null  object \n",
      " 7   width                       18430 non-null  float64\n",
      " 8   height                      32680 non-null  float64\n",
      " 9   depth                       18403 non-null  float64\n",
      " 10  diameter                    14809 non-null  float64\n",
      " 11  span                        32380 non-null  float64\n",
      " 12  xSectMax                    32980 non-null  float64\n",
      " 13  xSectMin                    32980 non-null  float64\n",
      " 14  xSectAvg                    32920 non-null  float64\n",
      " 15  firstEpoch                  77837 non-null  object \n",
      " 16  mission                     22715 non-null  object \n",
      " 17  predDecayDate               39477 non-null  object \n",
      " 18  active                      11523 non-null  object \n",
      " 19  cataloguedFragments         81941 non-null  int64  \n",
      " 20  onOrbitCataloguedFragments  81941 non-null  int64  \n",
      "dtypes: float64(11), int64(2), object(8)\n",
      "memory usage: 13.1+ MB\n"
     ]
    }
   ],
   "source": [
    "df.info()"
   ]
  },
  {
   "cell_type": "code",
   "execution_count": 8,
   "metadata": {},
   "outputs": [
    {
     "data": {
      "text/html": [
       "<div>\n",
       "<style scoped>\n",
       "    .dataframe tbody tr th:only-of-type {\n",
       "        vertical-align: middle;\n",
       "    }\n",
       "\n",
       "    .dataframe tbody tr th {\n",
       "        vertical-align: top;\n",
       "    }\n",
       "\n",
       "    .dataframe thead th {\n",
       "        text-align: right;\n",
       "    }\n",
       "</style>\n",
       "<table border=\"1\" class=\"dataframe\">\n",
       "  <thead>\n",
       "    <tr style=\"text-align: right;\">\n",
       "      <th></th>\n",
       "      <th>vimpelId</th>\n",
       "      <th>satno</th>\n",
       "      <th>mass</th>\n",
       "      <th>width</th>\n",
       "      <th>height</th>\n",
       "      <th>depth</th>\n",
       "      <th>diameter</th>\n",
       "      <th>span</th>\n",
       "      <th>xSectMax</th>\n",
       "      <th>xSectMin</th>\n",
       "      <th>xSectAvg</th>\n",
       "      <th>cataloguedFragments</th>\n",
       "      <th>onOrbitCataloguedFragments</th>\n",
       "    </tr>\n",
       "  </thead>\n",
       "  <tbody>\n",
       "    <tr>\n",
       "      <th>count</th>\n",
       "      <td>1.493300e+04</td>\n",
       "      <td>63052.000000</td>\n",
       "      <td>34050.000000</td>\n",
       "      <td>18430.000000</td>\n",
       "      <td>32680.000000</td>\n",
       "      <td>18403.000000</td>\n",
       "      <td>14809.00000</td>\n",
       "      <td>32380.000000</td>\n",
       "      <td>32980.000000</td>\n",
       "      <td>32980.000000</td>\n",
       "      <td>32920.000000</td>\n",
       "      <td>81941.000000</td>\n",
       "      <td>81941.000000</td>\n",
       "    </tr>\n",
       "    <tr>\n",
       "      <th>mean</th>\n",
       "      <td>9.564043e+04</td>\n",
       "      <td>31543.718455</td>\n",
       "      <td>1807.384763</td>\n",
       "      <td>2.231862</td>\n",
       "      <td>3.278075</td>\n",
       "      <td>1.888098</td>\n",
       "      <td>2.30913</td>\n",
       "      <td>9.730365</td>\n",
       "      <td>28.481166</td>\n",
       "      <td>4.637487</td>\n",
       "      <td>17.281073</td>\n",
       "      <td>0.354926</td>\n",
       "      <td>0.175224</td>\n",
       "    </tr>\n",
       "    <tr>\n",
       "      <th>std</th>\n",
       "      <td>4.533195e+04</td>\n",
       "      <td>18220.717310</td>\n",
       "      <td>7269.503234</td>\n",
       "      <td>2.070336</td>\n",
       "      <td>5.173099</td>\n",
       "      <td>2.977385</td>\n",
       "      <td>1.43835</td>\n",
       "      <td>152.026790</td>\n",
       "      <td>101.742724</td>\n",
       "      <td>37.008288</td>\n",
       "      <td>77.054413</td>\n",
       "      <td>17.771147</td>\n",
       "      <td>11.462052</td>\n",
       "    </tr>\n",
       "    <tr>\n",
       "      <th>min</th>\n",
       "      <td>9.600000e+03</td>\n",
       "      <td>1.000000</td>\n",
       "      <td>0.001500</td>\n",
       "      <td>0.000000</td>\n",
       "      <td>0.001000</td>\n",
       "      <td>0.012000</td>\n",
       "      <td>0.00100</td>\n",
       "      <td>0.020000</td>\n",
       "      <td>0.000130</td>\n",
       "      <td>0.000000</td>\n",
       "      <td>0.000102</td>\n",
       "      <td>0.000000</td>\n",
       "      <td>0.000000</td>\n",
       "    </tr>\n",
       "    <tr>\n",
       "      <th>25%</th>\n",
       "      <td>6.921100e+04</td>\n",
       "      <td>15766.750000</td>\n",
       "      <td>130.820000</td>\n",
       "      <td>0.400000</td>\n",
       "      <td>0.300000</td>\n",
       "      <td>0.500000</td>\n",
       "      <td>1.40000</td>\n",
       "      <td>1.500000</td>\n",
       "      <td>1.375159</td>\n",
       "      <td>0.231100</td>\n",
       "      <td>1.100000</td>\n",
       "      <td>0.000000</td>\n",
       "      <td>0.000000</td>\n",
       "    </tr>\n",
       "    <tr>\n",
       "      <th>50%</th>\n",
       "      <td>7.910600e+04</td>\n",
       "      <td>31534.500000</td>\n",
       "      <td>500.000000</td>\n",
       "      <td>2.200000</td>\n",
       "      <td>1.200000</td>\n",
       "      <td>1.500000</td>\n",
       "      <td>2.40000</td>\n",
       "      <td>6.500000</td>\n",
       "      <td>16.219661</td>\n",
       "      <td>0.810000</td>\n",
       "      <td>11.087467</td>\n",
       "      <td>0.000000</td>\n",
       "      <td>0.000000</td>\n",
       "    </tr>\n",
       "    <tr>\n",
       "      <th>75%</th>\n",
       "      <td>1.412180e+05</td>\n",
       "      <td>47302.250000</td>\n",
       "      <td>1600.000000</td>\n",
       "      <td>3.700000</td>\n",
       "      <td>5.500000</td>\n",
       "      <td>2.700000</td>\n",
       "      <td>3.00000</td>\n",
       "      <td>8.990000</td>\n",
       "      <td>25.626695</td>\n",
       "      <td>4.523893</td>\n",
       "      <td>17.070629</td>\n",
       "      <td>0.000000</td>\n",
       "      <td>0.000000</td>\n",
       "    </tr>\n",
       "    <tr>\n",
       "      <th>max</th>\n",
       "      <td>1.346400e+06</td>\n",
       "      <td>63155.000000</td>\n",
       "      <td>450000.000000</td>\n",
       "      <td>72.800000</td>\n",
       "      <td>60.000000</td>\n",
       "      <td>108.500000</td>\n",
       "      <td>41.14000</td>\n",
       "      <td>19200.000000</td>\n",
       "      <td>8319.848402</td>\n",
       "      <td>1521.000000</td>\n",
       "      <td>5762.400000</td>\n",
       "      <td>3536.000000</td>\n",
       "      <td>2562.000000</td>\n",
       "    </tr>\n",
       "  </tbody>\n",
       "</table>\n",
       "</div>"
      ],
      "text/plain": [
       "           vimpelId         satno           mass         width        height  \\\n",
       "count  1.493300e+04  63052.000000   34050.000000  18430.000000  32680.000000   \n",
       "mean   9.564043e+04  31543.718455    1807.384763      2.231862      3.278075   \n",
       "std    4.533195e+04  18220.717310    7269.503234      2.070336      5.173099   \n",
       "min    9.600000e+03      1.000000       0.001500      0.000000      0.001000   \n",
       "25%    6.921100e+04  15766.750000     130.820000      0.400000      0.300000   \n",
       "50%    7.910600e+04  31534.500000     500.000000      2.200000      1.200000   \n",
       "75%    1.412180e+05  47302.250000    1600.000000      3.700000      5.500000   \n",
       "max    1.346400e+06  63155.000000  450000.000000     72.800000     60.000000   \n",
       "\n",
       "              depth     diameter          span      xSectMax      xSectMin  \\\n",
       "count  18403.000000  14809.00000  32380.000000  32980.000000  32980.000000   \n",
       "mean       1.888098      2.30913      9.730365     28.481166      4.637487   \n",
       "std        2.977385      1.43835    152.026790    101.742724     37.008288   \n",
       "min        0.012000      0.00100      0.020000      0.000130      0.000000   \n",
       "25%        0.500000      1.40000      1.500000      1.375159      0.231100   \n",
       "50%        1.500000      2.40000      6.500000     16.219661      0.810000   \n",
       "75%        2.700000      3.00000      8.990000     25.626695      4.523893   \n",
       "max      108.500000     41.14000  19200.000000   8319.848402   1521.000000   \n",
       "\n",
       "           xSectAvg  cataloguedFragments  onOrbitCataloguedFragments  \n",
       "count  32920.000000         81941.000000                81941.000000  \n",
       "mean      17.281073             0.354926                    0.175224  \n",
       "std       77.054413            17.771147                   11.462052  \n",
       "min        0.000102             0.000000                    0.000000  \n",
       "25%        1.100000             0.000000                    0.000000  \n",
       "50%       11.087467             0.000000                    0.000000  \n",
       "75%       17.070629             0.000000                    0.000000  \n",
       "max     5762.400000          3536.000000                 2562.000000  "
      ]
     },
     "execution_count": 8,
     "metadata": {},
     "output_type": "execute_result"
    }
   ],
   "source": [
    "df.describe()"
   ]
  },
  {
   "cell_type": "markdown",
   "metadata": {},
   "source": [
    "**Lot of null values so need to decide what to do with them.  We'll start be removing columns that we won't be using**"
   ]
  },
  {
   "cell_type": "code",
   "execution_count": 9,
   "metadata": {},
   "outputs": [],
   "source": [
    "columns_to_drop = ['vimpelId', 'satno', 'predDecayDate', 'active', 'mission', 'shape', 'mass', 'width', 'height', 'depth', 'xSectMax', 'xSectMin']"
   ]
  },
  {
   "cell_type": "code",
   "execution_count": 10,
   "metadata": {},
   "outputs": [
    {
     "data": {
      "text/plain": [
       "cosparId                      14275\n",
       "name                          14551\n",
       "objectClass                       0\n",
       "diameter                      67132\n",
       "span                          49561\n",
       "xSectAvg                      49021\n",
       "firstEpoch                     4104\n",
       "cataloguedFragments               0\n",
       "onOrbitCataloguedFragments        0\n",
       "dtype: int64"
      ]
     },
     "execution_count": 10,
     "metadata": {},
     "output_type": "execute_result"
    }
   ],
   "source": [
    "df.drop(columns = columns_to_drop, inplace = True)\n",
    "\n",
    "df.isna().sum()"
   ]
  },
  {
   "cell_type": "code",
   "execution_count": null,
   "metadata": {},
   "outputs": [],
   "source": [
    "# change to Date time\n",
    "\n",
    "df['firstEpoch'] = pd.to_datetime(df['firstEpoch'])"
   ]
  },
  {
   "cell_type": "markdown",
   "metadata": {},
   "source": [
    "**If all rows are NA values or 0, drop them and reassess**"
   ]
  },
  {
   "cell_type": "code",
   "execution_count": 11,
   "metadata": {},
   "outputs": [
    {
     "data": {
      "text/plain": [
       "cosparId                        458\n",
       "name                            734\n",
       "objectClass                       0\n",
       "diameter                      53315\n",
       "span                          35744\n",
       "xSectAvg                      35204\n",
       "firstEpoch                     4073\n",
       "cataloguedFragments               0\n",
       "onOrbitCataloguedFragments        0\n",
       "dtype: int64"
      ]
     },
     "execution_count": 11,
     "metadata": {},
     "output_type": "execute_result"
    }
   ],
   "source": [
    "# Lot of rows are all NA or 0, but have positive values for first Epoch, so removing those\n",
    "\n",
    "exclude_col = ['firstEpoch', 'objectClass']\n",
    "\n",
    "# Drop rows where all values (except the exclude_col) are NA or 0\n",
    "df = df[~((df.drop(columns=exclude_col).isna()) | (df.drop(columns=exclude_col) == 0)).all(axis=1)]\n",
    "\n",
    "df.isna().sum()"
   ]
  },
  {
   "cell_type": "markdown",
   "metadata": {},
   "source": [
    "**Name and object class are still necessary, so if both are null then remove, otherwise keep and deal with the other missing data as needed**"
   ]
  },
  {
   "cell_type": "code",
   "execution_count": 12,
   "metadata": {},
   "outputs": [
    {
     "data": {
      "text/plain": [
       "cosparId                        458\n",
       "name                            734\n",
       "objectClass                       0\n",
       "diameter                      53315\n",
       "span                          35744\n",
       "xSectAvg                      35204\n",
       "firstEpoch                     4073\n",
       "cataloguedFragments               0\n",
       "onOrbitCataloguedFragments        0\n",
       "dtype: int64"
      ]
     },
     "execution_count": 12,
     "metadata": {},
     "output_type": "execute_result"
    }
   ],
   "source": [
    "df_cleaned = df[~df[['cosparId', 'name']].isna().all(axis = 1)]\n",
    "\n",
    "df_cleaned.isna().sum()"
   ]
  },
  {
   "cell_type": "code",
   "execution_count": 13,
   "metadata": {},
   "outputs": [],
   "source": [
    "df_cleaned.to_csv(\"Cleaned_Data/cleaned_esa.csv\", index = False)"
   ]
  },
  {
   "cell_type": "markdown",
   "metadata": {},
   "source": [
    "# Use the data at this point to plot growth of objects with full objectClass differentiation before collapsing them into 4 classes"
   ]
  },
  {
   "cell_type": "code",
   "execution_count": 14,
   "metadata": {},
   "outputs": [
    {
     "data": {
      "text/plain": [
       "objectClass\n",
       "Payload                           22635\n",
       "Payload Fragmentation Debris      15867\n",
       "Rocket Fragmentation Debris       11853\n",
       "Rocket Body                        8162\n",
       "Payload Mission Related Object     4145\n",
       "Rocket Mission Related Object      4083\n",
       "Unknown                             719\n",
       "Payload Debris                      341\n",
       "Rocket Debris                       222\n",
       "Other Debris                         52\n",
       "Other Mission Related Object         45\n",
       "Name: count, dtype: int64"
      ]
     },
     "execution_count": 14,
     "metadata": {},
     "output_type": "execute_result"
    }
   ],
   "source": [
    "df_cleaned['objectClass'].value_counts()"
   ]
  },
  {
   "cell_type": "code",
   "execution_count": 15,
   "metadata": {},
   "outputs": [],
   "source": [
    "df_leo_predict = df_cleaned.copy()\n",
    "\n",
    "df_leo_predict['objectClass'] = df_leo_predict['objectClass'].apply(lambda x: 'Debris' if 'Debris' in x else x)\n",
    "df_leo_predict.loc[df_leo_predict['objectClass'].str.contains('Mission'), 'objectClass'] = 'Debris'"
   ]
  },
  {
   "cell_type": "code",
   "execution_count": 41,
   "metadata": {},
   "outputs": [],
   "source": [
    "standard_cols = ['diameter', 'span', 'xSectAvg', 'cataloguedFragments', 'onOrbitCataloguedFragments']\n",
    "\n",
    "df_standardized = df_leo_predict.copy()\n",
    "\n",
    "df_standardized[['diameter', 'span', 'xSectAvg']] = df_standardized[['diameter', 'span', 'xSectAvg']].apply(lambda x: x.fillna(x.median()))\n",
    "\n",
    "df_standardized[standard_cols] = df_standardized[standard_cols].apply(zscore)"
   ]
  },
  {
   "cell_type": "code",
   "execution_count": 43,
   "metadata": {},
   "outputs": [
    {
     "data": {
      "text/html": [
       "<div>\n",
       "<style scoped>\n",
       "    .dataframe tbody tr th:only-of-type {\n",
       "        vertical-align: middle;\n",
       "    }\n",
       "\n",
       "    .dataframe tbody tr th {\n",
       "        vertical-align: top;\n",
       "    }\n",
       "\n",
       "    .dataframe thead th {\n",
       "        text-align: right;\n",
       "    }\n",
       "</style>\n",
       "<table border=\"1\" class=\"dataframe\">\n",
       "  <thead>\n",
       "    <tr style=\"text-align: right;\">\n",
       "      <th></th>\n",
       "      <th>cosparId</th>\n",
       "      <th>name</th>\n",
       "      <th>objectClass</th>\n",
       "      <th>diameter</th>\n",
       "      <th>span</th>\n",
       "      <th>xSectAvg</th>\n",
       "      <th>firstEpoch</th>\n",
       "      <th>cataloguedFragments</th>\n",
       "      <th>onOrbitCataloguedFragments</th>\n",
       "    </tr>\n",
       "  </thead>\n",
       "  <tbody>\n",
       "    <tr>\n",
       "      <th>0</th>\n",
       "      <td>1964-063C</td>\n",
       "      <td>Calsphere 1</td>\n",
       "      <td>Payload</td>\n",
       "      <td>-3.007907</td>\n",
       "      <td>-0.073223</td>\n",
       "      <td>-0.260538</td>\n",
       "      <td>1964-10-06</td>\n",
       "      <td>-0.021905</td>\n",
       "      <td>-0.016767</td>\n",
       "    </tr>\n",
       "    <tr>\n",
       "      <th>1</th>\n",
       "      <td>1964-063E</td>\n",
       "      <td>Calsphere 2</td>\n",
       "      <td>Payload</td>\n",
       "      <td>0.029411</td>\n",
       "      <td>-0.073223</td>\n",
       "      <td>-0.260538</td>\n",
       "      <td>1964-10-06</td>\n",
       "      <td>-0.021905</td>\n",
       "      <td>-0.016767</td>\n",
       "    </tr>\n",
       "    <tr>\n",
       "      <th>2</th>\n",
       "      <td>1965-034C</td>\n",
       "      <td>LCS 1</td>\n",
       "      <td>Payload</td>\n",
       "      <td>0.029411</td>\n",
       "      <td>-0.065878</td>\n",
       "      <td>-0.243743</td>\n",
       "      <td>1965-05-06</td>\n",
       "      <td>-0.021905</td>\n",
       "      <td>-0.016767</td>\n",
       "    </tr>\n",
       "    <tr>\n",
       "      <th>3</th>\n",
       "      <td>1965-065E</td>\n",
       "      <td>Tempsat 1</td>\n",
       "      <td>Payload</td>\n",
       "      <td>0.029411</td>\n",
       "      <td>-0.073223</td>\n",
       "      <td>-0.260538</td>\n",
       "      <td>1965-08-13</td>\n",
       "      <td>-0.021905</td>\n",
       "      <td>-0.016767</td>\n",
       "    </tr>\n",
       "    <tr>\n",
       "      <th>4</th>\n",
       "      <td>1965-065H</td>\n",
       "      <td>Calsphere 4</td>\n",
       "      <td>Payload</td>\n",
       "      <td>0.029411</td>\n",
       "      <td>-0.072842</td>\n",
       "      <td>-0.260092</td>\n",
       "      <td>1965-08-13</td>\n",
       "      <td>-0.021905</td>\n",
       "      <td>-0.016767</td>\n",
       "    </tr>\n",
       "    <tr>\n",
       "      <th>5</th>\n",
       "      <td>1967-053A</td>\n",
       "      <td>OPS 5712 payload 160 (Calsphere IV)</td>\n",
       "      <td>Payload</td>\n",
       "      <td>0.029411</td>\n",
       "      <td>-0.071792</td>\n",
       "      <td>-0.258627</td>\n",
       "      <td>1967-05-31</td>\n",
       "      <td>-0.021905</td>\n",
       "      <td>-0.016767</td>\n",
       "    </tr>\n",
       "    <tr>\n",
       "      <th>6</th>\n",
       "      <td>1967-066E</td>\n",
       "      <td>LES 5</td>\n",
       "      <td>Payload</td>\n",
       "      <td>-1.757247</td>\n",
       "      <td>-0.060440</td>\n",
       "      <td>-0.222033</td>\n",
       "      <td>1967-07-01</td>\n",
       "      <td>-0.021905</td>\n",
       "      <td>-0.016767</td>\n",
       "    </tr>\n",
       "    <tr>\n",
       "      <th>7</th>\n",
       "      <td>1967-053F</td>\n",
       "      <td>Surcal 159 (Calsphere III)</td>\n",
       "      <td>Payload</td>\n",
       "      <td>0.029411</td>\n",
       "      <td>-0.072842</td>\n",
       "      <td>-0.260092</td>\n",
       "      <td>1967-05-31</td>\n",
       "      <td>-0.021905</td>\n",
       "      <td>-0.016767</td>\n",
       "    </tr>\n",
       "    <tr>\n",
       "      <th>8</th>\n",
       "      <td>1967-053H</td>\n",
       "      <td>OPS 5712 payload 153 (NRL PL153)</td>\n",
       "      <td>Payload</td>\n",
       "      <td>0.029411</td>\n",
       "      <td>0.095062</td>\n",
       "      <td>-0.236360</td>\n",
       "      <td>1967-05-31</td>\n",
       "      <td>-0.021905</td>\n",
       "      <td>-0.016767</td>\n",
       "    </tr>\n",
       "    <tr>\n",
       "      <th>9</th>\n",
       "      <td>1967-053J</td>\n",
       "      <td>Surcal 150B (NRL PL150B)</td>\n",
       "      <td>Payload</td>\n",
       "      <td>0.029411</td>\n",
       "      <td>-0.074750</td>\n",
       "      <td>-0.261317</td>\n",
       "      <td>1967-05-31</td>\n",
       "      <td>-0.021905</td>\n",
       "      <td>-0.016767</td>\n",
       "    </tr>\n",
       "  </tbody>\n",
       "</table>\n",
       "</div>"
      ],
      "text/plain": [
       "    cosparId                                 name objectClass  diameter  \\\n",
       "0  1964-063C                          Calsphere 1     Payload -3.007907   \n",
       "1  1964-063E                          Calsphere 2     Payload  0.029411   \n",
       "2  1965-034C                                LCS 1     Payload  0.029411   \n",
       "3  1965-065E                            Tempsat 1     Payload  0.029411   \n",
       "4  1965-065H                          Calsphere 4     Payload  0.029411   \n",
       "5  1967-053A  OPS 5712 payload 160 (Calsphere IV)     Payload  0.029411   \n",
       "6  1967-066E                                LES 5     Payload -1.757247   \n",
       "7  1967-053F           Surcal 159 (Calsphere III)     Payload  0.029411   \n",
       "8  1967-053H     OPS 5712 payload 153 (NRL PL153)     Payload  0.029411   \n",
       "9  1967-053J             Surcal 150B (NRL PL150B)     Payload  0.029411   \n",
       "\n",
       "       span  xSectAvg  firstEpoch  cataloguedFragments  \\\n",
       "0 -0.073223 -0.260538  1964-10-06            -0.021905   \n",
       "1 -0.073223 -0.260538  1964-10-06            -0.021905   \n",
       "2 -0.065878 -0.243743  1965-05-06            -0.021905   \n",
       "3 -0.073223 -0.260538  1965-08-13            -0.021905   \n",
       "4 -0.072842 -0.260092  1965-08-13            -0.021905   \n",
       "5 -0.071792 -0.258627  1967-05-31            -0.021905   \n",
       "6 -0.060440 -0.222033  1967-07-01            -0.021905   \n",
       "7 -0.072842 -0.260092  1967-05-31            -0.021905   \n",
       "8  0.095062 -0.236360  1967-05-31            -0.021905   \n",
       "9 -0.074750 -0.261317  1967-05-31            -0.021905   \n",
       "\n",
       "   onOrbitCataloguedFragments  \n",
       "0                   -0.016767  \n",
       "1                   -0.016767  \n",
       "2                   -0.016767  \n",
       "3                   -0.016767  \n",
       "4                   -0.016767  \n",
       "5                   -0.016767  \n",
       "6                   -0.016767  \n",
       "7                   -0.016767  \n",
       "8                   -0.016767  \n",
       "9                   -0.016767  "
      ]
     },
     "execution_count": 43,
     "metadata": {},
     "output_type": "execute_result"
    }
   ],
   "source": [
    "df_standardized.head(10)"
   ]
  }
 ],
 "metadata": {
  "kernelspec": {
   "display_name": "Python 3",
   "language": "python",
   "name": "python3"
  },
  "language_info": {
   "codemirror_mode": {
    "name": "ipython",
    "version": 3
   },
   "file_extension": ".py",
   "mimetype": "text/x-python",
   "name": "python",
   "nbconvert_exporter": "python",
   "pygments_lexer": "ipython3",
   "version": "3.13.2"
  }
 },
 "nbformat": 4,
 "nbformat_minor": 2
}
