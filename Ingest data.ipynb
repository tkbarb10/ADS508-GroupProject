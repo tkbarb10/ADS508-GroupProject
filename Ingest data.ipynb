{
 "cells": [
  {
   "cell_type": "code",
   "execution_count": 1,
   "id": "822b2b7b-1f53-48ee-9f69-9cafa71e2288",
   "metadata": {},
   "outputs": [
    {
     "name": "stdout",
     "output_type": "stream",
     "text": [
      "sagemaker.config INFO - Not applying SDK defaults from location: /etc/xdg/sagemaker/config.yaml\n",
      "sagemaker.config INFO - Not applying SDK defaults from location: /home/sagemaker-user/.config/sagemaker/config.yaml\n"
     ]
    }
   ],
   "source": [
    "import boto3\n",
    "import sagemaker\n",
    "import pandas as pd\n",
    "\n",
    "sess = sagemaker.Session()\n",
    "bucket = sess.default_bucket()\n",
    "role = sagemaker.get_execution_role()\n",
    "region = boto3.Session().region_name\n",
    "account_id = boto3.client(\"sts\").get_caller_identity().get(\"Account\")\n",
    "\n",
    "sm = boto3.Session().client(service_name=\"sagemaker\", region_name=region)"
   ]
  },
  {
   "cell_type": "code",
   "execution_count": 3,
   "id": "1ba687e8-a167-407f-8508-51de3450a808",
   "metadata": {},
   "outputs": [
    {
     "name": "stdout",
     "output_type": "stream",
     "text": [
      "upload: Data to use/full_esa_data.parquet to s3://sagemaker-us-east-1-266917422334/data/full_esa_folder/full_esa_data.parquet\n"
     ]
    }
   ],
   "source": [
    "!aws s3 cp \"Data to use/full_esa_data.parquet\" \"s3://sagemaker-us-east-1-266917422334/data/full_esa_folder/\"\n",
    "!aws s3 cp \"Data to use/full_satcat.csv\" \"s3://sagemaker-us-east-1-266917422334/data/satcat_folder/\"\n",
    "!aws s3 cp \"Data to use/leo_objects.csv\" \"s3://sagemaker-us-east-1-266917422334/data/leo_objects_folder/\"\n",
    "!aws s3 cp \"Data to use/lost_objects.csv\" \"s3://sagemaker-us-east-1-266917422334/data/lost_objects_folder/\"\n",
    "!aws s3 cp \"Data to use/simplified_collision_data.csv\" \"s3://sagemaker-us-east-1-266917422334/data/simplified_collision_folder/\""
   ]
  },
  {
   "cell_type": "code",
   "execution_count": null,
   "id": "309d5e70-dfe1-4656-80c6-ca1dd95e7a72",
   "metadata": {},
   "outputs": [],
   "source": []
  }
 ],
 "metadata": {
  "kernelspec": {
   "display_name": "Python 3 (ipykernel)",
   "language": "python",
   "name": "python3"
  },
  "language_info": {
   "codemirror_mode": {
    "name": "ipython",
    "version": 3
   },
   "file_extension": ".py",
   "mimetype": "text/x-python",
   "name": "python",
   "nbconvert_exporter": "python",
   "pygments_lexer": "ipython3",
   "version": "3.11.11"
  }
 },
 "nbformat": 4,
 "nbformat_minor": 5
}
