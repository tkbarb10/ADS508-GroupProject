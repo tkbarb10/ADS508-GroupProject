{
 "cells": [
  {
   "cell_type": "code",
   "execution_count": 1,
   "id": "1ac5aa3c-0a1f-467b-bafd-2585600b7108",
   "metadata": {},
   "outputs": [
    {
     "name": "stdout",
     "output_type": "stream",
     "text": [
      "2024-11-02 16:07:40          0 \n",
      "2024-11-02 16:07:40 3629753164 amazon_reviews_multilingual_US_v1_00.tsv\n",
      "2024-11-02 16:07:40 1971061630 amazon_reviews_us_Apparel_v1_00.tsv\n",
      "2024-11-02 16:07:40 1350294084 amazon_reviews_us_Automotive_v1_00.tsv\n",
      "2024-11-02 16:07:40  872274720 amazon_reviews_us_Baby_v1_00.tsv\n",
      "2024-11-02 16:07:40 2152186111 amazon_reviews_us_Beauty_v1_00.tsv\n",
      "2024-11-02 16:08:05 3238702530 amazon_reviews_us_Books_v1_02.tsv\n",
      "2024-11-02 16:08:15 1100169988 amazon_reviews_us_Camera_v1_00.tsv\n",
      "2024-11-02 16:08:33 3224038446 amazon_reviews_us_Digital_Ebook_Purchase_v1_01.tsv\n",
      "2024-11-02 16:08:37  628880453 amazon_reviews_us_Digital_Music_Purchase_v1_00.tsv\n",
      "2024-11-02 16:08:44   53855391 amazon_reviews_us_Digital_Software_v1_00.tsv\n",
      "2024-11-02 16:08:46 1288048833 amazon_reviews_us_Digital_Video_Download_v1_00.tsv\n",
      "2024-11-02 16:08:54   73154460 amazon_reviews_us_Digital_Video_Games_v1_00.tsv\n",
      "2024-11-02 16:08:57 1725988504 amazon_reviews_us_Electronics_v1_00.tsv\n",
      "2024-11-02 16:09:18  366979553 amazon_reviews_us_Furniture_v1_00.tsv\n",
      "2024-11-02 16:09:22   39977611 amazon_reviews_us_Gift_Card_v1_00.tsv\n",
      "2024-11-02 16:09:23  956224754 amazon_reviews_us_Grocery_v1_00.tsv\n",
      "2024-11-02 16:09:27 2422088742 amazon_reviews_us_Health_Personal_Care_v1_00.tsv\n",
      "2024-11-02 16:09:28   62977388 amazon_reviews_us_Major_Appliances_v1_00.tsv\n",
      "2024-11-02 16:09:31 1384889812 amazon_reviews_us_Mobile_Apps_v1_00.tsv\n",
      "2024-11-02 16:09:45   58221236 amazon_reviews_us_Mobile_Electronics_v1_00.tsv\n",
      "2024-11-02 16:10:10 3671037159 amazon_reviews_us_Music_v1_00.tsv\n",
      "2024-11-02 16:09:48  475220114 amazon_reviews_us_Musical_Instruments_v1_00.tsv\n",
      "2024-11-02 16:10:01 1243069057 amazon_reviews_us_Office_Products_v1_00.tsv\n",
      "2024-11-02 16:10:04 1061801717 amazon_reviews_us_Outdoors_v1_00.tsv\n",
      "2024-11-02 16:10:07 3648888910 amazon_reviews_us_PC_v1_00.tsv\n",
      "2024-11-02 16:10:31   44891575 amazon_reviews_us_Personal_Care_Appliances_v1_00.tsv\n",
      "2024-11-02 16:10:31 1227951681 amazon_reviews_us_Pet_Products_v1_00.tsv\n",
      "2024-11-02 16:10:32 1570176560 amazon_reviews_us_Shoes_v1_00.tsv\n",
      "2024-11-02 16:10:35  249565371 amazon_reviews_us_Software_v1_00.tsv\n",
      "2024-11-02 16:10:41 2007024927 amazon_reviews_us_Sports_v1_00.tsv\n",
      "2024-11-02 16:11:02  788203941 amazon_reviews_us_Tools_v1_00.tsv\n",
      "2024-11-02 16:11:14 1962834272 amazon_reviews_us_Toys_v1_00.tsv\n",
      "2024-11-02 16:11:23 3708889477 amazon_reviews_us_Video_DVD_v1_00.tsv\n",
      "2024-11-02 16:11:35 1204902329 amazon_reviews_us_Video_Games_v1_00.tsv\n",
      "2024-11-02 16:11:42  337970606 amazon_reviews_us_Video_v1_00.tsv\n",
      "2024-11-02 16:11:48  412542975 amazon_reviews_us_Watches_v1_00.tsv\n",
      "2024-11-02 16:11:51 4198056580 amazon_reviews_us_Wireless_v1_00.tsv\n"
     ]
    }
   ],
   "source": [
    "!aws s3 ls s3://usd-mads-508/amazon-reviews-pds/tsv/"
   ]
  },
  {
   "cell_type": "code",
   "execution_count": 6,
   "id": "822b2b7b-1f53-48ee-9f69-9cafa71e2288",
   "metadata": {},
   "outputs": [],
   "source": [
    "import boto3\n",
    "import sagemaker\n",
    "import pandas as pd\n",
    "\n",
    "sess = sagemaker.Session()\n",
    "bucket = sess.default_bucket()\n",
    "role = sagemaker.get_execution_role()\n",
    "region = boto3.Session().region_name\n",
    "account_id = boto3.client(\"sts\").get_caller_identity().get(\"Account\")\n",
    "\n",
    "sm = boto3.Session().client(service_name=\"sagemaker\", region_name=region)"
   ]
  },
  {
   "cell_type": "code",
   "execution_count": 8,
   "id": "d546c7d9-6608-4c7d-9707-3c0548fbee81",
   "metadata": {},
   "outputs": [],
   "source": [
    "local_directory = \"Data to use/\""
   ]
  },
  {
   "cell_type": "code",
   "execution_count": 12,
   "id": "30464805-53bc-4147-910a-172dc6c3b1ff",
   "metadata": {},
   "outputs": [
    {
     "name": "stdout",
     "output_type": "stream",
     "text": [
      "Stored 'local_directory' (str)\n"
     ]
    }
   ],
   "source": [
    "%store local_directory"
   ]
  },
  {
   "cell_type": "code",
   "execution_count": 16,
   "id": "21a6abb4-2167-40db-9fbb-e3ae626db048",
   "metadata": {},
   "outputs": [
    {
     "name": "stdout",
     "output_type": "stream",
     "text": [
      "Stored 'private_path' (str)\n"
     ]
    }
   ],
   "source": [
    "private_path = f\"s3://{bucket}/data/\"\n",
    "%store private_path"
   ]
  },
  {
   "cell_type": "raw",
   "id": "24719452-66de-4599-9c52-761e8da9b254",
   "metadata": {},
   "source": []
  },
  {
   "cell_type": "code",
   "execution_count": 24,
   "id": "1ba687e8-a167-407f-8508-51de3450a808",
   "metadata": {},
   "outputs": [
    {
     "name": "stdout",
     "output_type": "stream",
     "text": [
      "upload: Data to use/lost_objects.csv to s3://sagemaker-us-east-1-266917422334/data/lost_objects.csv\n",
      "upload: Data to use/full_esa_data.parquet to s3://sagemaker-us-east-1-266917422334/data/full_esa_data.parquet\n",
      "upload: Data to use/tracking_impact_preds.csv to s3://sagemaker-us-east-1-266917422334/data/tracking_impact_preds.csv\n",
      "upload: Data to use/space_debris.csv to s3://sagemaker-us-east-1-266917422334/data/space_debris.csv\n",
      "upload: Data to use/simplified_collision_data.csv to s3://sagemaker-us-east-1-266917422334/data/simplified_collision_data.csv\n",
      "upload: Data to use/collision_data.parquet to s3://sagemaker-us-east-1-266917422334/data/collision_data.parquet\n"
     ]
    }
   ],
   "source": [
    "!aws s3 cp --recursive \"Data to use/\" \"s3://sagemaker-us-east-1-266917422334/data/\""
   ]
  },
  {
   "cell_type": "code",
   "execution_count": 10,
   "id": "eee2fb5a-7b87-4445-b9b5-61e4cfbc5d29",
   "metadata": {},
   "outputs": [],
   "source": [
    "df = pd.read_csv(\"Data to use/lost_objects.csv\")"
   ]
  },
  {
   "cell_type": "code",
   "execution_count": 18,
   "id": "be069a5e-13db-4720-9f20-e6b9bdc00a8d",
   "metadata": {},
   "outputs": [
    {
     "data": {
      "text/plain": [
       "'s3://sagemaker-us-east-1-266917422334/data/'"
      ]
     },
     "execution_count": 18,
     "metadata": {},
     "output_type": "execute_result"
    }
   ],
   "source": [
    "private_path"
   ]
  },
  {
   "cell_type": "code",
   "execution_count": 23,
   "id": "2592c68f-e03b-4e01-a94f-fe99c11abf2e",
   "metadata": {},
   "outputs": [
    {
     "data": {
      "text/plain": [
       "'\"Data to use/\"'"
      ]
     },
     "execution_count": 23,
     "metadata": {},
     "output_type": "execute_result"
    }
   ],
   "source": [
    "f'\"{local_directory}\"'"
   ]
  },
  {
   "cell_type": "code",
   "execution_count": null,
   "id": "3ab6732a-d56c-422a-b96e-2643a9060065",
   "metadata": {},
   "outputs": [],
   "source": []
  }
 ],
 "metadata": {
  "kernelspec": {
   "display_name": "Python 3 (ipykernel)",
   "language": "python",
   "name": "python3"
  },
  "language_info": {
   "codemirror_mode": {
    "name": "ipython",
    "version": 3
   },
   "file_extension": ".py",
   "mimetype": "text/x-python",
   "name": "python",
   "nbconvert_exporter": "python",
   "pygments_lexer": "ipython3",
   "version": "3.11.11"
  }
 },
 "nbformat": 4,
 "nbformat_minor": 5
}
